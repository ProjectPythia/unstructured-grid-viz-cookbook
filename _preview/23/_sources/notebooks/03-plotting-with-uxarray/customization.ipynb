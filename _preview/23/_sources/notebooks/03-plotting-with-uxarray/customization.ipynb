{
 "cells": [
  {
   "cell_type": "markdown",
   "id": "0d315667-d148-4f56-84ca-bf1b5711a165",
   "metadata": {},
   "source": [
    "<img src=\"https://raw.githubusercontent.com/UXARRAY/uxarray/main/docs/_static/images/logos/uxarray_logo_h_dark.svg\"\n",
    "     width=\"30%\"\n",
    "     alt=\"UXarray logo\"\n",
    "     align=\"right\"\n",
    "/>\n",
    "\n",
    "# Customization & Interactivity\n",
    "\n",
    "### In this tutorial, you'll learn:\n",
    "\n",
    "* TODO: \n",
    "\n",
    "**Related UXarray Documentation**\n",
    "\n",
    "* [TODO:](https://uxarray.readthedocs.io/en/latest/user-guide/data-structures.html)\n"
   ]
  },
  {
   "cell_type": "code",
   "execution_count": null,
   "id": "3eb9ea47-4eb0-49c4-8953-45314afb3636",
   "metadata": {},
   "outputs": [],
   "source": []
  }
 ],
 "metadata": {
  "kernelspec": {
   "display_name": "Python 3 (ipykernel)",
   "language": "python",
   "name": "python3"
  },
  "language_info": {
   "codemirror_mode": {
    "name": "ipython",
    "version": 3
   },
   "file_extension": ".py",
   "mimetype": "text/x-python",
   "name": "python",
   "nbconvert_exporter": "python",
   "pygments_lexer": "ipython3",
   "version": "3.12.3"
  }
 },
 "nbformat": 4,
 "nbformat_minor": 5
}
