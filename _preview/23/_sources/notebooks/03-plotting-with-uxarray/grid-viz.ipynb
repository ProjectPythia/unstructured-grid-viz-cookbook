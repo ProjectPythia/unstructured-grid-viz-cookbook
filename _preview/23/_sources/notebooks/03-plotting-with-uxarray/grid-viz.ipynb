{
 "cells": [
  {
   "cell_type": "markdown",
   "id": "580f49cb5fde2c24",
   "metadata": {},
   "source": [
    "<img src=\"https://raw.githubusercontent.com/UXARRAY/uxarray/main/docs/_static/images/logos/uxarray_logo_h_dark.svg\"\n",
    "     width=\"30%\"\n",
    "     alt=\"UXarray logo\"\n",
    "     align=\"right\"\n",
    "/>\n",
    "\n",
    "# Grid Visualization\n",
    "\n",
    "### In this tutorial, you'll learn:\n",
    "\n",
    "* TODO: \n",
    "\n",
    "**Related Documentation**\n",
    "\n",
    "* [TODO:](https://uxarray.readthedocs.io/en/latest/user-guide/data-structures.html)\n",
    "\n",
    "### Prerequisites\n",
    "\n",
    "| Concepts | Importance | Notes |\n",
    "| --- | --- | --- |\n",
    "| [Link to Pre-Req](https://pandas.pydata.org/docs/user_guide/10min.html) | Necessary | |\n",
    "\n",
    "* **Time to learn**: x minutes\n",
    "-----\n",
    "\n"
   ]
  },
  {
   "cell_type": "code",
   "execution_count": 1,
   "id": "6bdf1449fbe884c4",
   "metadata": {
    "ExecuteTime": {
     "end_time": "2024-11-04T14:52:52.882142Z",
     "start_time": "2024-11-04T14:52:52.878757Z"
    }
   },
   "outputs": [],
   "source": [
    "# todo"
   ]
  }
 ],
 "metadata": {
  "kernelspec": {
   "display_name": "Python 3 (ipykernel)",
   "language": "python",
   "name": "python3"
  },
  "language_info": {
   "codemirror_mode": {
    "name": "ipython",
    "version": 3
   },
   "file_extension": ".py",
   "mimetype": "text/x-python",
   "name": "python",
   "nbconvert_exporter": "python",
   "pygments_lexer": "ipython3",
   "version": "3.12.3"
  }
 },
 "nbformat": 4,
 "nbformat_minor": 5
}
