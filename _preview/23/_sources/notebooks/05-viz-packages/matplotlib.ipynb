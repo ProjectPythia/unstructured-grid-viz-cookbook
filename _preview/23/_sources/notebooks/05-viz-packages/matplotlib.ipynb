{
 "cells": [
  {
   "metadata": {},
   "cell_type": "markdown",
   "source": [
    "# Matplotlib\n",
    "---"
   ],
   "id": "603ede925041bb57"
  },
  {
   "metadata": {
    "ExecuteTime": {
     "end_time": "2024-11-04T20:08:11.699420Z",
     "start_time": "2024-11-04T20:08:11.696372Z"
    }
   },
   "cell_type": "code",
   "source": "# todo",
   "id": "32f286fdac3a7845",
   "outputs": [],
   "execution_count": 1
  },
  {
   "metadata": {},
   "cell_type": "code",
   "outputs": [],
   "execution_count": null,
   "source": "",
   "id": "ed0beab11ed42e3f"
  }
 ],
 "metadata": {
  "kernelspec": {
   "display_name": "Python 3",
   "language": "python",
   "name": "python3"
  },
  "language_info": {
   "codemirror_mode": {
    "name": "ipython",
    "version": 2
   },
   "file_extension": ".py",
   "mimetype": "text/x-python",
   "name": "python",
   "nbconvert_exporter": "python",
   "pygments_lexer": "ipython2",
   "version": "2.7.6"
  }
 },
 "nbformat": 4,
 "nbformat_minor": 5
}
