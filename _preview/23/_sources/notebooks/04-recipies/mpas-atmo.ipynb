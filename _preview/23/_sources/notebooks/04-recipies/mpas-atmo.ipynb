{
 "cells": [
  {
   "cell_type": "markdown",
   "id": "9b95bd02-7b6e-41dc-b621-a8ce60fcd4c0",
   "metadata": {},
   "source": [
    "<img src=\"https://raw.githubusercontent.com/UXARRAY/uxarray/main/docs/_static/images/logos/uxarray_logo_h_dark.svg\"\n",
    "     width=\"30%\"\n",
    "     alt=\"UXarray logo\"\n",
    "     align=\"right\"\n",
    "/>\n",
    "\n",
    "# MPAS Atmosphere Model\n",
    "\n",
    "### In this recipe, you'll visualize:\n",
    "\n",
    "* 30km MPAS Atmosphere model output\n",
    "\n",
    "### Required Cookbook Sections\n",
    "\n",
    "* TODO\n",
    "-----\n",
    "\n"
   ]
  },
  {
   "metadata": {
    "ExecuteTime": {
     "end_time": "2025-01-05T23:37:51.337151Z",
     "start_time": "2025-01-05T23:37:51.332974Z"
    }
   },
   "cell_type": "code",
   "source": "# print(\"Hello World\")",
   "id": "7e23926af8d369cb",
   "outputs": [
    {
     "name": "stdout",
     "output_type": "stream",
     "text": [
      "Hello World\n"
     ]
    }
   ],
   "execution_count": 1
  },
  {
   "metadata": {},
   "cell_type": "code",
   "outputs": [],
   "execution_count": null,
   "source": "",
   "id": "d488026429dee865"
  }
 ],
 "metadata": {
  "kernelspec": {
   "display_name": "Python 3 (ipykernel)",
   "name": "python3",
   "language": "python"
  },
  "language_info": {
   "name": ""
  }
 },
 "nbformat": 4,
 "nbformat_minor": 5
}
