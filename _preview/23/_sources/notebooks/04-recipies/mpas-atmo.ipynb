{
 "cells": [
  {
   "cell_type": "markdown",
   "id": "9b95bd02-7b6e-41dc-b621-a8ce60fcd4c0",
   "metadata": {},
   "source": [
    "<img src=\"https://raw.githubusercontent.com/UXARRAY/uxarray/main/docs/_static/images/logos/uxarray_logo_h_dark.svg\"\n",
    "     width=\"30%\"\n",
    "     alt=\"UXarray logo\"\n",
    "     align=\"right\"\n",
    "/>\n",
    "\n",
    "# MPAS Atmosphere \n",
    "\n",
    "### In this recipe, you'll visualize:\n",
    "\n",
    "* 30km MPAS Atmosphere model output\n",
    "\n",
    "### Required Cookbook Sections\n",
    "\n",
    "* TODO\n",
    "-----\n",
    "\n"
   ]
  },
  {
   "cell_type": "code",
   "execution_count": null,
   "id": "43315d10-a5bc-4b25-bb2d-c62265397c91",
   "metadata": {},
   "outputs": [],
   "source": []
  }
 ],
 "metadata": {
  "kernelspec": {
   "display_name": "",
   "name": ""
  },
  "language_info": {
   "name": ""
  }
 },
 "nbformat": 4,
 "nbformat_minor": 5
}
