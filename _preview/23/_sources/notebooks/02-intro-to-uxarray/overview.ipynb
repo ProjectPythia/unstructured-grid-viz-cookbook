{
 "cells": [
  {
   "metadata": {},
   "cell_type": "markdown",
   "source": [
    "<img src=\"https://raw.githubusercontent.com/UXARRAY/uxarray/main/docs/_static/images/logos/uxarray_logo_h_dark.svg\"\n",
    "     width=\"30%\"\n",
    "     alt=\"UXarray logo\"\n",
    "     align=\"right\"\n",
    "/>\n",
    "\n",
    "# UXarray Overview\n",
    "\n",
    "### In this section, you'll learn:\n",
    "\n",
    "* What is UXarray?\n",
    "\n",
    "## Introduction\n",
    "\n",
    "## What is UXarray?\n",
    "\n",
    "## Why UXarray? \n"
   ],
   "id": "6fb3d665cd1a1ba3"
  },
  {
   "metadata": {},
   "cell_type": "code",
   "outputs": [],
   "execution_count": null,
   "source": "",
   "id": "5d846f6d09cf7a16"
  }
 ],
 "metadata": {
  "kernelspec": {
   "display_name": "Python 3",
   "language": "python",
   "name": "python3"
  },
  "language_info": {
   "codemirror_mode": {
    "name": "ipython",
    "version": 2
   },
   "file_extension": ".py",
   "mimetype": "text/x-python",
   "name": "python",
   "nbconvert_exporter": "python",
   "pygments_lexer": "ipython2",
   "version": "2.7.6"
  }
 },
 "nbformat": 4,
 "nbformat_minor": 5
}
