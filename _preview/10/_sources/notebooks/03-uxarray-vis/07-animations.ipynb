{
 "cells": [
  {
   "cell_type": "markdown",
   "source": [
    "# Interactive & Animated Plots\n",
    "---"
   ],
   "metadata": {
    "collapsed": false
   },
   "id": "766ae3323db40ec2"
  },
  {
   "cell_type": "markdown",
   "source": [
    ":::{note}\n",
    "This notebook is currently under development! Please refer to the [Interactive HoloViz Visualization](https://projectpythia.org/advanced-viz-cookbook/notebooks/interactive-holoviz-mpas.html#interactive-holoviz-plots) notebook in the Advanced Visualization Cookbook.\n",
    ":::"
   ],
   "metadata": {
    "collapsed": false
   },
   "id": "135881e235d90c09"
  }
 ],
 "metadata": {
  "kernelspec": {
   "display_name": "Python 3",
   "language": "python",
   "name": "python3"
  },
  "language_info": {
   "codemirror_mode": {
    "name": "ipython",
    "version": 2
   },
   "file_extension": ".py",
   "mimetype": "text/x-python",
   "name": "python",
   "nbconvert_exporter": "python",
   "pygments_lexer": "ipython2",
   "version": "2.7.6"
  }
 },
 "nbformat": 4,
 "nbformat_minor": 5
}
