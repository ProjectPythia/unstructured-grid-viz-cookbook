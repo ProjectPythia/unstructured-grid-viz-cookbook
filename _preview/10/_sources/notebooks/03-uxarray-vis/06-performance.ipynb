{
 "cells": [
  {
   "cell_type": "markdown",
   "metadata": {},
   "source": [
    "# Visualization at Scale\n",
    "---"
   ]
  },
  {
   "cell_type": "markdown",
   "source": [
    "When working with large datasets, it's crucial to consider the performance of each visualization method. This notebook investigates the performance and data fidelity of the previously covered methods using high-resolution grids.\n"
   ],
   "metadata": {
    "collapsed": false
   }
  },
  {
   "cell_type": "markdown",
   "source": [
    "## Benchmarked Dataset"
   ],
   "metadata": {
    "collapsed": false
   }
  },
  {
   "cell_type": "markdown",
   "source": [
    "The dataset used for the timings and examples in this notebook were provided curtesy of the [DYAMOND Initiative](https://www.google.com/search?q=dyamond&oq=dyamond&gs_lcrp=EgZjaHJvbWUyCQgAEEUYORiABDIGCAEQIxgnMgcIAhAuGIAEMgkIAxAuGAoYgAQyCQgEEAAYChiABDIHCAUQLhiABDIHCAYQLhiABDIJCAcQABgKGIAEMgcICBAAGIAEMg8ICRAAGAoYgwEYsQMYgATSAQc5NjRqMGo0qAIAsAIA&sourceid=chrome&ie=UTF-8).\n",
    "\n",
    "There are four datasets, each from the same experiment, but with different grid resolutions. The table below summarizes the scale of these datasets:\n",
    "\n",
    "| Element / Resolution | 30km      | 15km      | 7.5km      | 3.75km     |\n",
    "|----------------------|-----------|-----------|------------|------------|\n",
    "| Faces                | 655,362   | 2,621,442 | 10,485,762 | 41,943,042 |\n",
    "| Nodes                | 1,310,720 | 5,242,880 | 20,971,520 | 83,886,080 |\n",
    "\n",
    "\n"
   ],
   "metadata": {
    "collapsed": false
   }
  },
  {
   "cell_type": "markdown",
   "source": [
    "## Data Processing Timings\n",
    "\n",
    "Timings were taken on a single [NCAR Derecho Node](https://arc.ucar.edu/knowledge_base/74317833). All results are in seconds. "
   ],
   "metadata": {
    "collapsed": false
   }
  },
  {
   "cell_type": "markdown",
   "source": [
    "### Initial Run"
   ],
   "metadata": {
    "collapsed": false
   }
  },
  {
   "cell_type": "markdown",
   "source": [
    "| Visualization Method / Grid Resolution  | 30km        | 15km        | 7.5km      | 3.75km      |\n",
    "|-----------------------------------------|-------------|-------------|------------|-------------|\n",
    "| Polygon Raster (Including Antimeridian) | 28.5 | 122.2       | 463        | 1990        |\n",
    "| Polygon Raster (Excluding Antimeridian) | 1.69 (0.23) | 5.96 (0.09) | 23.1 (0.52) | 93 (1.01)   |\n",
    "| Point Raster                            | 0.13 (0.03) | 0.16 (0.01) | 0.35 (0.00) | 1.08 (0.07) |"
   ],
   "metadata": {
    "collapsed": false
   }
  },
  {
   "cell_type": "markdown",
   "source": [
    "We can see that Point Rasters are quickest, averaging about 86 times faster than Polygon Rasters (Excluding Antimeridian Polygons).\n",
    "\n",
    "Both polygon methods scale linearly with an increase in resolution. A doubling in resolution leads to about a 4x increase in the number of polygons (a.k.a polygons), which is also observed in the timings.\n",
    "\n",
    "Including antimeridian polygons leads to about a 20x slowdown across all resolutions, so it's suggested to keep `exclude_antimeridian=True` when working with larger datasets."
   ],
   "metadata": {
    "collapsed": false
   }
  },
  {
   "cell_type": "markdown",
   "source": [
    "### Subsequent Runs"
   ],
   "metadata": {
    "collapsed": false
   }
  },
  {
   "cell_type": "markdown",
   "source": [
    "| Visualization Method / Grid Resolution  | 30km        | 15km        | 7.5km       | 3.75km       |\n",
    "|-----------------------------------------|-------------|-------------|-------------|--------------|\n",
    "| Polygon Raster (Including Antimeridian) | 0.31 (0.00) | 1.32 (0.31) | 3.85 (0.06) | 14.36 (0.13) |\n",
    "| Polygon Raster (Excluding Antimeridian) | 0.30 (0.00) | 1.02 (0.36) | 3.46 (0.01) | 13.60 (0.08) |\n",
    "| Point Raster                            | 0.13 (0.03) | 0.16 (0.01) | 0.35 (0.00) | 1.08 (0.07)  |\n",
    "\n",
    "For subsequent runs (i.e. we have already run one plotting instance, which computes and caches the necessary data structures), performance for both Polygon methods is essentially identical.\n",
    "\n",
    "There is no caching currently implemented for Point Rasters, so the performance for each run is consistent with the initial run.\n",
    "\n",
    ":::{important}\n",
    "The timings above benchmark the data processing time (i.e. total time needed to transform an unstructured grid into a format that is able to be rendered). Actual visualization times will vary depending on choices in parameters.\n",
    "\n",
    "A detailed benchmark of total visualization times (i.e. data processing and rendering to screen) will be added to this notebook in the future.\n",
    ":::\n"
   ],
   "metadata": {
    "collapsed": false
   }
  },
  {
   "cell_type": "markdown",
   "source": [
    "## Polygon vs Point Rasters\n",
    "\n",
    "Both the Polygon and Point notebooks showed off how these elements could be rasterizer."
   ],
   "metadata": {
    "collapsed": false
   }
  },
  {
   "cell_type": "markdown",
   "source": [
    "### Global\n",
    "\n",
    "For certain visualization workflows, one may only be interested in observing the global trends of a data variable.\n"
   ],
   "metadata": {
    "collapsed": false
   }
  },
  {
   "cell_type": "markdown",
   "source": [
    "```Python\n",
    "uxds['relhum_200hPa'][0].plot.rasterize(method='polygon', \n",
    "                                        width=1000, height=500, exclude_antimeridian=True, \n",
    "                                        clim=clim, \n",
    "                                        title=\"Global Polygon Raster\")\n",
    "```"
   ],
   "metadata": {
    "collapsed": false
   }
  },
  {
   "cell_type": "markdown",
   "source": [
    "![Polygon Raster](../images/plots/global_polygon_raster.png)"
   ],
   "metadata": {
    "collapsed": false
   }
  },
  {
   "cell_type": "markdown",
   "source": [
    "```Python\n",
    "uxds['relhum_200hPa'][0].plot.rasterize(method='point', \n",
    "                                        width=1000, \n",
    "                                        height=500, \n",
    "                                        clim=clim, \n",
    "                                        title=\"Global Point Raster\")\n",
    "```"
   ],
   "metadata": {
    "collapsed": false
   }
  },
  {
   "cell_type": "markdown",
   "source": [
    "\n",
    "![Point Raster](../images/plots/global_point_raster.png)\n"
   ],
   "metadata": {
    "collapsed": false
   }
  },
  {
   "cell_type": "markdown",
   "source": [
    "We can see that both the Polygon and Point Rasters capture the global trend of our data variable."
   ],
   "metadata": {
    "collapsed": false
   }
  },
  {
   "cell_type": "markdown",
   "source": [
    "### Regional\n",
    "\n",
    "However, it's also common to zoom into a region of interested (i.e. Continental United States, Europe, etc.) to observe how a data variable acts on these more refined regions."
   ],
   "metadata": {
    "collapsed": false
   }
  },
  {
   "cell_type": "markdown",
   "source": [
    "```Python\n",
    "uxds['relhum_200hPa'][0].plot.rasterize(method='polygon', \n",
    "                                        width=1000, \n",
    "                                        height=500, \n",
    "                                        exclude_antimeridian=True, \n",
    "                                        dynamic=False, \n",
    "                                        xlim=(-68, -60), \n",
    "                                        ylim=(-71, -66), \n",
    "                                        clim=clim, \n",
    "                                        title=\"Regional Polygon Raster\")\n",
    "```"
   ],
   "metadata": {
    "collapsed": false
   }
  },
  {
   "cell_type": "markdown",
   "source": [
    "![Polygon Raster](../images/plots/regional_polygon_raster.png)"
   ],
   "metadata": {
    "collapsed": false
   }
  },
  {
   "cell_type": "markdown",
   "source": [
    "```Python\n",
    "uxds['relhum_200hPa'][0].plot.rasterize(method='point', \n",
    "                                        width=1000, \n",
    "                                        height=500, \n",
    "                                        dynamic=False, \n",
    "                                        xlim=(-68, -60), \n",
    "                                        ylim=(-71, -66), \n",
    "                                        clim=clim, \n",
    "                                        title=\"Regional Point Raster\")\n",
    "```"
   ],
   "metadata": {
    "collapsed": false
   }
  },
  {
   "cell_type": "markdown",
   "source": [
    "![Point Raster](../images/plots/regional_point_raster.png)"
   ],
   "metadata": {
    "collapsed": false
   }
  },
  {
   "cell_type": "markdown",
   "source": [
    "Without specifying any additional parameters, both the Polygon and Point rasters look identical.\n",
    "\n",
    "However, setting the parameter ``dynamic=True``, which dynamically performs the rasterization operations as we zoom and pan across a plot, we can start to see the differences between both types of plots.\n"
   ],
   "metadata": {
    "collapsed": false
   }
  },
  {
   "cell_type": "markdown",
   "source": [
    "```Python\n",
    "uxds['relhum_200hPa'][0].plot.rasterize(method='polygon', \n",
    "                                        width=1000, \n",
    "                                        height=500, \n",
    "                                        exclude_antimeridian=True, \n",
    "                                        dynamic=True, xlim=(-68, -60), \n",
    "                                        ylim=(-71, -66), \n",
    "                                        clim=clim, \n",
    "                                        title=\"Regional Polygon Raster (Dynamic)\")\n",
    "```"
   ],
   "metadata": {
    "collapsed": false
   }
  },
  {
   "cell_type": "markdown",
   "source": [
    "![Polygon Raster](../images/plots/regional_polygon_raster_dyn.png)\n"
   ],
   "metadata": {
    "collapsed": false
   }
  },
  {
   "cell_type": "code",
   "execution_count": null,
   "outputs": [],
   "source": [],
   "metadata": {
    "collapsed": false,
    "is_executing": true
   }
  },
  {
   "cell_type": "markdown",
   "source": [
    "```Python\n",
    "uxds['relhum_200hPa'][0].plot.rasterize(method='point', \n",
    "                                        width=1000, \n",
    "                                        height=500, \n",
    "                                        dynamic=True, xlim=(-68, -60), \n",
    "                                        ylim=(-71, -66), \n",
    "                                        clim=clim, \n",
    "                                        title=\"Regional Point Raster (Dynamic)\")\n",
    "```"
   ],
   "metadata": {
    "collapsed": false
   }
  },
  {
   "cell_type": "markdown",
   "source": [
    "![Point Raster](../images/plots/regional_point_raster_dyn.png)"
   ],
   "metadata": {
    "collapsed": false
   }
  },
  {
   "cell_type": "markdown",
   "source": [
    "The Polygon Raster can be zoomed in indefinitely, which is due to each polygon covering a region of our screen.\n",
    "\n",
    "However, zooming in to our Point Rasters exposes how each point is still simply a pair of latitude and longitude coordinates, without any sense of area. After a certain point, there isn't enough points to sample into a uniform looking raster image, and we are left with an approximation the individual points.\n",
    "\n",
    "\n",
    "\n",
    "Zooming in even further with the Polygon Raster, we can start to see each individual cell, even at such a high resolution.\n",
    "\n",
    "![Polygon Raster](../images/plots/polygon_raster_regional_dyn_zoomed.png)"
   ],
   "metadata": {
    "collapsed": false
   }
  }
 ],
 "metadata": {
  "kernelspec": {
   "display_name": "Python 3 (ipykernel)",
   "language": "python",
   "name": "python3"
  },
  "language_info": {
   "codemirror_mode": {
    "name": "ipython",
    "version": 3
   },
   "file_extension": ".py",
   "mimetype": "text/x-python",
   "name": "python",
   "nbconvert_exporter": "python",
   "pygments_lexer": "ipython3",
   "version": "3.10.11"
  },
  "nbdime-conflicts": {
   "local_diff": [
    {
     "diff": [
      {
       "diff": [
        {
         "key": 0,
         "op": "addrange",
         "valuelist": [
          "Python 3"
         ]
        },
        {
         "key": 0,
         "length": 1,
         "op": "removerange"
        }
       ],
       "key": "display_name",
       "op": "patch"
      }
     ],
     "key": "kernelspec",
     "op": "patch"
    }
   ],
   "remote_diff": [
    {
     "diff": [
      {
       "diff": [
        {
         "key": 0,
         "op": "addrange",
         "valuelist": [
          "Python3"
         ]
        },
        {
         "key": 0,
         "length": 1,
         "op": "removerange"
        }
       ],
       "key": "display_name",
       "op": "patch"
      }
     ],
     "key": "kernelspec",
     "op": "patch"
    }
   ]
  },
  "toc-autonumbering": false
 },
 "nbformat": 4,
 "nbformat_minor": 4
}
