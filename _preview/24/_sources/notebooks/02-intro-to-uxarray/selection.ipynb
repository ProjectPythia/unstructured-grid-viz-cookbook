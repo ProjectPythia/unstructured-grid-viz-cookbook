{
 "cells": [
  {
   "cell_type": "markdown",
   "id": "d5886a2c-ebd2-4e80-8aa7-b111d74c76fb",
   "metadata": {},
   "source": [
    "<img src=\"https://raw.githubusercontent.com/UXARRAY/uxarray/main/docs/_static/images/logos/uxarray_logo_h_dark.svg\"\n",
    "     width=\"30%\"\n",
    "     alt=\"UXarray logo\"\n",
    "     align=\"right\"\n",
    "/>\n",
    "\n",
    "# Spatial Selection Operators\n",
    "\n",
    "### In this tutorial, you'll learn:\n",
    "\n",
    "* How can I obtain a \n",
    "\n",
    "\n",
    "### Related Documentation\n",
    "\n",
    "* [UXarray Subsetting Documentation](https://uxarray.readthedocs.io/en/latest/user-guide/subset.html)\n",
    "* [UXarray Cross-Section Documentation](https://uxarray.readthedocs.io/en/latest/user-guide/cross-sections.html)\n",
    "\n",
    "### Prerequisites\n",
    "\n",
    "| Concepts | Importance | Notes |\n",
    "| --- | --- | --- |\n",
    "| [Link to Pre-Req](https://pandas.pydata.org/docs/user_guide/10min.html) | Necessary | |\n",
    "\n",
    "* **Time to learn**: x minutes\n",
    "-----\n"
   ]
  },
  {
   "cell_type": "code",
   "execution_count": null,
   "id": "b619a6a6-eaaa-4e5b-b15f-98502b8f4b28",
   "metadata": {},
   "outputs": [],
   "source": [
    "# TODO ~"
   ]
  }
 ],
 "metadata": {
  "kernelspec": {
   "display_name": "Python 3 (ipykernel)",
   "language": "python",
   "name": "python3"
  },
  "language_info": {
   "codemirror_mode": {
    "name": "ipython",
    "version": 3
   },
   "file_extension": ".py",
   "mimetype": "text/x-python",
   "name": "python",
   "nbconvert_exporter": "python",
   "pygments_lexer": "ipython3",
   "version": "3.12.3"
  }
 },
 "nbformat": 4,
 "nbformat_minor": 5
}
