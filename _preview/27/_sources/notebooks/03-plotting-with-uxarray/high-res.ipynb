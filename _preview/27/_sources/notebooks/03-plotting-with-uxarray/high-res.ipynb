{
 "cells": [
  {
   "metadata": {},
   "cell_type": "markdown",
   "source": [
    "# Visualizing High-Resolution Grids\n",
    "\n",
    "### In this tutorial, you'll learn about:\n",
    "\n",
    "* Techniques for visualizing high-resolution grids, including best practices for performance optimization and rendering\n",
    "* The importance of rasterization in managing computational overhead when working with detailed global datasets\n",
    "* Strategic use of subsetting functionality to enhance visualization performance for regional analyses\n",
    "* Key differences between point-based and polygon-based visualization approaches at varying grid resolutions\n",
    "* Effective use of map projections to improve spatial data representation and address point distribution challenges\n",
    "* Control and optimization of visualization quality through pixel ratio parameters for both point and polygon plots\n",
    "\n",
    "**Time to learn**: 15 minutes\n",
    "\n",
    "-----"
   ],
   "id": "8dc00bbdf4ae22ed"
  },
  {
   "metadata": {},
   "cell_type": "markdown",
   "source": [
    "## Introduction\n",
    "\n",
    "This notebook explores techniques for working with high-resolution unstructured grids, building upon the foundational concepts previously covered. While earlier examples focused on coarse-resolution grids to introduce core principles, many real-world applications require handling more detailed grid structures.\n",
    "\n",
    "For this demonstration, we utilize output from the 30km MPAS Atmosphere model, representing a significant increase in resolution compared to our previous examples. While this resolution allows us to effectively illustrate key visualization concepts, it's important to note that atmospheric and climate models often employ even higher resolutions. The concepts covered in this notebook are applicable to these higher resolutions. "
   ],
   "id": "7aa6e923186960ed"
  },
  {
   "metadata": {},
   "cell_type": "code",
   "source": [
    "import cartopy.crs as ccrs\n",
    "import holoviews as hv\n",
    "import uxarray as ux\n",
    "\n",
    "hv.extension(\"matplotlib\")"
   ],
   "id": "7f63f7bda1a0083f",
   "outputs": [],
   "execution_count": null
  },
  {
   "metadata": {},
   "cell_type": "code",
   "source": [
    "grid_path = \"../../meshfiles/x1.655362.grid.nc\"\n",
    "data_path = \"../../meshfiles/x1.655362.data.nc\"\n",
    "\n",
    "uxds = ux.open_dataset(grid_path, data_path)\n",
    "uxds[\"relhum_200hPa\"]"
   ],
   "id": "4c48507c13b385b6",
   "outputs": [],
   "execution_count": null
  },
  {
   "metadata": {},
   "cell_type": "markdown",
   "source": [
    "## Polygon Plots\n",
    "\n",
    "When working with high-resolution grids at global scales, performance optimization becomes crucial. As detailed in the [Data Visualization](data-viz) notebook, setting `rasterize=True` is strongly recommended for these scenarios. This parameter significantly improves rendering performance by converting vector-based polygons into raster images during visualization.\n",
    "\n"
   ],
   "id": "9ab841b29b8c469"
  },
  {
   "metadata": {},
   "cell_type": "code",
   "source": [
    "%%time\n",
    "uxds[\"relhum_200hPa\"][0].plot.polygons(rasterize=True)"
   ],
   "id": "4dc9ab397752961b",
   "outputs": [],
   "execution_count": null
  },
  {
   "metadata": {},
   "cell_type": "markdown",
   "source": "The initial rendering of polygon plots requires significant processing time due to the conversion of each grid face into a Polygon object and its subsequent storage in a `GeoDataFrame`. However, this computational investment yields long-term benefits: once these geometries are processed and stored, they can be efficiently reused in subsequent visualizations. This caching mechanism ensures that follow-up polygon plots render substantially faster, making the initial processing time a worthwhile trade-off for improved ongoing performance. Below we can observe the faster rendering time after the initial execution.\n",
   "id": "c60a488024a3caf3"
  },
  {
   "metadata": {},
   "cell_type": "code",
   "source": [
    "%%time\n",
    "res = uxds[\"relhum_200hPa\"][0].plot.polygons(rasterize=True)"
   ],
   "id": "9c7cf3194fd53d32",
   "outputs": [],
   "execution_count": null
  },
  {
   "metadata": {},
   "cell_type": "markdown",
   "source": "### Subsetting",
   "id": "efd16248ef1cf775"
  },
  {
   "metadata": {},
   "cell_type": "markdown",
   "source": [
    "To enhance performance when visualizing specific geographic regions, you can combine polygon plotting with subsetting functionality. This optimization strategy significantly reduces computational overhead by rendering only the polygons within your region of interest, rather than processing the entire grid. For example, when analyzing weather patterns over North America, subsetting the global grid to that continent will dramatically improve rendering speed and resource efficiency.\n",
    "\n"
   ],
   "id": "58b208d4e0784876"
  },
  {
   "metadata": {},
   "cell_type": "code",
   "source": [
    "relhum_subset = uxds[\"relhum_200hPa\"][0].subset.bounding_box(\n",
    "    lon_bounds=[-5, 5], lat_bounds=[-2.5, 2.5]\n",
    ")\n",
    "relhum_subset.plot.polygons(rasterize=True)"
   ],
   "id": "751339a98d8ed1fd",
   "outputs": [],
   "execution_count": null
  },
  {
   "metadata": {},
   "cell_type": "markdown",
   "source": "We can restrict our region even further to clearly see the original polygons.",
   "id": "7bd1ed733d2d11ad"
  },
  {
   "metadata": {},
   "cell_type": "code",
   "source": [
    "relhum_subset = uxds[\"relhum_200hPa\"][0].subset.bounding_box(\n",
    "    lon_bounds=[-0.5, 0.5], lat_bounds=[-0.25, 0.25]\n",
    ")\n",
    "relhum_subset.plot.polygons(rasterize=True)"
   ],
   "id": "c35ce4b6a72c4312",
   "outputs": [],
   "execution_count": null
  },
  {
   "metadata": {},
   "cell_type": "markdown",
   "source": [
    "### Controlling Resolution\n",
    "\n",
    "The `pixel_ratio` parameter offers precise control over resolution in polygon plots. This parameter determines how closely the rasterized output approximates the original vector-based polygon representation.\n",
    "\n",
    "Setting a larger pixel ratio produces higher-fidelity visualizations that more accurately represent the underlying data structure and polygon geometries. These high-resolution outputs closely resemble traditional vector polygon plots, preserving intricate spatial relationships and boundaries.\n",
    "\n",
    "Conversely, specifying a smaller pixel ratio generates lower-resolution visualizations. While this approach may sacrifice some visual detail, it can significantly improve rendering performance for large datasets or when exact polygon boundaries are less critical for the analysis at hand.\n",
    "\n",
    "This resolution control mechanism enables you to balance visual accuracy with computational efficiency based on your specific visualization requirements and performance constraints."
   ],
   "id": "c3fa8585e9143701"
  },
  {
   "metadata": {},
   "cell_type": "code",
   "source": [
    "(\n",
    "    uxds[\"relhum_200hPa\"][0].plot.polygons(\n",
    "        rasterize=True, pixel_ratio=0.1, title=\"0.1 Pixel Ratio\"\n",
    "    )\n",
    "    + uxds[\"relhum_200hPa\"][0].plot.polygons(\n",
    "        rasterize=True, pixel_ratio=4.0, title=\"4.0 Pixel Ratio\"\n",
    "    )\n",
    ").cols(1)"
   ],
   "id": "57e5ffbeac9810d5",
   "outputs": [],
   "execution_count": null
  },
  {
   "metadata": {},
   "cell_type": "markdown",
   "source": [
    "\n",
    "## Point-Based Visualization Strategies\n",
    "\n",
    "Previous examination of rasterized point plots in the [Data Visualization](data-viz) section revealed their limitations for coarse-resolution grids. However, as grid resolution increases, this visualization method becomes increasingly advantageous, delivering superior rendering performance compared to polygon-based approaches while maintaining high visual quality.\n",
    "\n",
    "Our 30km global grid demonstration showcases this enhanced effectiveness. At this resolution, rasterized point plots achieve visual fidelity approaching that of traditional polygon plots, though with two important technical considerations to address during implementation:\n",
    "\n",
    "The visualization output exhibits missing values, denoted as `NaN` in the resulting display. Additionally, unprojected visualizations reveal an inherent characteristic of global coordinate systems: point density increases notably near the equator relative to the poles. This creates a distinctive variation in visual density—an expected artifact when representing spherical data in a planar format.\n",
    "\n",
    "\n",
    "\n",
    "\n"
   ],
   "id": "aa61ba5cf19e5748"
  },
  {
   "metadata": {},
   "cell_type": "code",
   "source": [
    "%%time\n",
    "uxds[\"relhum_200hPa\"][0].plot.points(rasterize=True)"
   ],
   "id": "aca476503fb5281b",
   "outputs": [],
   "execution_count": null
  },
  {
   "metadata": {},
   "cell_type": "markdown",
   "source": [
    "###  Optimizing Point Distribution Using Map Projections\n",
    "\n",
    "Using appropriate map projections significantly enhances point distribution  offering marked improvements over unprojected representations. Map projections help normalize the spatial distribution of data points, substantially reducing the clustering effects observed in standard latitude-longitude visualizations.\n",
    "\n",
    "For example, an Orthographic projection provides one effective approach, though various other projections can also help. While projections address many distribution challenges, some missing values may persist in the output. However, these remaining gaps typically represent a considerable improvement over unprojected versions, where equatorial clustering creates more pronounced visualization artifacts."
   ],
   "id": "a41a70cdc95d1eb6"
  },
  {
   "metadata": {},
   "cell_type": "code",
   "source": [
    "%%time\n",
    "uxds[\"relhum_200hPa\"][0].plot.points(rasterize=True, projection=ccrs.Orthographic())"
   ],
   "id": "549e63365b8fc93a",
   "outputs": [],
   "execution_count": null
  },
  {
   "metadata": {},
   "cell_type": "markdown",
   "source": [
    "### Controlling Resolution & Binning\n",
    "\n",
    "The `pixel_ratio` parameter provides precise control over the rasterization process by determining the size of individual raster pixels in your visualization. This parameter directly influences both the visual resolution and the data aggregation characteristics of your plot.\n",
    "\n",
    "When you specify a larger pixel ratio, the visualization creates smaller raster pixels. This higher-resolution approach means fewer data points are aggregated within each pixel, potentially leading to gaps in the visualization where pixels contain no data points. These empty pixels appear as `NaN` values in the final output.\n",
    "\n",
    "Conversely, setting a smaller pixel ratio creates larger pixels that capture and aggregate more data points. This approach typically produces a more continuous visualization by reducing the likelihood of empty pixels, though it may sacrifice some fine detail in the process.\n",
    "\n",
    "The pixel ratio effectively serves as a resolution control mechanism, allowing you to balance between granular detail and visual continuity based on your specific visualization requirements. This flexibility becomes particularly valuable when working with datasets of varying densities or when focusing on specific geographic regions that require different levels of detail."
   ],
   "id": "cf6c23dd793f0db6"
  },
  {
   "metadata": {},
   "cell_type": "code",
   "source": [
    "(\n",
    "    uxds[\"relhum_200hPa\"][0].plot.points(\n",
    "        rasterize=True,\n",
    "        projection=ccrs.Orthographic(),\n",
    "        pixel_ratio=0.5,\n",
    "        title=\"0.5 Pixel Ratio\",\n",
    "    )\n",
    "    + uxds[\"relhum_200hPa\"][0].plot.points(\n",
    "        rasterize=True,\n",
    "        projection=ccrs.Orthographic(),\n",
    "        pixel_ratio=3.0,\n",
    "        title=\"3.0 Pixel Ratio\",\n",
    "    )\n",
    ").cols(1)"
   ],
   "id": "e138e378c8885b35",
   "outputs": [],
   "execution_count": null
  }
 ],
 "metadata": {
  "kernelspec": {
   "display_name": "Python 3",
   "language": "python",
   "name": "python3"
  },
  "language_info": {
   "codemirror_mode": {
    "name": "ipython",
    "version": 2
   },
   "file_extension": ".py",
   "mimetype": "text/x-python",
   "name": "python",
   "nbconvert_exporter": "python",
   "pygments_lexer": "ipython2",
   "version": "2.7.6"
  }
 },
 "nbformat": 4,
 "nbformat_minor": 5
}
