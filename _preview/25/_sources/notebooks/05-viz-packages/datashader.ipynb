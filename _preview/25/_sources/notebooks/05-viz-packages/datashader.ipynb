{
 "cells": [
  {
   "metadata": {},
   "cell_type": "markdown",
   "source": [
    "# Datashader\n",
    "---"
   ],
   "id": "9320edea162f109d"
  },
  {
   "metadata": {
    "ExecuteTime": {
     "end_time": "2024-11-04T20:08:23.394487Z",
     "start_time": "2024-11-04T20:08:23.391186Z"
    }
   },
   "cell_type": "code",
   "source": "# todo",
   "id": "781f47a67aa5e115",
   "outputs": [],
   "execution_count": 1
  },
  {
   "metadata": {},
   "cell_type": "code",
   "outputs": [],
   "execution_count": null,
   "source": "",
   "id": "ad31d371e468bdf0"
  }
 ],
 "metadata": {
  "kernelspec": {
   "display_name": "Python 3",
   "language": "python",
   "name": "python3"
  },
  "language_info": {
   "codemirror_mode": {
    "name": "ipython",
    "version": 2
   },
   "file_extension": ".py",
   "mimetype": "text/x-python",
   "name": "python",
   "nbconvert_exporter": "python",
   "pygments_lexer": "ipython2",
   "version": "2.7.6"
  }
 },
 "nbformat": 4,
 "nbformat_minor": 5
}
