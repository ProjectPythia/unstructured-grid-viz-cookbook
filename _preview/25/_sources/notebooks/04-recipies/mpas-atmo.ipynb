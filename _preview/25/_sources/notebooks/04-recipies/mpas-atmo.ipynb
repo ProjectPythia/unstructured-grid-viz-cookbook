{
 "cells": [
  {
   "cell_type": "markdown",
   "id": "9b95bd02-7b6e-41dc-b621-a8ce60fcd4c0",
   "metadata": {},
   "source": [
    "<img src=\"https://raw.githubusercontent.com/UXARRAY/uxarray/main/docs/_static/images/logos/uxarray_logo_h_dark.svg\"\n",
    "     width=\"30%\"\n",
    "     alt=\"UXarray logo\"\n",
    "     align=\"right\"\n",
    "/>\n",
    "\n",
    "# MPAS Atmosphere Model\n",
    "\n",
    "### In this recipe, you'll visualize:\n",
    "\n",
    "* 30km MPAS Atmosphere model output\n",
    "\n",
    "### Required Cookbook Sections\n",
    "\n",
    "* TODO\n",
    "-----\n",
    "\n"
   ]
  }
 ],
 "metadata": {
  "kernelspec": {
   "display_name": "",
   "name": ""
  },
  "language_info": {
   "name": ""
  }
 },
 "nbformat": 4,
 "nbformat_minor": 5
}
