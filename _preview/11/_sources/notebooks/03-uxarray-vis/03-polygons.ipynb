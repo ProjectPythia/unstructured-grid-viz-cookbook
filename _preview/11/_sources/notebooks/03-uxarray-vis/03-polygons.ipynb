{
 "cells": [
  {
   "cell_type": "markdown",
   "metadata": {},
   "source": [
    "# Polygons\n",
    "---"
   ]
  },
  {
   "cell_type": "markdown",
   "metadata": {
    "collapsed": false,
    "jupyter": {
     "outputs_hidden": false
    }
   },
   "source": [
    "Unstructured Grids are often used in the Dynamical Cores of climate models because of their ability to represent complex geometries effectively. However, the way unstructured grids are represented makes it difficult to produce quick visualizations.\n",
    "\n",
    "Previously, we have discussed that data variables are typically mapped to the elements that compose unstructured grids (nodes, edges, and faces).When data is mapped to the faces, each face is shaded with the value of the data variable. We can treat these faces as Polygons on a plane for visualization.\n",
    "\n",
    "This notebook showcases how UXarray can visualization data as polygons."
   ]
  },
  {
   "cell_type": "markdown",
   "metadata": {
    "collapsed": false,
    "jupyter": {
     "outputs_hidden": false
    }
   },
   "source": [
    "## Setup"
   ]
  },
  {
   "cell_type": "code",
   "execution_count": null,
   "metadata": {
    "collapsed": false,
    "jupyter": {
     "outputs_hidden": false
    }
   },
   "outputs": [],
   "source": [
    "import uxarray as ux"
   ]
  },
  {
   "cell_type": "code",
   "execution_count": null,
   "metadata": {
    "collapsed": false,
    "jupyter": {
     "outputs_hidden": false
    }
   },
   "outputs": [],
   "source": [
    "fig_size = 400\n",
    "plot_kwargs = {\"backend\": \"matplotlib\", \"aspect\": 2, \"fig_size\": fig_size}"
   ]
  },
  {
   "cell_type": "code",
   "execution_count": null,
   "metadata": {
    "collapsed": false,
    "jupyter": {
     "outputs_hidden": false
    }
   },
   "outputs": [],
   "source": [
    "file_dir = \"../../meshfiles/\"\n",
    "grid_filename_mpas = file_dir + \"oQU480.grid.nc\"\n",
    "data_filename_mpas = file_dir + \"oQU480.data.nc\"\n",
    "uxds = ux.open_dataset(grid_filename_mpas, data_filename_mpas)"
   ]
  },
  {
   "cell_type": "markdown",
   "metadata": {
    "collapsed": false,
    "jupyter": {
     "outputs_hidden": false
    }
   },
   "source": [
    "## Vector Polygon Plots\n",
    "\n",
    "The `UxDataArray.plot.polygons()` method produces a Vector Polygon plot, with each face represented as a polygon and rendered exactly as it is mathematically represented.\n",
    "\n"
   ]
  },
  {
   "cell_type": "code",
   "execution_count": null,
   "metadata": {
    "collapsed": false,
    "jupyter": {
     "outputs_hidden": false
    }
   },
   "outputs": [],
   "source": [
    "uxds[\"bottomDepth\"].plot.polygons(**plot_kwargs)"
   ]
  },
  {
   "cell_type": "markdown",
   "metadata": {
    "collapsed": false,
    "jupyter": {
     "outputs_hidden": false
    }
   },
   "source": [
    "### Interactive Example\n",
    "\n",
    "In the plot below, take some time to zoom and pan around the plot to observe some of the defining characteristics of a Vector Polygon Plot:\n",
    "* Hovering over a polygon (face) displays the value mapped to it, which is the same as the original value stored in our `UxDataArray`\n",
    "* There is no loss of data fidelity when zooming in\n",
    "* Each polygon is bounded by edges that are drawn as lines\n",
    "\n"
   ]
  },
  {
   "cell_type": "code",
   "execution_count": null,
   "metadata": {
    "collapsed": false,
    "jupyter": {
     "outputs_hidden": false
    }
   },
   "outputs": [],
   "source": [
    "uxds[\"bottomDepth\"].plot.polygons(\n",
    "    backend=\"bokeh\", width=1000, height=500, tools=[\"hover\"]\n",
    ")"
   ]
  },
  {
   "cell_type": "markdown",
   "metadata": {
    "collapsed": false,
    "jupyter": {
     "outputs_hidden": false
    }
   },
   "source": [
    "When we zoom into our grid, we can observe the high-level of data fidelity that these plots produce."
   ]
  },
  {
   "cell_type": "code",
   "execution_count": null,
   "metadata": {
    "collapsed": false,
    "jupyter": {
     "outputs_hidden": false
    }
   },
   "outputs": [],
   "source": [
    "uxds[\"bottomDepth\"].plot.polygons(xlim=(-20, 0), ylim=(-5, 5), **plot_kwargs)"
   ]
  },
  {
   "cell_type": "markdown",
   "metadata": {
    "collapsed": false,
    "jupyter": {
     "outputs_hidden": false
    }
   },
   "source": [
    "## Rasterized Polygon Plots\n",
    "\n",
    "The `UxDataArray.plot.rasterize(method='polygon')` function produces a Rasterized Polygon plot. Instead of rendering each polygon exactly, they are rasterized into cells using Datashader internally. "
   ]
  },
  {
   "cell_type": "code",
   "execution_count": null,
   "metadata": {
    "collapsed": false,
    "jupyter": {
     "outputs_hidden": false
    }
   },
   "outputs": [],
   "source": [
    "uxds[\"bottomDepth\"].plot.rasterize(method=\"polygon\", **plot_kwargs)"
   ]
  },
  {
   "cell_type": "markdown",
   "metadata": {
    "collapsed": false,
    "jupyter": {
     "outputs_hidden": false
    }
   },
   "source": [
    "### Interactive Example\n",
    "\n",
    "In the plot below, take some time to zoom and pan around to observe some of the defining characters of a Raster Polygon Plot and compare it to the Vector Polygon Plot\n",
    "* Zooming in exposes the fact that each polygon is approximately rendered, with jagged edges around the boundaries of each cell\n",
    "* Hovering over a polygon (face) still displays the original data values, even though the boundaries are not explicit like the vector example\n"
   ]
  },
  {
   "cell_type": "code",
   "execution_count": null,
   "metadata": {
    "collapsed": false,
    "jupyter": {
     "outputs_hidden": false
    }
   },
   "outputs": [],
   "source": [
    "uxds[\"bottomDepth\"].plot.rasterize(\n",
    "    method=\"polygon\", backend=\"bokeh\", width=1000, height=500, tools=[\"hover\"]\n",
    ")"
   ]
  },
  {
   "cell_type": "markdown",
   "metadata": {
    "collapsed": false,
    "jupyter": {
     "outputs_hidden": false
    }
   },
   "source": [
    "Zooming in here exposes that Raster Polygon Plots are simply approximations of the original geometries that are rasterized onto a fixed-size grid. Compared to the Vector Polygon Plot, the effective resolution is much lower. "
   ]
  },
  {
   "cell_type": "code",
   "execution_count": null,
   "metadata": {
    "collapsed": false,
    "jupyter": {
     "outputs_hidden": false
    }
   },
   "outputs": [],
   "source": [
    "uxds[\"bottomDepth\"].plot.rasterize(\n",
    "    method=\"polygon\", xlim=(-20, 0), ylim=(-5, 5), **plot_kwargs\n",
    ")"
   ]
  },
  {
   "cell_type": "markdown",
   "metadata": {
    "collapsed": false,
    "jupyter": {
     "outputs_hidden": false
    }
   },
   "source": [
    "However, a higher level of data fidelity can be achieved by specifying a `pixel_ratio`, which controls the size of the binning used for rasterization. \n",
    "* A high pixel ratio increases the number of bins by making each bin smaller, leading to a higher effective resolution and a better approximation of the vector polygon plot\n",
    "* A low pixel ratio decreases the number of bins by making each bin larger, leading to a lower effective resolution with jagged and coarse approximations of each polygon"
   ]
  },
  {
   "cell_type": "code",
   "execution_count": null,
   "metadata": {
    "collapsed": false,
    "jupyter": {
     "outputs_hidden": false
    }
   },
   "outputs": [],
   "source": [
    "(\n",
    "    uxds[\"bottomDepth\"].plot.rasterize(\n",
    "        xlim=(-20, 0),\n",
    "        ylim=(-5, 5),\n",
    "        pixel_ratio=0.5,\n",
    "        title=\"0.5 (low) Pixel Ratio\",\n",
    "        **plot_kwargs\n",
    "    )\n",
    "    + uxds[\"bottomDepth\"].plot.rasterize(\n",
    "        xlim=(-20, 0),\n",
    "        ylim=(-5, 5),\n",
    "        pixel_ratio=8.0,\n",
    "        title=\"8.0 (high) Pixel Ratio\",\n",
    "        **plot_kwargs\n",
    "    )\n",
    ").opts(fig_size=fig_size / 1.5).cols(1)"
   ]
  },
  {
   "cell_type": "markdown",
   "metadata": {
    "collapsed": false,
    "jupyter": {
     "outputs_hidden": false
    }
   },
   "source": [
    "## Polygons Around Antimeridian\n",
    "\n",
    "When attempting to visualize unstructured meshes that reside on a sphere, it's necessary to consider the behavior of geometric elements near or on the Antimeridian. Elements that exist on or cross the antimeridian need to be corrected to properly visualize them. UXarray uses the antimeridian package to split faces along the antimeridian. More details can be found in their [documentation](https://antimeridian.readthedocs.io/en/stable/)."
   ]
  },
  {
   "cell_type": "markdown",
   "metadata": {
    "collapsed": false,
    "jupyter": {
     "outputs_hidden": false
    }
   },
   "source": [
    "<!-- Using text-align on a parent div -->\n",
    "<div style=\"text-align: center;\">\n",
    "    <img src=\"https://upload.wikimedia.org/wikipedia/commons/thumb/8/8d/Earth_map_with_180th_meridian.jpg/640px-Earth_map_with_180th_meridian.jpg\" alt=\"Antimeridian Example\" width=\"800\"/>\n",
    "</div>"
   ]
  },
  {
   "cell_type": "markdown",
   "metadata": {
    "collapsed": false,
    "jupyter": {
     "outputs_hidden": false
    }
   },
   "source": [
    "### Opting to Include Antimeridian Polygons\n",
    "\n",
    "To include and correct antimeridian polygons, we can set `exclude_antimeridian=False`. \n",
    "\n",
    "The following plots are zoomed in to a section along the antimeridian. We can see that our plot is split exactly across the antimeridian."
   ]
  },
  {
   "cell_type": "code",
   "execution_count": null,
   "metadata": {
    "collapsed": false,
    "jupyter": {
     "outputs_hidden": false
    }
   },
   "outputs": [],
   "source": [
    "(\n",
    "    uxds[\"bottomDepth\"].plot.polygons(\n",
    "        xlim=(-185, -175),\n",
    "        ylim=(-5, 5),\n",
    "        exclude_antimeridian=False,\n",
    "        title=\"Left of Antimeridian\",\n",
    "        **plot_kwargs\n",
    "    )\n",
    "    + uxds[\"bottomDepth\"].plot.polygons(\n",
    "        xlim=(175, 185),\n",
    "        ylim=(-5, 5),\n",
    "        exclude_antimeridian=False,\n",
    "        title=\"Right of Antimeridian\",\n",
    "        **plot_kwargs\n",
    "    )\n",
    ").opts(fig_size=fig_size / 1.5).cols(1)"
   ]
  },
  {
   "cell_type": "markdown",
   "metadata": {
    "collapsed": false,
    "jupyter": {
     "outputs_hidden": false
    }
   },
   "source": [
    "### Opting to Exclude Antimeridian Polygons\n",
    "\n",
    "To exclude antimeridian polygons, we can set `exclude_antimeridian=True`. \n",
    "\n",
    "In the following plots, we can see that the polygons that were corrected above are now missing. Since there is a relatively high overhead involved in detecting and correcting each antimeridian polygon, this option excludes them from the plot. "
   ]
  },
  {
   "cell_type": "code",
   "execution_count": null,
   "metadata": {
    "collapsed": false,
    "jupyter": {
     "outputs_hidden": false
    }
   },
   "outputs": [],
   "source": [
    "(\n",
    "    uxds[\"bottomDepth\"].plot.polygons(\n",
    "        xlim=(-185, -175),\n",
    "        ylim=(-5, 5),\n",
    "        exclude_antimeridian=True,\n",
    "        title=\"Left of Antimeridian\",\n",
    "        **plot_kwargs\n",
    "    )\n",
    "    + uxds[\"bottomDepth\"].plot.polygons(\n",
    "        xlim=(175, 185),\n",
    "        ylim=(-5, 5),\n",
    "        exclude_antimeridian=True,\n",
    "        title=\"Right of Antimeridian\",\n",
    "        **plot_kwargs\n",
    "    )\n",
    ").opts(fig_size=fig_size / 1.5).cols(1)"
   ]
  },
  {
   "cell_type": "markdown",
   "metadata": {},
   "source": [
    "## Projection Support\n",
    "\n",
    "As of the most recent UXarray release, geographic projections and transformations are not supported by UXarray's polygon plotting functionality directly. However, we can utilizing UXarray paired with HoloViz tools to generate these types of plots with a bit of extra effort."
   ]
  },
  {
   "cell_type": "code",
   "execution_count": null,
   "metadata": {},
   "outputs": [],
   "source": [
    "import cartopy.crs as ccrs\n",
    "import holoviews as hv\n",
    "import hvplot.pandas\n",
    "\n",
    "hv.extension(\"matplotlib\")"
   ]
  },
  {
   "cell_type": "markdown",
   "metadata": {},
   "source": [
    "### Conversion to a SpatialPandas GeoDataFrame\n",
    "\n",
    "In order to support visualization with the popular HoloViz stack of libraries (hvPlot, HoloViews, Datashader, etc.), UXarray provides methods for converting Grid and UxDataArray objects into a SpatialPandas GeoDataFrame, which can be used for visualizing the polygons that represent each grid, in addition to data variables."
   ]
  },
  {
   "cell_type": "code",
   "execution_count": null,
   "metadata": {},
   "outputs": [],
   "source": [
    "gdf = uxds[\"bottomDepth\"].to_geodataframe()\n",
    "gdf"
   ]
  },
  {
   "cell_type": "markdown",
   "metadata": {},
   "source": [
    "<div class=\"admonition alert alert-info\">\n",
    "    <p class=\"admonition-title\" style=\"font-weight:bold\">See also:</p>\n",
    "    For more infromation about UXarray and the conversion to a GeoDataFrame, please refer to the\n",
    "    <a href=\"https://uxarray--762.org.readthedocs.build/en/762/examples/005-to-geodataframe-for-holoviz.html\">UXarray Usage Examples </a>\n",
    "</div>"
   ]
  },
  {
   "cell_type": "markdown",
   "metadata": {},
   "source": [
    "### Using `hvPlot`\n",
    "\n",
    "Once we have a `spatialpandas.GeoDataFrame`, we can use the `.hvplot` accessor to generate Polygon plots with projections and geographic features. Below are a few examples:"
   ]
  },
  {
   "cell_type": "code",
   "execution_count": null,
   "metadata": {},
   "outputs": [],
   "source": [
    "projection = ccrs.Robinson()\n",
    "\n",
    "gdf.hvplot.polygons(\n",
    "    rasterize=True, c=\"bottomDepth\", cmap=\"Blues\", projection=projection, height=600\n",
    ")"
   ]
  },
  {
   "cell_type": "code",
   "execution_count": null,
   "metadata": {},
   "outputs": [],
   "source": [
    "projection = ccrs.Robinson(central_longitude=-180)\n",
    "\n",
    "gdf.hvplot.polygons(\n",
    "    rasterize=True, c=\"bottomDepth\", cmap=\"Blues\", projection=projection, height=600\n",
    ")"
   ]
  },
  {
   "cell_type": "code",
   "execution_count": null,
   "metadata": {},
   "outputs": [],
   "source": [
    "import geoviews.feature as gf\n",
    "\n",
    "projection = ccrs.Robinson(central_longitude=-180)\n",
    "\n",
    "gdf.hvplot.polygons(\n",
    "    rasterize=True, c=\"bottomDepth\", cmap=\"Blues\", projection=projection, height=600\n",
    ") * gf.coastline() * gf.borders()"
   ]
  },
  {
   "cell_type": "code",
   "execution_count": null,
   "metadata": {},
   "outputs": [],
   "source": [
    "projection = ccrs.Orthographic(central_latitude=90)\n",
    "\n",
    "gdf.hvplot.polygons(\n",
    "    rasterize=True, c=\"bottomDepth\", cmap=\"Blues\", projection=projection, height=400\n",
    ") * gf.coastline() * gf.borders()"
   ]
  },
  {
   "cell_type": "markdown",
   "metadata": {},
   "source": [
    "## Takeaways\n",
    "\n",
    "Polygon plotting is UXarray's flagship visualuzation method, which provides a high level of data fidelity by utilizing the unstructured grid's connectivity information.\n",
    "\n",
    "\n",
    "**When should I use vector or raster plots?**\n",
    "* Rasterization should be used for most applications, especially when working with moderate to large grids. Also consider using an appropriate pixel ratio value to get a higher effective resolution\n",
    "* Vector plots should be used when working with a small grid, typically under 10,000 elements because of the high overhead needed to render each polygon directly\n",
    "\n",
    "**When should I set `exclude_antimeridian=False?`**\n",
    "* It is suggested to almost always keep `exclude_antimeridian=True` (the default option) since it leads to a very large perfromance increase\n",
    "* For small grids or when excluding the polygons would lead to artifacts, it is reccomend to set it to False\n"
   ]
  }
 ],
 "metadata": {
  "kernelspec": {
   "display_name": "Python 3 (ipykernel)",
   "language": "python",
   "name": "python3"
  },
  "language_info": {
   "codemirror_mode": {
    "name": "ipython",
    "version": 3
   },
   "file_extension": ".py",
   "mimetype": "text/x-python",
   "name": "python",
   "nbconvert_exporter": "python",
   "pygments_lexer": "ipython3",
   "version": "3.11.5"
  },
  "nbdime-conflicts": {
   "local_diff": [
    {
     "diff": [
      {
       "diff": [
        {
         "key": 0,
         "op": "addrange",
         "valuelist": [
          "Python 3"
         ]
        },
        {
         "key": 0,
         "length": 1,
         "op": "removerange"
        }
       ],
       "key": "display_name",
       "op": "patch"
      }
     ],
     "key": "kernelspec",
     "op": "patch"
    }
   ],
   "remote_diff": [
    {
     "diff": [
      {
       "diff": [
        {
         "key": 0,
         "op": "addrange",
         "valuelist": [
          "Python3"
         ]
        },
        {
         "key": 0,
         "length": 1,
         "op": "removerange"
        }
       ],
       "key": "display_name",
       "op": "patch"
      }
     ],
     "key": "kernelspec",
     "op": "patch"
    }
   ]
  },
  "toc-autonumbering": false
 },
 "nbformat": 4,
 "nbformat_minor": 4
}
