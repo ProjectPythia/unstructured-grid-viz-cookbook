{
 "cells": [
  {
   "cell_type": "markdown",
   "source": [
    "# Visualization with Matplotlib"
   ],
   "metadata": {
    "collapsed": false
   }
  },
  {
   "cell_type": "markdown",
   "source": [
    "---"
   ],
   "metadata": {
    "collapsed": false
   }
  },
  {
   "cell_type": "markdown",
   "source": [
    "## Imports"
   ],
   "metadata": {
    "collapsed": false
   }
  },
  {
   "cell_type": "code",
   "execution_count": null,
   "outputs": [],
   "source": [
    "import uxarray as ux\n",
    "import numpy as np\n",
    "import matplotlib\n",
    "import matplotlib.pyplot as plt\n",
    "\n",
    "import cartopy.crs as ccrs\n",
    "import cartopy.feature as cfeature\n",
    "\n",
    "# Create blue color theme\n",
    "cmap = matplotlib.colors.LinearSegmentedColormap.from_list(\"Color_Theme\", plt.cm.Blues(np.linspace(0.2, 1, 30)))"
   ],
   "metadata": {
    "collapsed": false
   }
  },
  {
   "cell_type": "code",
   "execution_count": null,
   "outputs": [],
   "source": [
    "ds_file_480 = \"../meshfiles/oQU480.230422.nc\"\n",
    "ds_file_120 = \"../meshfiles/oQU120.230424.nc\"\n",
    "\n",
    "uxds_480 = ux.open_dataset(ds_file_480, ds_file_480)\n",
    "uxds_120 = ux.open_dataset(ds_file_120, ds_file_120)"
   ],
   "metadata": {
    "collapsed": false
   }
  },
  {
   "cell_type": "code",
   "execution_count": null,
   "outputs": [],
   "source": [
    "# Helper function to plot a PolyCollection\n",
    "def plot_polygons(collection, title):\n",
    "    plt.figure(figsize=(10, 6))\n",
    "    ax = plt.axes(projection=ccrs.Robinson())\n",
    "    collection.set_cmap(cmap)\n",
    "    ax.add_collection(collection)\n",
    "    ax.add_feature(cfeature.LAND, facecolor='forestgreen')\n",
    "    ax.add_feature(cfeature.COASTLINE, alpha=0.4)\n",
    "    ax.add_feature(cfeature.BORDERS, alpha=0.3)\n",
    "    ax.set_title(title)\n",
    "    ax.set_global()\n",
    "    ax.set_extent((-180, 180, -90, 90), crs=ccrs.PlateCarree())\n",
    "    plt.colorbar(collection)"
   ],
   "metadata": {
    "collapsed": false
   }
  },
  {
   "cell_type": "code",
   "execution_count": null,
   "outputs": [],
   "source": [
    "pc_480_grid_data = uxds_480['bottomDepth'].to_polycollection()\n",
    "pc_120_grid_data = uxds_120['bottomDepth'].to_polycollection()"
   ],
   "metadata": {
    "collapsed": false
   }
  },
  {
   "cell_type": "code",
   "execution_count": null,
   "outputs": [],
   "source": [
    "plot_polygons(pc_480_grid_data, \"Ocean Depth (480km)\")"
   ],
   "metadata": {
    "collapsed": false
   }
  },
  {
   "cell_type": "code",
   "execution_count": null,
   "outputs": [],
   "source": [
    "plot_polygons(pc_120_grid_data, \"Ocean Depth (120km)\")"
   ],
   "metadata": {
    "collapsed": false
   }
  }
 ],
 "metadata": {
  "kernelspec": {
   "display_name": "Python 3",
   "language": "python",
   "name": "python3"
  },
  "language_info": {
   "codemirror_mode": {
    "name": "ipython",
    "version": 2
   },
   "file_extension": ".py",
   "mimetype": "text/x-python",
   "name": "python",
   "nbconvert_exporter": "python",
   "pygments_lexer": "ipython2",
   "version": "2.7.6"
  }
 },
 "nbformat": 4,
 "nbformat_minor": 0
}
