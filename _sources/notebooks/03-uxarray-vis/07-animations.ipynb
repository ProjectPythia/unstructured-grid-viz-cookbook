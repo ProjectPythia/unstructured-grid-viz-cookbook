{
 "cells": [
  {
   "cell_type": "markdown",
   "source": [
    "# Interactive & Animated Plots\n",
    "---"
   ],
   "metadata": {
    "collapsed": false
   },
   "id": "766ae3323db40ec2"
  },
  {
   "cell_type": "code",
   "execution_count": null,
   "outputs": [],
   "source": [
    "import holoviews as hv\n",
    "import uxarray as ux\n",
    "\n",
    "hv.extension(\"bokeh\")\n",
    "\n",
    "file_dir = \"../../meshfiles/\""
   ],
   "metadata": {
    "collapsed": false
   },
   "id": "e6d8966f381f6a14"
  },
  {
   "cell_type": "code",
   "execution_count": null,
   "outputs": [],
   "source": [
    "grid_filename_geoflow = file_dir + \"geoflow.grid.nc\"\n",
    "data_filename_geoflow = file_dir + \"geoflow.data.nc\"\n",
    "uxds = ux.open_dataset(grid_filename_geoflow, data_filename_geoflow)\n",
    "\n",
    "v1 = uxds[\"v1\"].nodal_average()"
   ],
   "metadata": {
    "collapsed": false
   },
   "id": "fabacde78c2027ca"
  },
  {
   "cell_type": "markdown",
   "source": [
    "## Interactivity \n",
    "\n",
    "### Dynamic Rendering"
   ],
   "metadata": {
    "collapsed": false
   },
   "id": "11d050fd83cfc049"
  },
  {
   "cell_type": "markdown",
   "source": [
    "### HoloMaps"
   ],
   "metadata": {
    "collapsed": false
   },
   "id": "bac833698a730d2a"
  },
  {
   "cell_type": "code",
   "execution_count": null,
   "outputs": [],
   "source": [
    "%%capture\n",
    "hmap = hv.HoloMap(\n",
    "    {\n",
    "        i: v1[0][i].plot.rasterize(\n",
    "            method=\"polygon\",\n",
    "            exclude_antimeridian=False,\n",
    "            cmap=\"coolwarm\",\n",
    "            title=f\"v1: Mesh Layer {i}\",\n",
    "        )\n",
    "        for i in range(20)\n",
    "    },\n",
    "    kdims=\"Mesh Layer\",\n",
    ")"
   ],
   "metadata": {
    "collapsed": false
   },
   "id": "5a00d5599c34648b"
  },
  {
   "cell_type": "code",
   "execution_count": null,
   "outputs": [],
   "source": [
    "hmap"
   ],
   "metadata": {
    "collapsed": false
   },
   "id": "b66ceaad4c6f552e"
  },
  {
   "cell_type": "markdown",
   "source": [
    "## Animations"
   ],
   "metadata": {
    "collapsed": false
   },
   "id": "695bf0277458b36b"
  },
  {
   "cell_type": "code",
   "execution_count": null,
   "outputs": [],
   "source": [
    "# todo"
   ],
   "metadata": {
    "collapsed": false
   },
   "id": "1a5ff57bb42c69f8"
  }
 ],
 "metadata": {
  "kernelspec": {
   "display_name": "Python 3",
   "language": "python",
   "name": "python3"
  },
  "language_info": {
   "codemirror_mode": {
    "name": "ipython",
    "version": 2
   },
   "file_extension": ".py",
   "mimetype": "text/x-python",
   "name": "python",
   "nbconvert_exporter": "python",
   "pygments_lexer": "ipython2",
   "version": "2.7.6"
  }
 },
 "nbformat": 4,
 "nbformat_minor": 5
}
