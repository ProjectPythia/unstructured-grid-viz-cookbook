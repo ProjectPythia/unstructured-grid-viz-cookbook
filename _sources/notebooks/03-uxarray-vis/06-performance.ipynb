{
 "cells": [
  {
   "cell_type": "markdown",
   "metadata": {},
   "source": [
    "# Visualization at Scale\n",
    "---"
   ]
  },
  {
   "cell_type": "markdown",
   "source": [
    "When working with large datasets, it's crucial to consider the performance of each visualization method. This notebook investigates the performance and data fidelity of the previously covered methods using high-resolution grids."
   ],
   "metadata": {
    "collapsed": false
   }
  },
  {
   "cell_type": "markdown",
   "source": [
    "## Benchmarked Dataset"
   ],
   "metadata": {
    "collapsed": false
   }
  },
  {
   "cell_type": "markdown",
   "source": [
    "The dataset used for timings and examples in this notebook were provided from the [DYAMOND Initiative](https://www.google.com/search?q=dyamond&oq=dyamond&gs_lcrp=EgZjaHJvbWUyCQgAEEUYORiABDIGCAEQIxgnMgcIAhAuGIAEMgkIAxAuGAoYgAQyCQgEEAAYChiABDIHCAUQLhiABDIHCAYQLhiABDIJCAcQABgKGIAEMgcICBAAGIAEMg8ICRAAGAoYgwEYsQMYgATSAQc5NjRqMGo0qAIAsAIA&sourceid=chrome&ie=UTF-8). \n",
    "\n",
    "There are four datasets, each of the same grid, but with different resolutions. The table below summarizes the scale of these datasets.\n",
    "\n",
    "| Element / Resolution | 30km      | 15km      | 7.5km      | 3.75km     |\n",
    "|----------------------|-----------|-----------|------------|------------|\n",
    "| Faces                | 655,362   | 2,621,442 | 10,485,762 | 41,943,042 |\n",
    "| Nodes                | 1,310,720 | 5,242,880 | 20,971,520 | 83,886,080 |\n",
    "\n",
    "\n"
   ],
   "metadata": {
    "collapsed": false
   }
  },
  {
   "cell_type": "markdown",
   "source": [
    "## Timing Comparison\n",
    "\n",
    "Timings were taken on a single [NCAR Derecho Node](https://arc.ucar.edu/knowledge_base/74317833). All results are in seconds. "
   ],
   "metadata": {
    "collapsed": false
   }
  },
  {
   "cell_type": "markdown",
   "source": [
    "### Data Processing (Initial Run)"
   ],
   "metadata": {
    "collapsed": false
   }
  },
  {
   "cell_type": "markdown",
   "source": [
    "| Visualization Method / Grid Resolution  | 30km        | 15km        | 7.5km      | 3.75km      |\n",
    "|-----------------------------------------|-------------|-------------|------------|-------------|\n",
    "| Polygon Raster (Including Antimeridian) | 28.5 | 122.2       | 463        | 1990        |\n",
    "| Polygon Raster (Excluding Antimeridian) | 1.69 (0.23) | 5.96 (0.09) | 23.1 (0.52) | 93 (1.01)   |\n",
    "| Point Raster                            | 0.13 (0.03) | 0.16 (0.01) | 0.35 (0.00) | 1.08 (0.07) |"
   ],
   "metadata": {
    "collapsed": false
   }
  },
  {
   "cell_type": "markdown",
   "source": [
    "### Data Processing (Subsequent Runs)"
   ],
   "metadata": {
    "collapsed": false
   }
  },
  {
   "cell_type": "markdown",
   "source": [
    "| Visualization Method / Grid Resolution  | 30km        | 15km        | 7.5km       | 3.75km       |\n",
    "|-----------------------------------------|-------------|-------------|-------------|--------------|\n",
    "| Polygon Raster (Including Antimeridian) | 0           | 0           | 0           | 0            |\n",
    "| Polygon Raster (Excluding Antimeridian) | 0.30 (0.00) | 1.02 (0.36) | 3.46 (0.01) | 13.60 (0.08) |\n",
    "| Point Raster                            | 0.13 (0.03) | 0.16 (0.01) | 0.35 (0.00) | 1.08 (0.07)  |"
   ],
   "metadata": {
    "collapsed": false
   }
  },
  {
   "cell_type": "markdown",
   "source": [
    "### Visualization "
   ],
   "metadata": {
    "collapsed": false
   }
  },
  {
   "cell_type": "markdown",
   "source": [
    "| Visualization Method / Grid Resolution | 30km | 15km | 7.5km | 3.75km |\n",
    "|----------------------------------------|------|------|-------|--------|\n",
    "| Polygon Raster (0.5 Pixel Ratio)       | 0    | 0    | 0     | 0      |\n",
    "| Polygon Raster (1.0 Pixel Ratio)       | 0    | 0    | 0     | 0      |\n",
    "| Polygon Raster (4.0 Pixel Ratio)       | 0    | 0    | 0     | 0      |\n",
    "| Point Raster (0.5 Pixel Ratio)         | 0    | 0    | 0     | 0      |\n",
    "| Point Raster (1.0 Pixel Ratio)         | 0    | 0    | 0     | 0      |\n",
    "| Point Raster (4.0 Pixel Ratio)         | 0    | 0    | 0     | 0      |"
   ],
   "metadata": {
    "collapsed": false
   }
  },
  {
   "cell_type": "markdown",
   "source": [
    "## Polygon vs Point Rasters"
   ],
   "metadata": {
    "collapsed": false
   }
  },
  {
   "cell_type": "markdown",
   "source": [
    "### Global"
   ],
   "metadata": {
    "collapsed": false
   }
  },
  {
   "cell_type": "markdown",
   "source": [
    "```Python\n",
    "uxds['relhum_200hPa'][0].plot.rasterize(method='polygon', \n",
    "                                        width=1000, height=500, exclude_antimeridian=True, \n",
    "                                        clim=clim, \n",
    "                                        title=\"Global Polygon Raster\")\n",
    "```"
   ],
   "metadata": {
    "collapsed": false
   }
  },
  {
   "cell_type": "markdown",
   "source": [
    "![Polygon Raster](../images/plots/global_polygon_raster.png)"
   ],
   "metadata": {
    "collapsed": false
   }
  },
  {
   "cell_type": "markdown",
   "source": [
    "```Python\n",
    "uxds['relhum_200hPa'][0].plot.rasterize(method='point', \n",
    "                                        width=1000, \n",
    "                                        height=500, \n",
    "                                        clim=clim, \n",
    "                                        title=\"Global Point Raster\")\n",
    "```"
   ],
   "metadata": {
    "collapsed": false
   }
  },
  {
   "cell_type": "markdown",
   "source": [
    "\n",
    "![Point Raster](../images/plots/global_point_raster.png)\n"
   ],
   "metadata": {
    "collapsed": false
   }
  },
  {
   "cell_type": "markdown",
   "source": [
    "### Regional"
   ],
   "metadata": {
    "collapsed": false
   }
  },
  {
   "cell_type": "markdown",
   "source": [
    "```Python\n",
    "uxds['relhum_200hPa'][0].plot.rasterize(method='polygon', \n",
    "                                        width=1000, \n",
    "                                        height=500, \n",
    "                                        exclude_antimeridian=True, \n",
    "                                        dynamic=False, \n",
    "                                        xlim=(-68, -60), \n",
    "                                        ylim=(-71, -66), \n",
    "                                        clim=clim, \n",
    "                                        title=\"Regional Polygon Raster\")\n",
    "```"
   ],
   "metadata": {
    "collapsed": false
   }
  },
  {
   "cell_type": "markdown",
   "source": [
    "![Polygon Raster](../images/plots/regional_polygon_raster.png)"
   ],
   "metadata": {
    "collapsed": false
   }
  },
  {
   "cell_type": "markdown",
   "source": [
    "```Python\n",
    "uxds['relhum_200hPa'][0].plot.rasterize(method='point', \n",
    "                                        width=1000, \n",
    "                                        height=500, \n",
    "                                        dynamic=False, \n",
    "                                        xlim=(-68, -60), \n",
    "                                        ylim=(-71, -66), \n",
    "                                        clim=clim, \n",
    "                                        title=\"Regional Point Raster\")\n",
    "```"
   ],
   "metadata": {
    "collapsed": false
   }
  },
  {
   "cell_type": "markdown",
   "source": [
    "![Point Raster](../images/plots/regional_point_raster.png)"
   ],
   "metadata": {
    "collapsed": false
   }
  },
  {
   "cell_type": "markdown",
   "source": [
    "Without specific and additional parameters, both the Polygon and Point raters look identical. \n",
    "\n",
    "However, once we set `dynamic=True`, which dynamically re-rasterizes as we zoom and pan across our plot, we can begin to see the differences in these methods"
   ],
   "metadata": {
    "collapsed": false
   }
  },
  {
   "cell_type": "markdown",
   "source": [
    "```Python\n",
    "uxds['relhum_200hPa'][0].plot.rasterize(method='polygon', width=1000, height=500, exclude_antimeridian=True, clim=clim, title=\"Global Polygon Raster\")\n",
    "```"
   ],
   "metadata": {
    "collapsed": false
   }
  },
  {
   "cell_type": "markdown",
   "source": [
    "```Python\n",
    "uxds['relhum_200hPa'][0].plot.rasterize(method='polygon', \n",
    "                                        width=1000, \n",
    "                                        height=500, \n",
    "                                        exclude_antimeridian=True, \n",
    "                                        dynamic=True, xlim=(-68, -60), \n",
    "                                        ylim=(-71, -66), \n",
    "                                        clim=clim, \n",
    "                                        title=\"Regional Polygon Raster (Dynamic)\")\n",
    "```"
   ],
   "metadata": {
    "collapsed": false
   }
  },
  {
   "cell_type": "markdown",
   "source": [
    "![Polygon Raster](../images/plots/regional_polygon_raster_dyn.png)\n"
   ],
   "metadata": {
    "collapsed": false
   }
  },
  {
   "cell_type": "markdown",
   "source": [
    "```Python\n",
    "uxds['relhum_200hPa'][0].plot.rasterize(method='point', \n",
    "                                        width=1000, \n",
    "                                        height=500, \n",
    "                                        dynamic=True, xlim=(-68, -60), \n",
    "                                        ylim=(-71, -66), \n",
    "                                        clim=clim, \n",
    "                                        title=\"Regional Point Raster (Dynamic)\")\n",
    "```"
   ],
   "metadata": {
    "collapsed": false
   }
  },
  {
   "cell_type": "markdown",
   "source": [
    "![Point Raster](../images/plots/regional_point_raster_dyn.png)"
   ],
   "metadata": {
    "collapsed": false
   }
  },
  {
   "cell_type": "markdown",
   "source": [
    "The Polygon Raster can be zoomed in indefinitely, since our polygon mesh completely covers the screen. However, since our we are using shaded coordinate points for our Point Raster, once we zoom in, we no longer have completely filled cells, we are left with the individual points."
   ],
   "metadata": {
    "collapsed": false
   }
  },
  {
   "cell_type": "markdown",
   "source": [
    "## Pixel Ratio Comparison"
   ],
   "metadata": {
    "collapsed": false
   }
  }
 ],
 "metadata": {
  "kernelspec": {
   "display_name": "Python 3 (ipykernel)",
   "language": "python",
   "name": "python3"
  },
  "language_info": {
   "codemirror_mode": {
    "name": "ipython",
    "version": 3
   },
   "file_extension": ".py",
   "mimetype": "text/x-python",
   "name": "python",
   "nbconvert_exporter": "python",
   "pygments_lexer": "ipython3",
   "version": "3.10.11"
  },
  "nbdime-conflicts": {
   "local_diff": [
    {
     "diff": [
      {
       "diff": [
        {
         "key": 0,
         "op": "addrange",
         "valuelist": [
          "Python 3"
         ]
        },
        {
         "key": 0,
         "length": 1,
         "op": "removerange"
        }
       ],
       "key": "display_name",
       "op": "patch"
      }
     ],
     "key": "kernelspec",
     "op": "patch"
    }
   ],
   "remote_diff": [
    {
     "diff": [
      {
       "diff": [
        {
         "key": 0,
         "op": "addrange",
         "valuelist": [
          "Python3"
         ]
        },
        {
         "key": 0,
         "length": 1,
         "op": "removerange"
        }
       ],
       "key": "display_name",
       "op": "patch"
      }
     ],
     "key": "kernelspec",
     "op": "patch"
    }
   ]
  },
  "toc-autonumbering": false
 },
 "nbformat": 4,
 "nbformat_minor": 4
}
