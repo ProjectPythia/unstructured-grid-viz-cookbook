{
 "cells": [
  {
   "cell_type": "markdown",
   "metadata": {},
   "source": [
    "# Unstructured Grid Overview"
   ]
  },
  {
   "cell_type": "markdown",
   "metadata": {},
   "source": [
    "---"
   ]
  },
  {
   "cell_type": "markdown",
   "metadata": {},
   "source": [
    "The goal of this notebook is to provide a brief overview of unstructured grids and provide a teaser of plotting with the UXarray package.\n",
    "Contents:\n",
    "1. Structured vs. Unstructured Grids\n",
    "2. Structured Grids\n",
    "3. Unstructured Grids\n",
    "4. Unstructured Grids Benefits\n",
    "5. Why UXarrary?\n",
    "6. Loading and plotting a mesh with UXarray"
   ]
  },
  {
   "cell_type": "markdown",
   "metadata": {},
   "source": [
    "## Structured vs Unstructured Grids\n"
   ]
  },
  {
   "cell_type": "markdown",
   "metadata": {},
   "source": [
    "It is important to understand this difference, before diving into unstructured grid, as it is the main difference between the two types of grids:\n",
    "\n",
    "A structured grid is well-ordered, with a simple scheme used to label elements and identify neighbors, while an unstructured grid allows elements to be joined in any manner, requiring special lists to identify neighboring elements.\n",
    "\n",
    "Note that the focus here is on two dimensional grids in the climate and weather context, but the same concepts apply to three dimensional grids."
   ]
  },
  {
   "cell_type": "markdown",
   "metadata": {},
   "source": [
    "# Structured Grid\n",
    "A few advantages of structured grids are:\n",
    "- Uniform Representation: Simplifies numerical methods and enhances result interpretation.\n",
    "  \n",
    "- Efficient Numerics: Well-suited for finite-difference schemes, ensuring computational efficiency.\n",
    "  \n",
    "- Simplified Interpolation: Straightforward interpolation facilitates integration of observational data and model outputs.\n",
    "  \n",
    "- Boundary Handling: Ideal for regular boundaries, easing implementation of boundary conditions.\n",
    "  \n",
    "- Optimized Parallel Computing: Regular structure supports efficient parallel computing for scalability."
   ]
  },
  {
   "cell_type": "markdown",
   "metadata": {},
   "source": [
    "This code below uses xarray to create a structured mesh for temperature data interpolation. \n",
    "\n",
    "Given a set of coordinates and data points, the code uses numpy's meshgrid to generates a structured grid. The temperature data is then interpolated onto this grid, creating a smooth representation. Xarray is leveraged to organize the gridded data into a dataset, facilitating easy manipulation and visualization. The resulting plot showcases the data on this structure mesh, providing a clearer understanding of temperature variations across defined longitude and latitude ranges.\n",
    "\n",
    "There are many other libraries and ways to create a structured grids."
   ]
  },
  {
   "cell_type": "code",
   "execution_count": null,
   "metadata": {},
   "outputs": [],
   "source": [
    "import xarray as xr\n",
    "import numpy as np\n",
    "import matplotlib.pyplot as plt\n",
    "\n",
    "# Define coordinates\n",
    "lon = np.array([-124.0, -122.0, -120.0])\n",
    "lat = np.array([37.0, 37.0, 35.0])\n",
    "\n",
    "# Define data\n",
    "data = np.array([20, 22, 25])\n",
    "\n",
    "# experiment with the number of points in the grid\n",
    "# Try 3, 5, 10, 20, 50, 100, 1000\n",
    "grid_points = 50 # 50x50 grid \n",
    "\n",
    "# Create a grid of coordinates\n",
    "lon_grid, lat_grid = np.meshgrid(np.linspace(lon.min(), lon.max(), grid_points),\n",
    "                                 np.linspace(lat.min(), lat.max(), grid_points))\n",
    "\n",
    "# Interpolate the data onto the grid\n",
    "temperature_grid = np.interp(lon_grid, lon, data)\n",
    "\n",
    "# Create an xarray dataset\n",
    "ds = xr.Dataset()\n",
    "ds['temperature'] = (['lat', 'lon'], temperature_grid)\n",
    "ds['lon'] = lon_grid[0, :]\n",
    "ds['lat'] = lat_grid[:, 0]\n",
    "\n",
    "# Plot the data\n",
    "plt.pcolormesh(ds['lon'], ds['lat'], ds['temperature'], shading='auto')\n",
    "plt.colorbar()\n",
    "plt.title('Temperature')\n",
    "plt.xlabel('Longitude')\n",
    "plt.ylabel('Latitude')\n",
    "plt.show()\n"
   ]
  },
  {
   "cell_type": "markdown",
   "metadata": {},
   "source": [
    "# Unstructured Grids"
   ]
  },
  {
   "cell_type": "markdown",
   "metadata": {},
   "source": [
    "There are a variety of libraries and conventions for creating unstructured grids. Here we use a very basic standard python approach to showcase an unstructured grid: \n",
    "\n",
    "The code generates an unstructured grid over a rectangular domain defined by latitude and longitude ranges. It creates a set of points with slight irregularities and performs Delaunay triangulation using matplotlib.tri.Triangulation. The resulting unstructured mesh is visualized with triangular elements using plt.triplot, with original points plotted as blue circles, demonstrating the adaptability of unstructured grids in representing irregular terrains in climate science simulations.\n",
    "\n"
   ]
  },
  {
   "cell_type": "code",
   "execution_count": null,
   "metadata": {},
   "outputs": [],
   "source": [
    "import numpy as np\n",
    "import matplotlib.pyplot as plt\n",
    "import matplotlib.tri as mtri\n",
    "\n",
    "# Define the rectangular domain\n",
    "lat_range = [35.0, 37.0]\n",
    "lon_range = [-124.0, -120.0]\n",
    "\n",
    "# Create a set of points with a little irregularity\n",
    "n = 5  # Number of points\n",
    "lats = np.linspace(lat_range[0], lat_range[1], n) + np.random.uniform(-0.5, 0.1, n)\n",
    "lons = np.linspace(lon_range[0], lon_range[1], n) + np.random.uniform(-0.4, 0.2, n)\n",
    "lons, lats = np.meshgrid(lons, lats)\n",
    "\n",
    "# Perform triangulation\n",
    "triang = mtri.Triangulation(lons.flatten(), lats.flatten())\n",
    "\n",
    "# Most basic unstructured meshes need x and y coordinates for each triangle and connectivity information\n",
    "print(\"Shape of triangles: \", triang.triangles.shape)\n",
    "print((\"x coordinate of first triangle: \", triang.x[triang.triangles[0]]))\n",
    "print((\"y coordinate of first triangle: \", triang.y[triang.triangles[0]]))\n",
    "print(\"connectivity of first triangle: \", triang.triangles[0])\n",
    "\n",
    "# Plot the result\n",
    "plt.triplot(triang, marker='o')\n",
    "plt.plot(lons, lats, 'bo')  # Plot the original points\n",
    "plt.show()"
   ]
  },
  {
   "cell_type": "markdown",
   "metadata": {},
   "source": [
    "Note that we don't add data to the above grid, manipulating the data on an unstructured grid is a bit more complicated than on a structured grid and often requires special interpolation techniques to get the data on the grid."
   ]
  },
  {
   "cell_type": "markdown",
   "metadata": {},
   "source": [
    "# Unstructured Grid Benefits\n",
    "- Adaptability to complex geometries: Fits intricate shapes and boundaries\n",
    "\n",
    "- Often runs faster than structured grids: Requires fewer elements to achieve similar accuracy\n",
    "  \n",
    "- Local refinement: Concentrates resolution on areas of interest\n",
    "  \n",
    "- Flexibility in element types: Accommodates various element shapes\n",
    "  \n",
    "- Efficient parallelization: Scales well to multiple processors\n",
    "  \n",
    "- Suitability for dynamic simulations: Adapts to changing conditions"
   ]
  },
  {
   "cell_type": "markdown",
   "metadata": {},
   "source": [
    "# Why UXarray?\n",
    "\n",
    "- Bring standardization to unstructured mesh support for climate data analysis and visualization.\n",
    "\n",
    "- Adherence to the UGrid specification for compatibility with UGrid-compliant tools and data sources.\n",
    "\n",
    "- Optimized data structures and algorithms for handling large and complex unstructured datasets.\n",
    "\n",
    "- Simplified data access using Xarray's familiar data structures and operations. \n",
    "\n",
    "- Enhanced Interoperability and Community Collaboration.\n",
    "\n",
    "- One interface for a variety of unstructured grid formats.\n",
    "\n",
    "The above example uses triangulation to create an unstructured grid. However, there are many other ways to create unstructured grids. All have very specific conventions and formats. UXarray is a library that can read and write many of these formats. The specific focus of UXarray is to provide a common interface to access and manipulate unstructured grids in the climate science community."
   ]
  },
  {
   "cell_type": "markdown",
   "metadata": {},
   "source": [
    "## Loading and plotting a mesh with UXarray\n",
    "\n",
    "The code below loads an MPAS OCEAN mesh and plots it using the UXarray library plot function.\n",
    "This mesh"
   ]
  },
  {
   "cell_type": "code",
   "execution_count": null,
   "metadata": {},
   "outputs": [],
   "source": [
    "import uxarray as ux\n"
   ]
  },
  {
   "cell_type": "code",
   "execution_count": null,
   "metadata": {},
   "outputs": [],
   "source": [
    "import uxarray as ux\n",
    "import requests\n",
    "\n",
    "small_file_480km = requests.get(\n",
    "            \"https://web.lcrc.anl.gov/public/e3sm/inputdata/share/meshes/mpas/ocean/oQU480.230422.nc\"\n",
    "        ).content\n",
    "\n",
    "ds_small_480km = ux.open_dataset(small_file_480km, small_file_480km)\n",
    "print(\"The mesh contains:\", ds_small_480km.uxgrid)"
   ]
  },
  {
   "cell_type": "markdown",
   "metadata": {},
   "source": [
    "# Plot data on a mesh with UXarray"
   ]
  },
  {
   "cell_type": "code",
   "execution_count": null,
   "metadata": {},
   "outputs": [],
   "source": [
    "ds_small_480km.uxgrid.plot(title=\"MPAS OCEAN Unstructured Mesh Plot\", height=350, width=700)"
   ]
  },
  {
   "cell_type": "markdown",
   "metadata": {},
   "source": [
    "Now check the variables in the mesh dataset and plot one of the variables:"
   ]
  },
  {
   "cell_type": "code",
   "execution_count": null,
   "metadata": {},
   "outputs": [],
   "source": [
    "ds_small_480km"
   ]
  },
  {
   "cell_type": "code",
   "execution_count": null,
   "metadata": {},
   "outputs": [],
   "source": [
    "ds_small_480km['bottomDepth'].plot.polygons(title=\"Bottom Depth Polygon Plot\", height=350, width=700)"
   ]
  },
  {
   "cell_type": "markdown",
   "metadata": {},
   "source": [
    "This notebook serves as an introduction to unstructured grids and UXarray. For more information, please visit the UXarray documentation at https://uxarray.readthedocs.io/en/latest/ and specifically see the example section: https://uxarray.readthedocs.io/en/latest/examples.html"
   ]
  }
 ],
 "metadata": {
  "kernelspec": {
   "display_name": "Python 3 (ipykernel)",
   "language": "python",
   "name": "python3"
  },
  "language_info": {
   "codemirror_mode": {
    "name": "ipython",
    "version": 3
   },
   "file_extension": ".py",
   "mimetype": "text/x-python",
   "name": "python",
   "nbconvert_exporter": "python",
   "pygments_lexer": "ipython3",
   "version": "3.11.4"
  },
  "nbdime-conflicts": {
   "local_diff": [
    {
     "diff": [
      {
       "diff": [
        {
         "key": 0,
         "op": "addrange",
         "valuelist": [
          "Python 3"
         ]
        },
        {
         "key": 0,
         "length": 1,
         "op": "removerange"
        }
       ],
       "key": "display_name",
       "op": "patch"
      }
     ],
     "key": "kernelspec",
     "op": "patch"
    }
   ],
   "remote_diff": [
    {
     "diff": [
      {
       "diff": [
        {
         "key": 0,
         "op": "addrange",
         "valuelist": [
          "Python3"
         ]
        },
        {
         "key": 0,
         "length": 1,
         "op": "removerange"
        }
       ],
       "key": "display_name",
       "op": "patch"
      }
     ],
     "key": "kernelspec",
     "op": "patch"
    }
   ]
  },
  "toc-autonumbering": false
 },
 "nbformat": 4,
 "nbformat_minor": 4
}
