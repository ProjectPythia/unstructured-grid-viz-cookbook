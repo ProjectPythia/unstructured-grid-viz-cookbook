{
 "cells": [
  {
   "cell_type": "markdown",
   "metadata": {},
   "source": [
    "# Unstructured Grids Overview"
   ]
  },
  {
   "cell_type": "markdown",
   "metadata": {},
   "source": [
    "---"
   ]
  },
  {
   "cell_type": "markdown",
   "metadata": {},
   "source": [
    "The goal of this notebook is to provide a brief overview of unstructured grids and provide a teaser of plotting with the [UXarray](https://uxarray.readthedocs.io/) package.\n",
    "\n",
    "Contents:\n",
    "1. Structured vs. Unstructured Grids\n",
    "2. Structured Grids\n",
    "3. Unstructured Grids\n",
    "4. Why UXarrary for unstructured grids?"
   ]
  },
  {
   "cell_type": "markdown",
   "source": [],
   "metadata": {
    "collapsed": false
   }
  },
  {
   "cell_type": "markdown",
   "metadata": {},
   "source": [
    "## Structured vs Unstructured Grids\n"
   ]
  },
  {
   "cell_type": "markdown",
   "metadata": {},
   "source": [
    "It is important to understand this difference, before diving into unstructured grid:\n",
    "\n",
    "A structured grid is well-ordered, with a simple scheme used to label elements and identify neighbors, while an unstructured grid allows elements to be joined in any manner, requiring special lists to identify neighboring elements.\n",
    "\n",
    "Note that the focus here is on two dimensional grids in the climate and weather context, but the same concepts apply to three dimensional grids."
   ]
  },
  {
   "cell_type": "markdown",
   "metadata": {},
   "source": [
    "## Structured Grids\n",
    "A few advantages of structured grids are:\n",
    "- Uniform Representation: Simplifies numerical methods and enhances result interpretation.\n",
    "  \n",
    "- Efficient Numerics: Well-suited for finite-difference schemes, ensuring computational efficiency.\n",
    "  \n",
    "- Simplified Interpolation: Straightforward interpolation facilitates integration of observational data and model outputs.\n",
    "  \n",
    "- Boundary Handling: Ideal for regular boundaries, easing implementation of boundary conditions.\n",
    "  \n",
    "- Optimized Parallel Computing: Regular structure supports efficient parallel computing for scalability."
   ]
  },
  {
   "cell_type": "markdown",
   "metadata": {},
   "source": [
    "This code below shows a structured mesh example over 2D earth geometry and plots random temperature data. \n",
    "\n",
    "Given the number of points in longitude and latitude direction, the code uses Numpy's meshgrid to generates a structured grid. The temperature data is then interpolated onto this grid, creating a smooth representation. Xarray is leveraged to organize the gridded data into a dataset, facilitating easy manipulation and visualization. The resulting plot showcases the data on this structure mesh, providing a clearer understanding of temperature variations across defined longitude and latitude ranges. Plotting the structured grid and the temperature data is done using Cartopy, a cartographic plotting library. \n",
    "\n",
    "There are many other libraries and ways to create a structured grids."
   ]
  },
  {
   "cell_type": "code",
   "execution_count": null,
   "metadata": {},
   "outputs": [],
   "source": [
    "import cartopy.crs as ccrs\n",
    "import matplotlib.pyplot as plt\n",
    "import numpy as np\n",
    "import xarray as xr\n",
    "\n",
    "# Define the global domain\n",
    "lat_range = [-90.0, 90.0]\n",
    "lon_range = [-180.0, 180.0]\n",
    "\n",
    "# Create a structured grid. Note the number of points in each dimension\n",
    "# There is not need to store the grid points in a separate array\n",
    "# Also note that the grid points are evenly spaced and not connectivity information is needed\n",
    "\n",
    "num_lat_points = 20\n",
    "num_lon_points = 30\n",
    "\n",
    "lats = np.linspace(lat_range[0], lat_range[1], num_lat_points)\n",
    "lons = np.linspace(lon_range[0], lon_range[1], num_lon_points)\n",
    "\n",
    "lons_grid, lats_grid = np.meshgrid(lons, lats)\n",
    "\n",
    "# Generate random temperature data for each grid point\n",
    "temperature_data = np.random.uniform(\n",
    "    low=20, high=30, size=(num_lat_points, num_lon_points)\n",
    ")\n",
    "\n",
    "# Create xarray Dataset\n",
    "ds = xr.Dataset()\n",
    "ds[\"temperature\"] = ([\"lat\", \"lon\"], temperature_data)\n",
    "ds[\"lon\"] = lons\n",
    "ds[\"lat\"] = lats\n",
    "\n",
    "# Plot the structured grid using xarray\n",
    "fig, ax = plt.subplots(subplot_kw={\"projection\": ccrs.PlateCarree()})\n",
    "ax.set_global()\n",
    "\n",
    "# Plot world map lines\n",
    "ax.coastlines()\n",
    "ax.gridlines(draw_labels=True, dms=True, x_inline=False, y_inline=False)\n",
    "\n",
    "# Plot the structured grid\n",
    "cs = ax.pcolormesh(\n",
    "    ds[\"lon\"], ds[\"lat\"], ds[\"temperature\"], cmap=\"coolwarm\", shading=\"auto\"\n",
    ")\n",
    "\n",
    "# Colorbar\n",
    "cbar = plt.colorbar(cs, ax=ax, label=\"Temperature (°C)\")\n",
    "\n",
    "ax.set_title(\"Structured Grid Example\")\n",
    "plt.show()"
   ]
  },
  {
   "cell_type": "markdown",
   "metadata": {},
   "source": [
    "## Unstructured Grids"
   ]
  },
  {
   "cell_type": "markdown",
   "metadata": {},
   "source": [
    "Characteristic features of unstructured grids are:"
   ]
  },
  {
   "cell_type": "markdown",
   "metadata": {},
   "source": [
    "\n",
    "- Adaptability to complex geometries: Fits intricate shapes and boundaries\n",
    "\n",
    "- Often runs faster than structured grids: Requires fewer elements to achieve similar accuracy\n",
    "  \n",
    "- Local refinement: Concentrates resolution on areas of interest\n",
    "  \n",
    "- Flexibility in element types: Accommodates various element shapes\n",
    "  \n",
    "- Efficient parallelization: Scales well to multiple processors\n",
    "  \n",
    "- Suitability for dynamic simulations: Adapts to changing conditions"
   ]
  },
  {
   "cell_type": "markdown",
   "metadata": {},
   "source": [
    "There are a variety of libraries and conventions for creating unstructured grids. Here we use a very basic standard python approach to showcase an unstructured grid: \n",
    "\n",
    "The code generates an unstructured grid over a rectangular domain defined by latitude and longitude ranges. It creates a set of points using matplotlib.tri.Triangulation. The resulting triangulation is then plotted using cartopy and matplotlib.\n",
    "\n",
    "The are many other types of elements that can be used to create unstructured grids. Polygonal elements are often used to represent complex geometries. Meshes often contain mixed elements with different types of elements used in different areas of the domain."
   ]
  },
  {
   "cell_type": "code",
   "execution_count": null,
   "metadata": {},
   "outputs": [],
   "source": [
    "import cartopy.crs as ccrs\n",
    "import matplotlib.pyplot as plt\n",
    "import matplotlib.tri as mtri\n",
    "import numpy as np\n",
    "import xarray as xr\n",
    "\n",
    "# Generate random temperature data\n",
    "np.random.seed(42)\n",
    "num_points = 600\n",
    "latitudes = np.random.uniform(low=-90, high=90, size=num_points)\n",
    "longitudes = np.random.uniform(low=-180, high=180, size=num_points)\n",
    "temperatures = np.random.uniform(low=-30, high=30, size=num_points)\n",
    "\n",
    "# Create xarray DataArray for temperature data\n",
    "temperature_data = xr.DataArray(\n",
    "    temperatures, dims=\"points\", coords={\"points\": range(num_points)}\n",
    ")\n",
    "\n",
    "# Perform Delaunay triangulation\n",
    "triang = mtri.Triangulation(longitudes, latitudes)\n",
    "\n",
    "# Create xarray DataArray for triangulation coordinates\n",
    "triang_data = xr.DataArray(\n",
    "    np.column_stack([triang.x, triang.y]), dims=(\"points\", \"coords\")\n",
    ")\n",
    "\n",
    "# Plot the globe with unstructured mesh using xarray\n",
    "fig, ax = plt.subplots(subplot_kw={\"projection\": ccrs.PlateCarree()})\n",
    "ax.set_global()\n",
    "\n",
    "# Plot world map lines with prominent gridlines\n",
    "ax.coastlines(linewidth=0.5)\n",
    "# ax.gridlines(draw_labels=True, dms=True, x_inline=False, y_inline=False, linewidth=0.5)\n",
    "\n",
    "# Plot unstructured mesh with bold lines\n",
    "ax.triplot(\n",
    "    triang, \"ko-\", markersize=0.1, linewidth=0.5, alpha=0.5\n",
    ")  # Increase linewidth to see the triangles\n",
    "\n",
    "# Scatter plot with temperature data\n",
    "sc = ax.scatter(\n",
    "    longitudes,\n",
    "    latitudes,\n",
    "    c=temperature_data,\n",
    "    cmap=\"coolwarm\",\n",
    "    s=10,\n",
    "    transform=ccrs.PlateCarree(),\n",
    ")\n",
    "\n",
    "# Colorbar\n",
    "cbar = plt.colorbar(sc, ax=ax, label=\"Temperature (°C)\")\n",
    "\n",
    "ax.set_title(\"Unstructured Grid Example\")\n",
    "plt.show()"
   ]
  },
  {
   "cell_type": "markdown",
   "metadata": {},
   "source": [
    "<div class=\"admonition alert alert-warning\">\n",
    "    <p class=\"admonition-title\" style=\"font-weight:bold\">Note:</p>\n",
    "    This is a very basic example of an unstructured grid with triangles. There are very specialized libraries to create\n",
    "    unstructured grids. Often the region of interest is meshed with a finer resolution. The mesh is then coarsened in\n",
    "    areas where the resolution is not needed. This is done to reduce the number of elements and improve computational\n",
    "    efficiency.\n",
    "</div>"
   ]
  },
  {
   "cell_type": "markdown",
   "metadata": {},
   "source": [
    "## Why UXarray for Unstructured Grids?\n",
    "\n",
    "UXarray, which stands for \"Unstructured-Xarray\", is a Python package that provides Xarray-styled functionality for working with unstructured grids built around the UGRID conventions. UXarray can simplify working with unstructured grids because it:\n",
    "\n",
    "- Enables significant data analysis and visualization functionality to be executed directly on unstructured grids\n",
    "\n",
    "- Inherits from Xarray, providing simplified data using familiar (Xarray-like) data structures and operations\n",
    "  \n",
    "- Brings standardization to unstructured mesh support for climate data analysis and visualization\n",
    "\n",
    "- Adheres to the UGRID specifications for compatibility across a variety of mesh formats\n",
    "\n",
    "- Builds on optimized data structures and algorithms for handling large and complex unstructured datasets\n",
    "\n",
    "- Supports enhanced interoperability and community collaboration\n",
    "\n",
    "- Provides a single interface for supporting a variety of unstructured grid formats including UGRID, MPAS, SCRIP, and Exodus"
   ]
  },
  {
   "cell_type": "markdown",
   "metadata": {},
   "source": [
    "<div class=\"admonition alert alert-warning\">\n",
    "    <p class=\"admonition-title\" style=\"font-weight:bold\">Note:</p>\n",
    "    This notebook serves as an introduction to unstructured grids and UXarray. For more information, please visit the\n",
    "    <a href=\"https://uxarray.readthedocs.io/en/latest/\">UXarray documentation</a> and specifically see the \n",
    "    <a href=\"https://uxarray.readthedocs.io/en/latest/examples.html\">Usage examples</a> section.\n",
    "</div>"
   ]
  },
  {
   "cell_type": "markdown",
   "metadata": {},
   "source": [
    "## What is next?\n",
    "The next sections will start with basic building blocks of UXarray and then slowly dive into more advanced features."
   ]
  }
 ],
 "metadata": {
  "kernelspec": {
   "display_name": "Python 3 (ipykernel)",
   "language": "python",
   "name": "python3"
  },
  "language_info": {
   "codemirror_mode": {
    "name": "ipython",
    "version": 3
   },
   "file_extension": ".py",
   "mimetype": "text/x-python",
   "name": "python",
   "nbconvert_exporter": "python",
   "pygments_lexer": "ipython3",
   "version": "3.12.2"
  },
  "nbdime-conflicts": {
   "local_diff": [
    {
     "diff": [
      {
       "diff": [
        {
         "key": 0,
         "op": "addrange",
         "valuelist": [
          "Python 3"
         ]
        },
        {
         "key": 0,
         "length": 1,
         "op": "removerange"
        }
       ],
       "key": "display_name",
       "op": "patch"
      }
     ],
     "key": "kernelspec",
     "op": "patch"
    }
   ],
   "remote_diff": [
    {
     "diff": [
      {
       "diff": [
        {
         "key": 0,
         "op": "addrange",
         "valuelist": [
          "Python3"
         ]
        },
        {
         "key": 0,
         "length": 1,
         "op": "removerange"
        }
       ],
       "key": "display_name",
       "op": "patch"
      }
     ],
     "key": "kernelspec",
     "op": "patch"
    }
   ]
  },
  "toc-autonumbering": false
 },
 "nbformat": 4,
 "nbformat_minor": 4
}
