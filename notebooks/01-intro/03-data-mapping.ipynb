{
 "cells": [
  {
   "cell_type": "markdown",
   "metadata": {},
   "source": [
    "# Data Mapping\n",
    "---\n"
   ]
  },
  {
   "cell_type": "markdown",
   "source": [
    "When attempting to visualize a data variable that resides on an unstructured grid, it's important to identify what element it is mapped to, since that will dictate what visualization to chose."
   ],
   "metadata": {
    "collapsed": false
   }
  },
  {
   "cell_type": "code",
   "execution_count": 1,
   "outputs": [],
   "source": [
    "import uxarray as ux"
   ],
   "metadata": {
    "collapsed": false,
    "ExecuteTime": {
     "end_time": "2023-12-05T01:05:49.720479200Z",
     "start_time": "2023-12-05T01:05:46.693609900Z"
    }
   }
  },
  {
   "cell_type": "markdown",
   "source": [
    "## Sample Mesh\n",
    "\n",
    "As described in the previous sections, an Unstructured Grid is composed of Nodes, Edges, and Faces.\n",
    "\n",
    "Below is a basic example of an Unstructured Grid, containing 13 Nodes, 15 Edges, and 3 Faces.\n",
    "\n",
    "![Sample Mesh](../images/sample/sample_mesh.png)"
   ],
   "metadata": {
    "collapsed": false,
    "is_executing": true
   }
  },
  {
   "cell_type": "markdown",
   "source": [
    "## Face-Centered Data\n",
    "\n",
    "Face-Centered data is mapped to the area that each face covers. \n",
    "\n",
    "![Faces](../images/sample/faces.png)\n"
   ],
   "metadata": {
    "collapsed": false
   }
  },
  {
   "cell_type": "markdown",
   "source": [
    "## Node-Centered Data\n",
    "\n",
    "Node-Centered data is assigned to the corners of each face.\n",
    "\n",
    "\n",
    "![Faces](../images/sample/nodes.png)"
   ],
   "metadata": {
    "collapsed": false
   }
  },
  {
   "cell_type": "markdown",
   "source": [
    "## Edge-Centered Data\n",
    "\n",
    "Edge-Centered data is assigned to the edge that connects each pair of Nodes.\n",
    "\n",
    "![Edges](../images/sample/edges.jpg)"
   ],
   "metadata": {
    "collapsed": false
   }
  },
  {
   "cell_type": "markdown",
   "source": [
    "## Identifying Data Mapping with UXarray\n",
    "\n",
    "We can identify what element a data variable is mapped to by looking at the dimensions of a `UxDataArray` or `UxDataset`"
   ],
   "metadata": {
    "collapsed": false
   }
  },
  {
   "cell_type": "code",
   "execution_count": 2,
   "outputs": [],
   "source": [
    "file_dir = \"../../meshfiles/\""
   ],
   "metadata": {
    "collapsed": false,
    "ExecuteTime": {
     "end_time": "2023-12-05T01:05:49.723990Z",
     "start_time": "2023-12-05T01:05:49.722988300Z"
    }
   }
  },
  {
   "cell_type": "code",
   "execution_count": 3,
   "outputs": [
    {
     "data": {
      "text/plain": "('n_face',)"
     },
     "execution_count": 3,
     "metadata": {},
     "output_type": "execute_result"
    }
   ],
   "source": [
    "grid_filename_mpas = file_dir + \"oQU480.grid.nc\"\n",
    "data_filename_mpas = file_dir + \"oQU480.data.nc\"\n",
    "uxds_mpas = ux.open_dataset(grid_filename_mpas, data_filename_mpas)\n",
    "\n",
    "uxds_mpas[\"bottomDepth\"].dims"
   ],
   "metadata": {
    "collapsed": false,
    "ExecuteTime": {
     "end_time": "2023-12-05T01:05:49.825485800Z",
     "start_time": "2023-12-05T01:05:49.723990Z"
    }
   }
  },
  {
   "cell_type": "code",
   "execution_count": 4,
   "outputs": [
    {
     "data": {
      "text/plain": "('time', 'meshLayers', 'n_node')"
     },
     "execution_count": 4,
     "metadata": {},
     "output_type": "execute_result"
    }
   ],
   "source": [
    "grid_filename_geoflow = file_dir + \"geoflow.grid.nc\"\n",
    "data_filename_geoflow = file_dir + \"geoflow.data.nc\"\n",
    "uxds_geoflow = ux.open_dataset(grid_filename_geoflow, data_filename_geoflow)\n",
    "\n",
    "uxds_geoflow[\"v1\"].dims"
   ],
   "metadata": {
    "collapsed": false,
    "ExecuteTime": {
     "end_time": "2023-12-05T01:05:49.862064400Z",
     "start_time": "2023-12-05T01:05:49.824486700Z"
    }
   }
  },
  {
   "cell_type": "markdown",
   "source": [
    "For \"v1\", we can see that in addition to the \"n_face\" dimension, it also contains \"time\" and \"meshLayers\" dimensions.\n",
    "\n",
    "This can be preceived as \"v1\" residing on each node over some time and layer dimension. \n",
    "\n",
    "\n"
   ],
   "metadata": {
    "collapsed": false
   }
  }
 ],
 "metadata": {
  "kernelspec": {
   "display_name": "Python 3 (ipykernel)",
   "language": "python",
   "name": "python3"
  },
  "language_info": {
   "codemirror_mode": {
    "name": "ipython",
    "version": 3
   },
   "file_extension": ".py",
   "mimetype": "text/x-python",
   "name": "python",
   "nbconvert_exporter": "python",
   "pygments_lexer": "ipython3",
   "version": "3.10.11"
  },
  "nbdime-conflicts": {
   "local_diff": [
    {
     "diff": [
      {
       "diff": [
        {
         "key": 0,
         "op": "addrange",
         "valuelist": [
          "Python 3"
         ]
        },
        {
         "key": 0,
         "length": 1,
         "op": "removerange"
        }
       ],
       "key": "display_name",
       "op": "patch"
      }
     ],
     "key": "kernelspec",
     "op": "patch"
    }
   ],
   "remote_diff": [
    {
     "diff": [
      {
       "diff": [
        {
         "key": 0,
         "op": "addrange",
         "valuelist": [
          "Python3"
         ]
        },
        {
         "key": 0,
         "length": 1,
         "op": "removerange"
        }
       ],
       "key": "display_name",
       "op": "patch"
      }
     ],
     "key": "kernelspec",
     "op": "patch"
    }
   ]
  },
  "toc-autonumbering": false
 },
 "nbformat": 4,
 "nbformat_minor": 4
}
