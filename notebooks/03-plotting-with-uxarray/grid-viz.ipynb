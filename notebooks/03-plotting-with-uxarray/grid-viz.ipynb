{
 "cells": [
  {
   "cell_type": "markdown",
   "id": "580f49cb5fde2c24",
   "metadata": {},
   "source": [
    "<img src=\"https://raw.githubusercontent.com/UXARRAY/uxarray/main/docs/_static/images/logos/uxarray_logo_h_dark.svg\"\n",
    "     width=\"30%\"\n",
    "     alt=\"UXarray logo\"\n",
    "     align=\"right\"\n",
    "/>\n",
    "\n",
    "# Grid Visualization\n",
    "\n",
    "### In this section, you'll learn about:\n",
    "* Plotting the edges of an unstructured grid\n",
    "* Plotting the coordinates of an unstructured grid\n",
    "\n",
    "**Related Documentation**\n",
    "\n",
    "* [UXarray Plotting User Guide](https://uxarray.readthedocs.io/en/latest/user-guide/plotting.html)\n",
    "\n",
    "* **Time to learn**: 5 minutes\n",
    "-----\n",
    "\n"
   ]
  },
  {
   "metadata": {},
   "cell_type": "markdown",
   "source": [
    "## Introduction\n",
    "\n",
    "In the previous sections, we introduced the `Grid` data structure. It stores the variables (coordinates, connectivity, etc.) that are used to represent an unstructured grid. UXarray provides functionality for visualizing the geometry of unstructured grids, which can be useful for understanding the mesh topology and diagnosing patterns or issues prior to data analysis. One example would be analyzing the grid of a dynamical core before running a simulation.\n",
    "\n",
    "For this section, we will use a simple unstructured grid composed of four hexagons.   "
   ],
   "id": "4037d881fcda3720"
  },
  {
   "cell_type": "code",
   "id": "6bdf1449fbe884c4",
   "metadata": {},
   "source": [
    "import uxarray as ux\n",
    "\n",
    "grid_path = \"../../meshfiles/hex.grid.nc\"\n",
    "\n",
    "uxgrid = ux.open_grid(grid_path)\n",
    "uxgrid"
   ],
   "outputs": [],
   "execution_count": null
  },
  {
   "metadata": {},
   "cell_type": "markdown",
   "source": [
    "## Plotting Accessor\n",
    "\n",
    "All plotting methods are accessed through the `Grid.plot` accessor.\n",
    "\n"
   ],
   "id": "e7fadbf907530c66"
  },
  {
   "metadata": {},
   "cell_type": "code",
   "source": [
    "uxgrid.plot(title=\"Default Plot Function\")"
   ],
   "id": "fd26dc3bc65484dd",
   "outputs": [],
   "execution_count": null
  },
  {
   "metadata": {},
   "cell_type": "markdown",
   "source": [
    "## Visualizing Edges\n",
    "\n",
    "Plotting the edges of an unstructured grid gives us an immediate idea of the grid looks like."
   ],
   "id": "c7a07184bc48fa47"
  },
  {
   "metadata": {},
   "cell_type": "code",
   "source": [
    "uxgrid.plot.edges(title=\"Edge Plot\")"
   ],
   "id": "8fa4b5a83e176bc",
   "outputs": [],
   "execution_count": null
  },
  {
   "metadata": {},
   "cell_type": "markdown",
   "source": [
    "## Visualizing Coordinates\n",
    "\n",
    "There are typically three geometric coordinates that are associated with unstructured grids.\n",
    "\n",
    "### Corner Nodes\n",
    "\n",
    "Corner nodes, which are stored in the `node_lat` and `node_lon` variables, represent the latitude and longitude of the nodes (vertices) of each face. \n"
   ],
   "id": "bb28fe23ce8bac55"
  },
  {
   "metadata": {},
   "cell_type": "code",
   "source": [
    "uxgrid.plot.corner_nodes(title=\"Corner Nodes\") * uxgrid.plot()"
   ],
   "id": "7d9662c1e5dac8f7",
   "outputs": [],
   "execution_count": null
  },
  {
   "metadata": {},
   "cell_type": "markdown",
   "source": [
    "### Face Centers\n",
    "\n",
    "Face centers, which are stored in the `face_lat` and `face_lon` variables, represent the latitude and longitude center point of each face. "
   ],
   "id": "366153db5c1e1f4f"
  },
  {
   "metadata": {},
   "cell_type": "code",
   "source": [
    "uxgrid.plot.face_centers(title=\"Face Centers\") * uxgrid.plot()"
   ],
   "id": "6199ebccebd321e7",
   "outputs": [],
   "execution_count": null
  },
  {
   "metadata": {},
   "cell_type": "markdown",
   "source": [
    "### Edge Centers\n",
    "\n",
    "Edge centers, which are stored in the `edge_lat` and `edge_lon` variables, represent the latitude and longitude center point of each edge. "
   ],
   "id": "af4b3dcc8e32e88e"
  },
  {
   "metadata": {},
   "cell_type": "code",
   "source": [
    "uxgrid.plot.edge_centers(title=\"Face Centers\") * uxgrid.plot()"
   ],
   "id": "31a9075b5e5fa7a4",
   "outputs": [],
   "execution_count": null
  },
  {
   "metadata": {},
   "cell_type": "markdown",
   "source": [
    "### Plotting All Coordinates\n",
    "\n",
    "Putting all of these methods together, we can obtain a detail visual of our unstructured grid."
   ],
   "id": "35505cab621918ed"
  },
  {
   "metadata": {},
   "cell_type": "code",
   "source": [
    "(\n",
    "    uxgrid.plot.edges(color=\"black\")\n",
    "    * uxgrid.plot.nodes(marker=\"o\", size=150).relabel(\"Corner Nodes\")\n",
    "    * uxgrid.plot.face_centers(marker=\"s\", size=150).relabel(\"Face Centers\")\n",
    "    * uxgrid.plot.edge_centers(marker=\"^\", size=150).relabel(\"Edge Centers\")\n",
    ").opts(title=\"Grid Coordinates\", legend_position=\"top_right\")"
   ],
   "id": "d93c1ca0d2b3e2d0",
   "outputs": [],
   "execution_count": null
  },
  {
   "metadata": {},
   "cell_type": "markdown",
   "source": "## ",
   "id": "1f0c9ad6f9cedc55"
  }
 ],
 "metadata": {
  "kernelspec": {
   "display_name": "Python 3 (ipykernel)",
   "language": "python",
   "name": "python3"
  },
  "language_info": {
   "codemirror_mode": {
    "name": "ipython",
    "version": 3
   },
   "file_extension": ".py",
   "mimetype": "text/x-python",
   "name": "python",
   "nbconvert_exporter": "python",
   "pygments_lexer": "ipython3",
   "version": "3.12.3"
  }
 },
 "nbformat": 4,
 "nbformat_minor": 5
}
