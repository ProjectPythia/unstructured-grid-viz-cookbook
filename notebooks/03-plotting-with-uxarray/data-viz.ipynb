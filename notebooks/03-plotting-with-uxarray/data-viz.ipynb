{
 "cells": [
  {
   "metadata": {},
   "cell_type": "markdown",
   "source": [
    "<img src=\"https://raw.githubusercontent.com/UXARRAY/uxarray/main/docs/_static/images/logos/uxarray_logo_h_dark.svg\"\n",
    "     width=\"30%\"\n",
    "     alt=\"UXarray logo\"\n",
    "     align=\"right\"\n",
    "/>\n",
    "\n",
    "# Data Visualization\n",
    "\n",
    "### In this tutorial, you'll learn about:\n",
    "\n",
    "* Working with data variables on unstructured grid elements including nodes, edges, and faces\n",
    "* Polygon plotting techniques (vector & raster)\n",
    "* Point plotting techniques (vector & raster)\n",
    "* Handling periodic elements for 2D visualization\n",
    "\n",
    "\n",
    "**Time to learn**: 15 minutes\n",
    "\n",
    "-----\n",
    "\n"
   ],
   "id": "bb5bb1e53d861fd4"
  },
  {
   "metadata": {},
   "cell_type": "markdown",
   "source": [
    "## Introduction\n",
    "\n",
    "\n",
    "###  Building on Grid Visualization\n",
    "\n",
    "Our exploration of unstructured grid visualization continues from the [previous section](grid-viz), where we examined geometric visualization using the `Grid` class. We now advance to the next critical aspect: visualizing data variables mapped to unstructured grid elements.\n",
    "\n",
    "###  Understanding Data Element Mapping\n",
    "\n",
    "The visualization approach for unstructured grid data depends fundamentally on how data variables map to specific grid elements. Each variable may correspond to nodes, edges, or faces, and this mapping determines the most effective visualization strategy. This relationship between data and grid elements forms the foundation for selecting appropriate visualization techniques that accurately represent your data's spatial distribution and relationships."
   ],
   "id": "142fc358a6bd8cba"
  },
  {
   "metadata": {},
   "cell_type": "code",
   "source": [
    "import uxarray as ux"
   ],
   "id": "ac01a35ccd9136f1",
   "outputs": [],
   "execution_count": null
  },
  {
   "cell_type": "code",
   "id": "bc2d87ab434c9abc",
   "metadata": {},
   "source": [
    "grid_path = \"../../meshfiles/oQU480.grid.nc\"\n",
    "data_path = \"../../meshfiles/oQU480.data.nc\"\n",
    "\n",
    "uxds = ux.open_dataset(grid_path, data_path)\n",
    "uxds[\"bottomDepth\"]"
   ],
   "outputs": [],
   "execution_count": null
  },
  {
   "metadata": {},
   "cell_type": "markdown",
   "source": [
    "\n",
    "Our data variable above, `bottomDepth`, has a final dimension of `n_face`, meaning that it is mapped to the faces of our grid."
   ],
   "id": "14853d698e597985"
  },
  {
   "metadata": {},
   "cell_type": "markdown",
   "source": [
    "## Plotting Accessor\n",
    "\n",
    "UXarray provides streamlined access to all visualization methods through the `UxDataArray.plot` accessor. This interface serves as the central entry point for data visualization, with each data array supporting a default visualization method when calling `UxDataArray.plot()`."
   ],
   "id": "c24e4d5338a787fb"
  },
  {
   "metadata": {},
   "cell_type": "code",
   "source": [
    "uxds[\"bottomDepth\"].plot()"
   ],
   "id": "8f11729c1ef589ae",
   "outputs": [],
   "execution_count": null
  },
  {
   "metadata": {},
   "cell_type": "markdown",
   "source": [
    "## Polygons\n",
    "\n",
    "Face-centered data variables are visualized by default using raster polygon plots. In these plots, each face within the unstructured grid is represented as a distinct polygon. The polygons are shaded according to their corresponding data values.\n"
   ],
   "id": "eb56487f09d72dcc"
  },
  {
   "metadata": {},
   "cell_type": "code",
   "source": [
    "uxds[\"bottomDepth\"].plot.polygons()"
   ],
   "id": "e18e61780a4bcc13",
   "outputs": [],
   "execution_count": null
  },
  {
   "metadata": {},
   "cell_type": "markdown",
   "source": [
    "### Raster vs Vector Polygons\n",
    "\n",
    "By default, polygon rasterization is enabled (`rasterize=True`). This setting optimizes performance by converting vector polygons into a raster format when rendering. For high-resolution grids, maintaining rasterization is strongly recommended, as rendering individual vector polygons can significantly impact performance.\n",
    "\n",
    "Disabling rasterization (`rasterize=False`) switches to direct vector polygon rendering, which may be suitable for simpler visualizations where maintaining vector properties is essential."
   ],
   "id": "c79f32a58aca2383"
  },
  {
   "metadata": {},
   "cell_type": "code",
   "source": [
    "uxds[\"bottomDepth\"].plot.polygons(rasterize=False)"
   ],
   "id": "3683a253cecf13d8",
   "outputs": [],
   "execution_count": null
  },
  {
   "metadata": {},
   "cell_type": "markdown",
   "source": [
    "Vector polygon plots maintain complete data fidelity regardless of zoom level, preserving both accuracy and visual quality throughout any magnification. This characteristic distinguishes them from rasterized alternatives, which may show pixelation upon close inspection.\n",
    "\n",
    "The following visualization demonstrates this advantage. When examining a magnified region of our grid, the vector-rendered polygons maintain their crisp definition and precise data representation.\n"
   ],
   "id": "78a557913d44d26c"
  },
  {
   "metadata": {},
   "cell_type": "code",
   "source": [
    "(\n",
    "    uxds[\"bottomDepth\"].plot.polygons(\n",
    "        rasterize=False, xlim=(-20, 0), ylim=(-5, 5), title=\"Vector Polygons\"\n",
    "    )\n",
    "    + uxds[\"bottomDepth\"].plot.polygons(\n",
    "        rasterize=True, xlim=(-20, 0), ylim=(-5, 5), title=\"Raster Polygons\"\n",
    "    )\n",
    ").cols(1)"
   ],
   "id": "3170feafa0d80dd7",
   "outputs": [],
   "execution_count": null
  },
  {
   "metadata": {},
   "cell_type": "markdown",
   "source": [
    "### Handling Periodic Elements\n",
    "\n",
    "\n",
    "Visualizing unstructured grids on a spherical surface presents unique challenges, particularly when dealing with the antimeridian (180° longitude). This longitudinal line, where the Eastern and Western hemispheres meet, requires special consideration to ensure accurate 2D visualization of data that crosses this boundary.\n",
    "\n",
    "![Antimeridian Example](https://upload.wikimedia.org/wikipedia/commons/thumb/8/8d/Earth_map_with_180th_meridian.jpg/640px-Earth_map_with_180th_meridian.jpg)\n",
    "\n",
    "UXarray addresses this challenge through its `periodic_elements` parameter in polygon plotting functions. This parameter offers three approaches for managing faces that intersect with the antimeridian:\n",
    "\n",
    "`periodic_elements='exclude'` (Default)\n",
    "Faces that cross the antimeridian are masked, removing them from the visualization. While this approach may omit some data, it offers optimal performance and is recommended for most use cases.\n",
    "\n",
    "`periodic_elements='split'`\n",
    "Faces that cross the antimeridian are divided, ensuring complete data representation. However, this processing step impacts the initial plotting time. \n",
    "\n",
    "`periodic_elements='ignore'`\n",
    "Faces that cross the antimeridian are not processed. \n",
    "\n",
    "\n",
    "For optimal visualization performance, we recommend maintaining the default `periodic_elements='exclude'` setting unless complete data representation at the antimeridian is essential for your specific analysis.\n",
    "\n",
    "\n",
    "\n"
   ],
   "id": "29ea37a88356169b"
  },
  {
   "metadata": {},
   "cell_type": "code",
   "source": [
    "(\n",
    "    uxds[\"bottomDepth\"].plot.polygons(\n",
    "        periodic_elements=\"exclude\", title=\"periodic_elements='exclude'\"\n",
    "    )\n",
    "    + uxds[\"bottomDepth\"].plot.polygons(\n",
    "        periodic_elements=\"split\", title=\"periodic_elements='split'\"\n",
    "    )\n",
    ").cols(1)"
   ],
   "id": "b3dd8b49dd7e31f8",
   "outputs": [],
   "execution_count": null
  },
  {
   "metadata": {},
   "cell_type": "markdown",
   "source": "When working with data near or across the antimeridian (180° longitude), selecting an appropriate projection becomes crucial for accurate visualization. For comprehensive guidance on handling such scenarios, including recommended projections and geographic features, please refer to the [Geographic Projections & Features](geo) notebook.",
   "id": "11f5cc8df330a6a1"
  },
  {
   "metadata": {},
   "cell_type": "markdown",
   "source": [
    "### Polygon Plots for Node/Edge Data\n",
    "\n",
    "\n",
    "Polygon plots require face-centered data variables, as each polygon must be rendered with a single value. This limitation presents a challenge when working with node-centered or edge-centered data, requiring a conversion process to map the data to faces.\n",
    "\n",
    "One effective approach is to perform topological averaging. This method calculates the mean value of adjacent nodes or edges and assigns the result to each face, creating a face-centered representation suitable for polygon visualization. While this transformation may introduce some averaging effects, it provides a practical solution for visualizing node and edge data within the constraints of polygon plotting.\n"
   ],
   "id": "582ebe3367af6c0d"
  },
  {
   "metadata": {},
   "cell_type": "code",
   "source": [
    "grid_path = \"../../meshfiles/hex.grid.nc\"\n",
    "data_path = \"../../meshfiles/hex.node.data.nc\"\n",
    "\n",
    "uxds_node_centered = ux.open_dataset(grid_path, data_path)"
   ],
   "id": "e8a55438a47681ea",
   "outputs": [],
   "execution_count": null
  },
  {
   "metadata": {},
   "cell_type": "code",
   "source": [
    "uxds_node_centered[\"random_data_node\"].topological_mean(destination=\"face\").plot()"
   ],
   "id": "d200de46ba97c821",
   "outputs": [],
   "execution_count": null
  },
  {
   "metadata": {},
   "cell_type": "markdown",
   "source": [
    "## Points\n",
    "\n",
    "\n",
    "Points provide an alternative visualization method that offers flexibility across different data mappings. This approach maps data values to specific coordinates, enabling visualization of node-centered, edge-centered, or face-centered data.\n",
    "\n",
    "The following visualization demonstrates this technique using face-centered data. Each point corresponds to a face center coordinate and displays its associated data value. This method maintains data fidelity while presenting the information in a discrete, coordinate-based format."
   ],
   "id": "698f98ef74101734"
  },
  {
   "metadata": {},
   "cell_type": "code",
   "source": [
    "uxds[\"bottomDepth\"].plot.points()"
   ],
   "id": "eabad67e2d6fa17b",
   "outputs": [],
   "execution_count": null
  },
  {
   "metadata": {},
   "cell_type": "markdown",
   "source": [
    "### Rasterization\n",
    "\n",
    "As with polygon-based visualizations, point-based plots support rasterization through the `rasterize=True` parameter. This optimization technique converts vector-based points into a raster format during rendering."
   ],
   "id": "1e2ed9f38a153576"
  },
  {
   "metadata": {},
   "cell_type": "code",
   "source": [
    "uxds[\"bottomDepth\"].plot.points(rasterize=True)"
   ],
   "id": "ddb3e5443f3c0722",
   "outputs": [],
   "execution_count": null
  },
  {
   "metadata": {},
   "cell_type": "markdown",
   "source": [
    "Point-based rasterization demonstrates different characteristics across varying data resolutions. For coarse-resolution data like our example, point-based visualization produces notably lower visual quality compared to polygon-based approaches. \n",
    "\n",
    "However, rasterized point plots emerge as a valuable tool for high-resolution grid visualization, offering significant performance advantages. For detailed information about leveraging this technique with high-resolution data, please refer to the [Visualizing High-Resolution Grids](high-res) section."
   ],
   "id": "5f9a0b768160cfb0"
  }
 ],
 "metadata": {
  "kernelspec": {
   "display_name": "Python 3 (ipykernel)",
   "language": "python",
   "name": "python3"
  },
  "language_info": {
   "codemirror_mode": {
    "name": "ipython",
    "version": 3
   },
   "file_extension": ".py",
   "mimetype": "text/x-python",
   "name": "python",
   "nbconvert_exporter": "python",
   "pygments_lexer": "ipython3",
   "version": "3.12.3"
  }
 },
 "nbformat": 4,
 "nbformat_minor": 5
}
