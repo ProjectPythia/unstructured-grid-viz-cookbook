{
 "cells": [
  {
   "cell_type": "markdown",
   "metadata": {},
   "source": [
    "# Polygons\n",
    "---"
   ]
  },
  {
   "cell_type": "markdown",
   "source": [
    "In most simulations, such as Global Climate Models, Unstructured Grids are composed of nodes that are connected with edges to form faces that discretize the surface of a sphere (i.e. Earth).\n",
    "\n",
    "For visualization, these faces can be geometrically represented as Polygons and shaded by a corresponding face-centered data variable."
   ],
   "metadata": {
    "collapsed": false
   }
  },
  {
   "cell_type": "markdown",
   "source": [
    "## Setup"
   ],
   "metadata": {
    "collapsed": false
   }
  },
  {
   "cell_type": "markdown",
   "source": [
    "### Imports"
   ],
   "metadata": {
    "collapsed": false
   }
  },
  {
   "cell_type": "code",
   "execution_count": null,
   "outputs": [],
   "source": [
    "import uxarray as ux\n",
    "\n",
    "file_dir = \"../../meshfiles/\""
   ],
   "metadata": {
    "collapsed": false
   }
  },
  {
   "cell_type": "markdown",
   "source": [
    "### Grid with Face-Centered Data Variable"
   ],
   "metadata": {
    "collapsed": false
   }
  },
  {
   "cell_type": "code",
   "execution_count": null,
   "outputs": [],
   "source": [
    "grid_filename_mpas = file_dir + \"oQU480.grid.nc\"\n",
    "data_filename_mpas = file_dir + \"oQU480.data.nc\"\n",
    "uxds_mpas = ux.open_dataset(grid_filename_mpas, data_filename_mpas)"
   ],
   "metadata": {
    "collapsed": false
   }
  },
  {
   "cell_type": "markdown",
   "source": [
    "### Grid with Node-Centered Data Variable"
   ],
   "metadata": {
    "collapsed": false
   }
  },
  {
   "cell_type": "code",
   "execution_count": null,
   "outputs": [],
   "source": [
    "grid_filename_geoflow = file_dir + \"geoflow.grid.nc\"\n",
    "data_filename_geoflow = file_dir + \"geoflow.data.nc\"\n",
    "uxds_geoflow = ux.open_dataset(grid_filename_geoflow, data_filename_geoflow)"
   ],
   "metadata": {
    "collapsed": false
   }
  },
  {
   "cell_type": "markdown",
   "source": [
    "## Conversion Methods\n",
    "UXarray represents Unstructured Grids through a set of coordinate and connectivity variables (i.e. `node_lon`, `node_lat`, `face_node_connectivity`, etc.). These variables can be manipulated to obtain our Polygons for visualuzation"
   ],
   "metadata": {
    "collapsed": false
   }
  },
  {
   "cell_type": "markdown",
   "source": [
    "### Representation as a `GeoDataFrame`\n",
    "\n",
    "Polygons are stored in a SpatialPandas `GeoDataFrame`, which is the expected data structured by the HoloViz stack of packages for visualizing polygons.\n",
    "\n"
   ],
   "metadata": {
    "collapsed": false
   }
  },
  {
   "cell_type": "markdown",
   "source": [
    "A `Grid` can be converted into a `GeoDataFrame`, which will contain a single \"geometry\" column, which is a series of Polygons that represent each face."
   ],
   "metadata": {
    "collapsed": false
   }
  },
  {
   "cell_type": "code",
   "execution_count": null,
   "outputs": [],
   "source": [
    "uxds_mpas.uxgrid.to_geodataframe()"
   ],
   "metadata": {
    "collapsed": false
   }
  },
  {
   "cell_type": "markdown",
   "source": [
    "A `UxDataArray` can also be converted into a `GeoDataFrame`. It will now have an additional column containing a 1D-slice of data variable.\n",
    "\n",
    "It's important to note that to convert a `UxDataArray` into a `GeoDataFrame`, the dimension of the data variable must match the number of faces (a.k.a. mapped to faces) and there can not be any additional dimensions (i.e. time, level, etc.)"
   ],
   "metadata": {
    "collapsed": false
   }
  },
  {
   "cell_type": "code",
   "execution_count": null,
   "outputs": [],
   "source": [
    "uxds_mpas[\"bottomDepth\"].to_geodataframe()"
   ],
   "metadata": {
    "collapsed": false
   }
  },
  {
   "cell_type": "markdown",
   "source": [
    "If a data variable is not face-centered, it can be manipulated to get it to map to faces. For node-centered data, as is the case with our Geoflow dataset, we can perform a nodal-average operation, which takes the average all the nodes that saddle a face and use that value to shade the polygon.\n",
    "\n",
    "Here we can also see that we need to index the `time` and `meshLayers` dimensions to obtain our 1D slice of data."
   ],
   "metadata": {
    "collapsed": false
   }
  },
  {
   "cell_type": "code",
   "execution_count": null,
   "outputs": [],
   "source": [
    "uxds_geoflow[\"v1\"].nodal_average()[0][0].to_geodataframe()"
   ],
   "metadata": {
    "collapsed": false
   }
  },
  {
   "cell_type": "markdown",
   "source": [
    "## Vector Polygon Plots"
   ],
   "metadata": {
    "collapsed": false
   }
  },
  {
   "cell_type": "code",
   "execution_count": null,
   "outputs": [],
   "source": [
    "uxds_mpas[\"bottomDepth\"].plot.polygons(width=900, height=400)"
   ],
   "metadata": {
    "collapsed": false
   }
  },
  {
   "cell_type": "code",
   "execution_count": null,
   "outputs": [],
   "source": [
    "uxds_geoflow[\"v1\"].nodal_average()[0][0].plot.polygons(\n",
    "    cmap=\"coolwarm\", width=900, height=400\n",
    ")"
   ],
   "metadata": {
    "collapsed": false
   }
  },
  {
   "cell_type": "markdown",
   "source": [
    "## Rasterized Polygon Plots"
   ],
   "metadata": {
    "collapsed": false
   }
  },
  {
   "cell_type": "code",
   "execution_count": null,
   "outputs": [],
   "source": [
    "uxds_mpas[\"bottomDepth\"].plot.rasterize(method=\"polygon\", width=900, height=400)"
   ],
   "metadata": {
    "collapsed": false
   }
  },
  {
   "cell_type": "code",
   "execution_count": null,
   "outputs": [],
   "source": [
    "uxds_geoflow[\"v1\"].nodal_average()[0][0].plot.rasterize(\n",
    "    method=\"polygon\", cmap=\"coolwarm\", width=900, height=400\n",
    ")"
   ],
   "metadata": {
    "collapsed": false
   }
  },
  {
   "cell_type": "markdown",
   "source": [
    "## Handling Antimeridian Polygons\n",
    "\n",
    "When attempting to visualize unstructured meshes that reside on a sphere, it's necessary to consider the behavior of geometric elements near the Antimeridian. Elements that exist on or cross the antimeridian need to be corrected to properly visualize them. UXarray uses the antimeridian package to split faces along the antimeridian. More details can be found in their [documentation](https://antimeridian.readthedocs.io/en/stable/).\n",
    "\n",
    "\n",
    "![antimeridian example](https://upload.wikimedia.org/wikipedia/commons/thumb/8/8d/Earth_map_with_180th_meridian.jpg/640px-Earth_map_with_180th_meridian.jpg)\n"
   ],
   "metadata": {
    "collapsed": false
   }
  },
  {
   "cell_type": "markdown",
   "source": [
    "You can select whether to include or exclude these antimeridian polygons by using the `exclude_antimeridian` parameter. For larger, higher-resolution, grids, it's suggested to keep `exclude_antimeridian=True` due to the significantly faster performance. "
   ],
   "metadata": {
    "collapsed": false
   }
  },
  {
   "cell_type": "code",
   "execution_count": null,
   "outputs": [],
   "source": [
    "(\n",
    "    uxds_geoflow[\"v1\"]\n",
    "    .nodal_average()[0][0]\n",
    "    .plot.polygons(\n",
    "        exclude_antimeridian=False,\n",
    "        cmap=\"coolwarm\",\n",
    "        title=\"With Antimeridian Faces\",\n",
    "        width=900,\n",
    "        height=400,\n",
    "    )\n",
    "    + uxds_geoflow[\"v1\"]\n",
    "    .nodal_average()[0][0]\n",
    "    .plot.polygons(\n",
    "        exclude_antimeridian=True,\n",
    "        cmap=\"coolwarm\",\n",
    "        title=\"Without Antimeridian Faces\",\n",
    "        width=900,\n",
    "        height=400,\n",
    "    )\n",
    ").cols(1)"
   ],
   "metadata": {
    "collapsed": false
   }
  }
 ],
 "metadata": {
  "kernelspec": {
   "display_name": "Python 3 (ipykernel)",
   "language": "python",
   "name": "python3"
  },
  "language_info": {
   "codemirror_mode": {
    "name": "ipython",
    "version": 3
   },
   "file_extension": ".py",
   "mimetype": "text/x-python",
   "name": "python",
   "nbconvert_exporter": "python",
   "pygments_lexer": "ipython3",
   "version": "3.11.6"
  },
  "nbdime-conflicts": {
   "local_diff": [
    {
     "diff": [
      {
       "diff": [
        {
         "key": 0,
         "op": "addrange",
         "valuelist": [
          "Python 3"
         ]
        },
        {
         "key": 0,
         "length": 1,
         "op": "removerange"
        }
       ],
       "key": "display_name",
       "op": "patch"
      }
     ],
     "key": "kernelspec",
     "op": "patch"
    }
   ],
   "remote_diff": [
    {
     "diff": [
      {
       "diff": [
        {
         "key": 0,
         "op": "addrange",
         "valuelist": [
          "Python3"
         ]
        },
        {
         "key": 0,
         "length": 1,
         "op": "removerange"
        }
       ],
       "key": "display_name",
       "op": "patch"
      }
     ],
     "key": "kernelspec",
     "op": "patch"
    }
   ]
  },
  "toc-autonumbering": false
 },
 "nbformat": 4,
 "nbformat_minor": 4
}
