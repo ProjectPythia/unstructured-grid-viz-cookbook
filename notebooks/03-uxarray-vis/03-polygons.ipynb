{
 "cells": [
  {
   "cell_type": "markdown",
   "metadata": {},
   "source": [
    "# Polygons\n",
    "---"
   ]
  },
  {
   "cell_type": "markdown",
   "metadata": {
    "collapsed": false
   },
   "source": [
    "Unstructured Grids are often used in the Dynamical Cores of climate models because of their ability to represent complex geometries effectively. However, the way unstructured grids are represented makes it difficult to produce quick visualizations.\n",
    "\n",
    "The {LINK TO DATA MAPPING} section discussed that data variables are typically mapped to the elements that compose unstructured grids (nodes, edges, and faces).\n",
    "\n",
    "When data is mapped to the faces, each face is shaded with the value of the data variable. We can treat these faces as Polygons on a plane for visualization.\n",
    "\n",
    "This notebook showcases how UXarray can visualization data as polygons."
   ]
  },
  {
   "cell_type": "markdown",
   "metadata": {
    "collapsed": false
   },
   "source": [
    "## Setup"
   ]
  },
  {
   "cell_type": "code",
   "execution_count": null,
   "metadata": {
    "collapsed": false
   },
   "outputs": [],
   "source": [
    "import uxarray as ux\n",
    "\n",
    "file_dir = \"../../meshfiles/\""
   ]
  },
  {
   "cell_type": "code",
   "execution_count": null,
   "outputs": [],
   "source": [
    "fig_size = 400\n",
    "plot_kwargs = {\"backend\": \"matplotlib\", \"aspect\": 2, \"fig_size\": fig_size}"
   ],
   "metadata": {
    "collapsed": false
   }
  },
  {
   "cell_type": "code",
   "execution_count": null,
   "metadata": {
    "collapsed": false
   },
   "outputs": [],
   "source": [
    "grid_filename_mpas = file_dir + \"oQU480.grid.nc\"\n",
    "data_filename_mpas = file_dir + \"oQU480.data.nc\"\n",
    "uxds_mpas = ux.open_dataset(grid_filename_mpas, data_filename_mpas)"
   ]
  },
  {
   "cell_type": "markdown",
   "source": [
    "## Vector Polygon Plots\n",
    "\n",
    "The `UxDataArray.plot.polygons()` method produces a Vector Polygon plot, with each face represented as a polygon and rendered exactly as it is mathematically represented.\n",
    "\n"
   ],
   "metadata": {
    "collapsed": false
   }
  },
  {
   "cell_type": "code",
   "execution_count": null,
   "outputs": [],
   "source": [
    "uxds_mpas[\"bottomDepth\"].plot.polygons(**plot_kwargs)"
   ],
   "metadata": {
    "collapsed": false
   }
  },
  {
   "cell_type": "markdown",
   "source": [
    "### Interactive Example\n",
    "\n",
    "In the plot below, take some time to zoom and pan around the plot to observe some of the defining characteristics of a Vector Polygon Plot\n",
    "* Hovering over a polygon (face) displays the value mapped to it, which is the same as the original value stored in our `UxDataArray`\n",
    "* There is no loss of data fidelity when zooming in\n",
    "* Each polygon is bounded by edges that are drawn as lines\n",
    "\n"
   ],
   "metadata": {
    "collapsed": false
   }
  },
  {
   "cell_type": "markdown",
   "source": [],
   "metadata": {
    "collapsed": false
   }
  },
  {
   "cell_type": "code",
   "execution_count": null,
   "outputs": [],
   "source": [
    "uxds_mpas[\"bottomDepth\"].plot.polygons(\n",
    "    backend=\"bokeh\", width=1000, height=500, tools=[\"hover\"]\n",
    ")"
   ],
   "metadata": {
    "collapsed": false
   }
  },
  {
   "cell_type": "markdown",
   "source": [
    "Zooming in here shows off the high-level of data fidelity that Vector Polygon Plots produce."
   ],
   "metadata": {
    "collapsed": false
   }
  },
  {
   "cell_type": "code",
   "execution_count": null,
   "outputs": [],
   "source": [
    "uxds_mpas[\"bottomDepth\"].plot.polygons(xlim=(-20, 0), ylim=(-5, 5), **plot_kwargs)"
   ],
   "metadata": {
    "collapsed": false
   }
  },
  {
   "cell_type": "markdown",
   "source": [
    "## Rasterized Polygon Plots\n",
    "\n",
    "The `UxDataArray.plot.rasterize(method='polygon')` function produces a Rasterized Polygon plot. Instead of rendering each polygon exactly as it is mathematically represented, the polygons are rasterized into cells. "
   ],
   "metadata": {
    "collapsed": false
   }
  },
  {
   "cell_type": "code",
   "execution_count": null,
   "outputs": [],
   "source": [
    "uxds_mpas[\"bottomDepth\"].plot.rasterize(method=\"polygon\", **plot_kwargs)"
   ],
   "metadata": {
    "collapsed": false
   }
  },
  {
   "cell_type": "markdown",
   "source": [
    "### Interactive Example\n",
    "\n",
    "In the plot below, take some time to zoom and pan around to observe some of the defining characters of a Raster Polygon Plot and compare it to the Vector Polygon Plot\n",
    "* Zooming in exposes the fact that each polygon is approximately rendered, with jagged edges around the boundaries of each cell\n",
    "* Hovering over a polygon (face) still displays the original data values\n"
   ],
   "metadata": {
    "collapsed": false
   }
  },
  {
   "cell_type": "code",
   "execution_count": null,
   "outputs": [],
   "source": [
    "uxds_mpas[\"bottomDepth\"].plot.rasterize(\n",
    "    method=\"polygon\", backend=\"bokeh\", width=1000, height=500, tools=[\"hover\"]\n",
    ")"
   ],
   "metadata": {
    "collapsed": false
   }
  },
  {
   "cell_type": "markdown",
   "source": [
    "Zooming in here exposes that Raster Polygon Plots are simply approximations of the original geometries that are rasterized onto a fixed-size grid. Compared to the Vector Polygon Plot, the effective resolution is much lower. "
   ],
   "metadata": {
    "collapsed": false
   }
  },
  {
   "cell_type": "code",
   "execution_count": null,
   "outputs": [],
   "source": [
    "uxds_mpas[\"bottomDepth\"].plot.rasterize(\n",
    "    method=\"polygon\", xlim=(-20, 0), ylim=(-5, 5), **plot_kwargs\n",
    ")"
   ],
   "metadata": {
    "collapsed": false
   }
  },
  {
   "cell_type": "markdown",
   "source": [
    "However, a higher level of data fidelity can be achieved by specifying a `pixel_ratio`, which controls the size of the binning used for rasterization. \n",
    "* A high pixel ratio increases the number of bins by making each bin smaller, leading to a higher effective resolution and a better approximation of the vector polygon plot\n",
    "* A low pixel ratio decreases the number of bins by making each bin larger, leading to a lower effective resolution with jagged and coarse approximations of each polygon"
   ],
   "metadata": {
    "collapsed": false
   }
  },
  {
   "cell_type": "code",
   "execution_count": null,
   "outputs": [],
   "source": [
    "(\n",
    "    uxds_mpas[\"bottomDepth\"].plot.rasterize(\n",
    "        xlim=(-20, 0),\n",
    "        ylim=(-5, 5),\n",
    "        pixel_ratio=0.5,\n",
    "        title=\"0.5 (low) Pixel Ratio\",\n",
    "        **plot_kwargs\n",
    "    )\n",
    "    + uxds_mpas[\"bottomDepth\"].plot.rasterize(\n",
    "        xlim=(-20, 0),\n",
    "        ylim=(-5, 5),\n",
    "        pixel_ratio=8.0,\n",
    "        title=\"8.0 (high) Pixel Ratio\",\n",
    "        **plot_kwargs\n",
    "    )\n",
    ").opts(fig_size=fig_size).cols(1)"
   ],
   "metadata": {
    "collapsed": false
   }
  },
  {
   "cell_type": "markdown",
   "source": [
    "## When to use Vector and Raster Plots\n",
    "\n",
    "TODO:"
   ],
   "metadata": {
    "collapsed": false
   }
  },
  {
   "cell_type": "markdown",
   "source": [
    "## Polygons Around Antimeridian\n",
    "\n",
    "When attempting to visualize unstructured meshes that reside on a sphere, it's necessary to consider the behavior of geometric elements near or on the Antimeridian. Elements that exist on or cross the antimeridian need to be corrected to properly visualize them. UXarray uses the antimeridian package to split faces along the antimeridian. More details can be found in their [documentation](https://antimeridian.readthedocs.io/en/stable/)."
   ],
   "metadata": {
    "collapsed": false
   }
  },
  {
   "cell_type": "markdown",
   "source": [
    "<!-- Using text-align on a parent div -->\n",
    "<div style=\"text-align: center;\">\n",
    "    <img src=\"https://upload.wikimedia.org/wikipedia/commons/thumb/8/8d/Earth_map_with_180th_meridian.jpg/640px-Earth_map_with_180th_meridian.jpg\" alt=\"Antimeridian Example\" width=\"800\"/>\n",
    "</div>"
   ],
   "metadata": {
    "collapsed": false
   }
  },
  {
   "cell_type": "markdown",
   "source": [
    "### Opting to Include Antimeridian Polygons\n",
    "\n",
    "To include and correct antimeridian polygons, we can set `exclude_antimeridian=False`. \n",
    "\n",
    "The following plots are zoomed in to a section along the antimeridian. We can see that our plot is split exactly across the antimeridian."
   ],
   "metadata": {
    "collapsed": false
   }
  },
  {
   "cell_type": "code",
   "execution_count": null,
   "outputs": [],
   "source": [
    "(\n",
    "    uxds_mpas[\"bottomDepth\"].plot.polygons(\n",
    "        xlim=(-185, -175),\n",
    "        ylim=(-5, 5),\n",
    "        exclude_antimeridian=False,\n",
    "        title=\"Left of Antimeridian\",\n",
    "        **plot_kwargs\n",
    "    )\n",
    "    + uxds_mpas[\"bottomDepth\"].plot.polygons(\n",
    "        xlim=(175, 185),\n",
    "        ylim=(-5, 5),\n",
    "        exclude_antimeridian=False,\n",
    "        title=\"Right of Antimeridian\",\n",
    "        **plot_kwargs\n",
    "    )\n",
    ").opts(fig_size=fig_size).cols(1)"
   ],
   "metadata": {
    "collapsed": false
   }
  },
  {
   "cell_type": "markdown",
   "source": [
    "### Opting to Exclude Antimeridian Polygons\n",
    "\n",
    "To exclude antimeridian polygons, we can set `exclude_antimeridian=True`. \n",
    "\n",
    "In the following plots, we can see that the polygons that were corrected above are now missing. Since there is a relatively high overhead involved in detecting and correcting each antimeridian polygon, this option excludes them from the plot. "
   ],
   "metadata": {
    "collapsed": false
   }
  },
  {
   "cell_type": "code",
   "execution_count": null,
   "outputs": [],
   "source": [
    "(\n",
    "    uxds_mpas[\"bottomDepth\"].plot.polygons(\n",
    "        xlim=(-185, -175),\n",
    "        ylim=(-5, 5),\n",
    "        exclude_antimeridian=True,\n",
    "        title=\"Left of Antimeridian\",\n",
    "        **plot_kwargs\n",
    "    )\n",
    "    + uxds_mpas[\"bottomDepth\"].plot.polygons(\n",
    "        xlim=(175, 185),\n",
    "        ylim=(-5, 5),\n",
    "        exclude_antimeridian=True,\n",
    "        title=\"Right of Antimeridian\",\n",
    "        **plot_kwargs\n",
    "    )\n",
    ").opts(fig_size=fig_size).cols(1)"
   ],
   "metadata": {
    "collapsed": false
   }
  },
  {
   "cell_type": "markdown",
   "source": [
    "### What Options to Use?\n",
    "\n",
    "For most visualizations, opting to exclude antimeridian polygons leads to a significant performance increase which is discus in the {LINK TO SCALABILITY} section, at the cost of excluding a small percentage of the overall data. \n",
    "\n",
    "However, for small grids (Less than 10,000 faces), excluding antimeridian faces can be noticable in the final result, so it's recommended to keep them included.\n"
   ],
   "metadata": {
    "collapsed": false
   }
  },
  {
   "cell_type": "code",
   "execution_count": null,
   "outputs": [],
   "source": [],
   "metadata": {
    "collapsed": false
   }
  }
 ],
 "metadata": {
  "kernelspec": {
   "display_name": "Python 3 (ipykernel)",
   "language": "python",
   "name": "python3"
  },
  "language_info": {
   "codemirror_mode": {
    "name": "ipython",
    "version": 3
   },
   "file_extension": ".py",
   "mimetype": "text/x-python",
   "name": "python",
   "nbconvert_exporter": "python",
   "pygments_lexer": "ipython3",
   "version": "3.12.2"
  },
  "nbdime-conflicts": {
   "local_diff": [
    {
     "diff": [
      {
       "diff": [
        {
         "key": 0,
         "op": "addrange",
         "valuelist": [
          "Python 3"
         ]
        },
        {
         "key": 0,
         "length": 1,
         "op": "removerange"
        }
       ],
       "key": "display_name",
       "op": "patch"
      }
     ],
     "key": "kernelspec",
     "op": "patch"
    }
   ],
   "remote_diff": [
    {
     "diff": [
      {
       "diff": [
        {
         "key": 0,
         "op": "addrange",
         "valuelist": [
          "Python3"
         ]
        },
        {
         "key": 0,
         "length": 1,
         "op": "removerange"
        }
       ],
       "key": "display_name",
       "op": "patch"
      }
     ],
     "key": "kernelspec",
     "op": "patch"
    }
   ]
  },
  "toc-autonumbering": false
 },
 "nbformat": 4,
 "nbformat_minor": 4
}
