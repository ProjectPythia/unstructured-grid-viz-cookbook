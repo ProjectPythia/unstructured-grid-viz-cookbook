{
 "cells": [
  {
   "cell_type": "markdown",
   "metadata": {},
   "source": [
    "# Polygons\n",
    "---"
   ]
  },
  {
   "cell_type": "markdown",
   "metadata": {
    "collapsed": false,
    "jupyter": {
     "outputs_hidden": false
    }
   },
   "source": [
    "Unstructured Grids are often used in the Dynamical Cores of climate models because of their ability to represent complex geometries effectively. Because of the complexity of the geometry, it is often difficult to produce quick and fast visualizations.\n",
    "\n",
    "As was discussed in the DATA MAPPING section, data variables are typically mapped to the geometric elements that make up the entire unstructured grid (nodes, edges, and faces).\n",
    "\n",
    "When data is mapped to the faces, each face is shaded with the value of the data variable. We can treat these faces as Polygons on a plane for visualization.\n",
    "\n",
    "\n",
    "This notebook showcases how UXarray can visualization data as polygons."
   ]
  },
  {
   "cell_type": "markdown",
   "metadata": {
    "collapsed": false,
    "jupyter": {
     "outputs_hidden": false
    }
   },
   "source": [
    "## Setup"
   ]
  },
  {
   "cell_type": "code",
   "execution_count": null,
   "metadata": {
    "collapsed": false,
    "jupyter": {
     "outputs_hidden": false
    }
   },
   "outputs": [],
   "source": [
    "import uxarray as ux\n",
    "\n",
    "file_dir = \"../../meshfiles/\""
   ]
  },
  {
   "cell_type": "markdown",
   "metadata": {
    "collapsed": false,
    "jupyter": {
     "outputs_hidden": false
    }
   },
   "source": [
    "### Grid with Face-Centered Data Variable\n"
   ]
  },
  {
   "cell_type": "code",
   "execution_count": null,
   "metadata": {
    "collapsed": false,
    "jupyter": {
     "outputs_hidden": false
    }
   },
   "outputs": [],
   "source": [
    "grid_filename_mpas = file_dir + \"oQU480.grid.nc\"\n",
    "data_filename_mpas = file_dir + \"oQU480.data.nc\"\n",
    "uxds_mpas = ux.open_dataset(grid_filename_mpas, data_filename_mpas)"
   ]
  },
  {
   "cell_type": "markdown",
   "metadata": {
    "collapsed": false,
    "jupyter": {
     "outputs_hidden": false
    }
   },
   "source": [
    "### Grid with Node-Centered Data Variable"
   ]
  },
  {
   "cell_type": "code",
   "execution_count": null,
   "metadata": {
    "collapsed": false,
    "jupyter": {
     "outputs_hidden": false
    }
   },
   "outputs": [],
   "source": [
    "grid_filename_geoflow = file_dir + \"geoflow.grid.nc\"\n",
    "data_filename_geoflow = file_dir + \"geoflow.data.nc\"\n",
    "uxds_geoflow = ux.open_dataset(grid_filename_geoflow, data_filename_geoflow)"
   ]
  },
  {
   "cell_type": "markdown",
   "source": [
    "## Vector Polygon Plots"
   ],
   "metadata": {
    "collapsed": false
   }
  },
  {
   "cell_type": "code",
   "execution_count": null,
   "outputs": [],
   "source": [
    "uxds_mpas[\"bottomDepth\"].plot.polygons(width=600, height=300)"
   ],
   "metadata": {
    "collapsed": false
   }
  },
  {
   "cell_type": "code",
   "execution_count": null,
   "outputs": [],
   "source": [
    "Íuxds_mpas[\"bottomDepth\"].plot.polygons(width=600, height=300, xlim=(-20, 0), ylim=(-5, 5))"
   ],
   "metadata": {
    "collapsed": false
   }
  },
  {
   "cell_type": "markdown",
   "source": [
    "## Rasterized Polygon Plots"
   ],
   "metadata": {
    "collapsed": false
   }
  },
  {
   "cell_type": "code",
   "execution_count": null,
   "outputs": [],
   "source": [
    "uxds_mpas[\"bottomDepth\"].plot.polygons(backend='matplotlib')"
   ],
   "metadata": {
    "collapsed": false
   }
  },
  {
   "cell_type": "code",
   "execution_count": null,
   "outputs": [],
   "source": [
    "uxds_mpas[\"bottomDepth\"].plot.rasterize(method='polygon', width=600, height=300)"
   ],
   "metadata": {
    "collapsed": false
   }
  },
  {
   "cell_type": "code",
   "execution_count": null,
   "outputs": [],
   "source": [
    "uxds_mpas[\"bottomDepth\"].plot.rasterize(method='polygon', width=600, height=300, xlim=(-20, 0), ylim=(-5, 5))"
   ],
   "metadata": {
    "collapsed": false
   }
  },
  {
   "cell_type": "code",
   "execution_count": null,
   "outputs": [],
   "source": [
    "(uxds_mpas[\"bottomDepth\"].plot.rasterize(aspect=2, backend='matplotlib', xlim=(-20, 0), ylim=(-5, 5), pixel_ratio=2.0) +\n",
    "uxds_mpas[\"bottomDepth\"].plot.rasterize(aspect=2, backend='matplotlib', xlim=(-20, 0), ylim=(-5, 5), pixel_ratio=4.0)).opts(fig_size=150)"
   ],
   "metadata": {
    "collapsed": false
   }
  },
  {
   "cell_type": "markdown",
   "source": [
    "## Polygons Around Antimeridian\n",
    "\n",
    "When attempting to visualize unstructured meshes that reside on a sphere, it's necessary to consider the behavior of geometric elements near the Antimeridian. Elements that exist on or cross the antimeridian need to be corrected to properly visualize them. UXarray uses the antimeridian package to split faces along the antimeridian. More details can be found in their [documentation](https://antimeridian.readthedocs.io/en/stable/).\n",
    "\n",
    "\n",
    "![antimeridian example](https://upload.wikimedia.org/wikipedia/commons/thumb/8/8d/Earth_map_with_180th_meridian.jpg/640px-Earth_map_with_180th_meridian.jpg)\n"
   ],
   "metadata": {
    "collapsed": false
   }
  },
  {
   "cell_type": "code",
   "execution_count": null,
   "outputs": [],
   "source": [
    "(uxds_mpas[\"bottomDepth\"].plot.polygons(aspect=2, backend='matplotlib', xlim=(-185, -175), ylim=(-5, 5), exclude_antimeridian=False) +\n",
    "uxds_mpas[\"bottomDepth\"].plot.polygons(aspect=2, backend='matplotlib', xlim=(175, 185), ylim=(-5, 5), exclude_antimeridian=False)).opts(fig_size=150)"
   ],
   "metadata": {
    "collapsed": false
   }
  },
  {
   "cell_type": "code",
   "execution_count": null,
   "outputs": [],
   "source": [
    "(uxds_mpas[\"bottomDepth\"].plot.polygons(aspect=2, backend='matplotlib', xlim=(-185, -175), ylim=(-5, 5), exclude_antimeridian=True) +\n",
    "uxds_mpas[\"bottomDepth\"].plot.polygons(aspect=2, backend='matplotlib', xlim=(175, 185), ylim=(-5, 5), exclude_antimeridian=True)).opts(fig_size=150)"
   ],
   "metadata": {
    "collapsed": false
   }
  },
  {
   "cell_type": "markdown",
   "metadata": {
    "collapsed": false,
    "jupyter": {
     "outputs_hidden": false
    }
   },
   "source": [
    "## Conversion Methods\n",
    "\n",
    "\n",
    "UXarray represents Unstructured Grids through a set of coordinate and connectivity variables (i.e. `node_lon`, `node_lat`, `face_node_connectivity`, etc.). These variables can be manipulated to generate geometries (in our case Polygons) that can be fed into visualization libraries (i.e. HoloViews, Datashader, Matplotlib, etc.)\n"
   ]
  },
  {
   "cell_type": "markdown",
   "metadata": {
    "collapsed": false,
    "jupyter": {
     "outputs_hidden": false
    }
   },
   "source": [
    "### Representation as a `spatialpandas.GeoDataFrame`\n",
    "\n",
    "The primary conversion\n",
    "\n",
    "\n",
    "Each face is converted into a Polygon and stored within a SpatialPandas `GeoDataFrame`, which is the expected data structured by the HoloViz stack of packages for visualizing polygons.\n",
    "\n"
   ]
  },
  {
   "cell_type": "markdown",
   "metadata": {
    "collapsed": false,
    "jupyter": {
     "outputs_hidden": false
    }
   },
   "source": [
    "A `Grid` can be converted into a `GeoDataFrame`, containing a single \"geometry\" column, which is a series of Polygons that represent each face."
   ]
  },
  {
   "cell_type": "code",
   "execution_count": null,
   "metadata": {
    "collapsed": false,
    "jupyter": {
     "outputs_hidden": false
    }
   },
   "outputs": [],
   "source": [
    "uxds_mpas.uxgrid.to_geodataframe()"
   ]
  },
  {
   "cell_type": "markdown",
   "metadata": {
    "collapsed": false,
    "jupyter": {
     "outputs_hidden": false
    }
   },
   "source": [
    "A `UxDataArray` can also be converted into a `GeoDataFrame`. It will now have an additional column containing a 1D-slice of data variable.\n",
    "\n",
    "It's important to note that to convert a `UxDataArray` into a `GeoDataFrame`, the dimension of the data variable must match the number of faces (a.k.a. mapped to faces) and there can not be any additional dimensions (i.e. time, level, etc.)"
   ]
  },
  {
   "cell_type": "code",
   "execution_count": null,
   "metadata": {
    "collapsed": false,
    "jupyter": {
     "outputs_hidden": false
    }
   },
   "outputs": [],
   "source": [
    "uxds_mpas[\"bottomDepth\"].to_geodataframe()"
   ]
  },
  {
   "cell_type": "markdown",
   "metadata": {
    "collapsed": false,
    "jupyter": {
     "outputs_hidden": false
    }
   },
   "source": [
    "If a data variable is not face-centered, it can be manipulated to become face-centered. For node-centered data, as is the case with our Geoflow dataset, we can perform a nodal-average operation, which takes the average all the nodes that surround a face and use that value to shade the polygon.\n",
    "\n",
    "Here we can also see that we need to index the `time` and `meshLayers` dimensions to obtain our 1D slice of data."
   ]
  },
  {
   "cell_type": "code",
   "execution_count": null,
   "outputs": [],
   "source": [
    "uxds_geoflow[\"v1\"].nodal_average()[0][0].to_geodataframe()"
   ],
   "metadata": {
    "collapsed": false
   }
  },
  {
   "cell_type": "code",
   "execution_count": null,
   "outputs": [],
   "source": [
    "uxds_mpas[\"bottomDepth\"].plot.polygons(width=900, height=400)"
   ],
   "metadata": {
    "collapsed": false
   }
  },
  {
   "cell_type": "code",
   "execution_count": null,
   "outputs": [],
   "source": [
    "uxds_geoflow[\"v1\"].nodal_average()[0][0].plot.polygons(\n",
    "    cmap=\"coolwarm\", width=900, height=400\n",
    ")"
   ],
   "metadata": {
    "collapsed": false
   }
  },
  {
   "cell_type": "markdown",
   "metadata": {
    "collapsed": false,
    "jupyter": {
     "outputs_hidden": false
    }
   },
   "source": [
    ":::{attention}\n",
    "\n",
    ":::\n",
    "\n",
    "<div class=\"admonition alert alert-warning\">\n",
    "    <p class=\"admonition-title\" style=\"font-weight:bold\">Attention!</p>\n",
    "    For moderately to high resolution grids, it's not recommended to directly plot polygons. <br>\n",
    "    Plotting each polygon is extremely computationally expensive to render and may not provide the most visually-appealing plots.\n",
    "</div>"
   ]
  },
  {
   "cell_type": "markdown",
   "metadata": {
    "collapsed": false,
    "jupyter": {
     "outputs_hidden": false
    }
   },
   "source": [
    "## Rasterized Polygon Plots\n",
    "\n",
    "Instead of plotting the geometry of each polygon directly, we can rasterize our set of polygons to obtain a raster plot.\n",
    "\n",
    "<div class=\"admonition alert alert-info\">\n",
    "    <p class=\"admonition-title\" style=\"font-weight:bold\">Hint</p>\n",
    "    A raster plot of any set of geometric elements (in this case Polygons) renders each data into a regularly shaped array as opposed to rendering each\n",
    "    shape directly.\n",
    "</div>"
   ]
  },
  {
   "cell_type": "code",
   "execution_count": null,
   "metadata": {
    "collapsed": false,
    "jupyter": {
     "outputs_hidden": false
    }
   },
   "outputs": [],
   "source": [
    "uxds_mpas[\"bottomDepth\"].plot.rasterize(method=\"polygon\", width=900, height=400)"
   ]
  },
  {
   "cell_type": "code",
   "execution_count": null,
   "metadata": {
    "collapsed": false,
    "jupyter": {
     "outputs_hidden": false
    }
   },
   "outputs": [],
   "source": [
    "uxds_geoflow[\"v1\"].nodal_average()[0][0].plot.rasterize(\n",
    "    method=\"polygon\", cmap=\"coolwarm\", width=900, height=400\n",
    ")"
   ]
  },
  {
   "cell_type": "markdown",
   "metadata": {
    "collapsed": false,
    "jupyter": {
     "outputs_hidden": false
    }
   },
   "source": [
    "You can select whether to include or exclude these antimeridian polygons by using the `exclude_antimeridian` parameter. \n",
    "\n",
    "<div class=\"admonition alert alert-warning\">\n",
    "    <p class=\"admonition-title\" style=\"font-weight:bold\">Attention!</p>\n",
    "    For larger, higher-resolution, grids, it's suggested to keep `exclude_antimeridian=True` to decrease the time needed to process the grid for\n",
    "    visualization.\n",
    "</div>"
   ]
  }
 ],
 "metadata": {
  "kernelspec": {
   "display_name": "Python 3 (ipykernel)",
   "language": "python",
   "name": "python3"
  },
  "language_info": {
   "codemirror_mode": {
    "name": "ipython",
    "version": 3
   },
   "file_extension": ".py",
   "mimetype": "text/x-python",
   "name": "python",
   "nbconvert_exporter": "python",
   "pygments_lexer": "ipython3",
   "version": "3.12.2"
  },
  "nbdime-conflicts": {
   "local_diff": [
    {
     "diff": [
      {
       "diff": [
        {
         "key": 0,
         "op": "addrange",
         "valuelist": [
          "Python 3"
         ]
        },
        {
         "key": 0,
         "length": 1,
         "op": "removerange"
        }
       ],
       "key": "display_name",
       "op": "patch"
      }
     ],
     "key": "kernelspec",
     "op": "patch"
    }
   ],
   "remote_diff": [
    {
     "diff": [
      {
       "diff": [
        {
         "key": 0,
         "op": "addrange",
         "valuelist": [
          "Python3"
         ]
        },
        {
         "key": 0,
         "length": 1,
         "op": "removerange"
        }
       ],
       "key": "display_name",
       "op": "patch"
      }
     ],
     "key": "kernelspec",
     "op": "patch"
    }
   ]
  },
  "toc-autonumbering": false
 },
 "nbformat": 4,
 "nbformat_minor": 4
}
