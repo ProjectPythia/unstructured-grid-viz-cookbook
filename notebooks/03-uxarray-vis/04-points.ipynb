{
 "cells": [
  {
   "cell_type": "markdown",
   "metadata": {},
   "source": [
    "# Points\n",
    "---\n"
   ]
  },
  {
   "cell_type": "markdown",
   "source": [
    "Since data variables are typically mapped to either nodes, edges, or faces, one can visualize these by using the data to shade the coordinate points of each element. \n",
    "\n",
    "This notebook showcases how to visualize data variables as points."
   ],
   "metadata": {
    "collapsed": false
   }
  },
  {
   "cell_type": "markdown",
   "source": [
    "## Setup"
   ],
   "metadata": {
    "collapsed": false
   }
  },
  {
   "cell_type": "markdown",
   "source": [
    "### Imports"
   ],
   "metadata": {
    "collapsed": false
   }
  },
  {
   "cell_type": "code",
   "execution_count": null,
   "outputs": [],
   "source": [
    "import cartopy.crs as ccrs\n",
    "import geoviews.feature as gf\n",
    "import uxarray as ux\n",
    "from holoviews import opts\n",
    "\n",
    "file_dir = \"../../meshfiles/\""
   ],
   "metadata": {
    "collapsed": false
   }
  },
  {
   "cell_type": "markdown",
   "source": [
    "### Datasets"
   ],
   "metadata": {
    "collapsed": false
   }
  },
  {
   "cell_type": "code",
   "execution_count": null,
   "outputs": [],
   "source": [
    "grid_filename_120 = file_dir + \"oQU120.grid.nc\"\n",
    "data_filename_120 = file_dir + \"oQU120.data.nc\"\n",
    "uxds_120km = ux.open_dataset(grid_filename_120, data_filename_120)"
   ],
   "metadata": {
    "collapsed": false
   }
  },
  {
   "cell_type": "code",
   "execution_count": null,
   "outputs": [],
   "source": [
    "grid_filename_480 = file_dir + \"oQU480.grid.nc\"\n",
    "data_filename_480 = file_dir + \"oQU480.data.nc\"\n",
    "uxds_480km = ux.open_dataset(grid_filename_480, data_filename_480)"
   ],
   "metadata": {
    "collapsed": false
   }
  },
  {
   "cell_type": "markdown",
   "source": [
    "## Vector Point Plots"
   ],
   "metadata": {
    "collapsed": false
   }
  },
  {
   "cell_type": "markdown",
   "source": [
    "We can plot each shaded data point using the latitude and longitude of either the nodes, edge centers, or face centers. Since ``bottomDepth`` is a face-centered variable, it is plotted using the node coordinates (i.e. ``node_lon`` and ``node_lat``)"
   ],
   "metadata": {
    "collapsed": false
   }
  },
  {
   "cell_type": "code",
   "execution_count": null,
   "outputs": [],
   "source": [
    "uxds_480km[\"bottomDepth\"].plot.points(width=900, height=400)"
   ],
   "metadata": {
    "collapsed": false
   }
  },
  {
   "cell_type": "code",
   "execution_count": null,
   "outputs": [],
   "source": [
    "uxds_480km[\"bottomDepth\"].plot.points(\n",
    "    projection=ccrs.Orthographic(), width=500, height=500, size=5\n",
    ")"
   ],
   "metadata": {
    "collapsed": false
   }
  },
  {
   "cell_type": "markdown",
   "source": [
    "## Rasterized Point Plots\n",
    "\n",
    "Instead of plotting the geometry of each point directly, we can rasterize our set of points to obtain a raster plot.\n",
    "\n",
    ":::{hint}\n",
    "A raster plot of any set of geometric elements (in this case Points) renders each data into a regularly shaped array as opposed to rendering each shape directly.\n",
    ":::"
   ],
   "metadata": {
    "collapsed": false
   }
  },
  {
   "cell_type": "code",
   "execution_count": null,
   "outputs": [],
   "source": [
    "(\n",
    "    uxds_480km[\"bottomDepth\"].plot.rasterize(\n",
    "        method=\"point\", width=900, height=400, title=\"480km Grid\"\n",
    "    )\n",
    "    + uxds_120km[\"bottomDepth\"].plot.rasterize(\n",
    "        method=\"point\", width=900, height=400, title=\"120km Grid\"\n",
    "    )\n",
    ").cols(1)"
   ],
   "metadata": {
    "collapsed": false
   }
  },
  {
   "cell_type": "markdown",
   "source": [
    "As the resolution of our grid increases, we can observe that there is a much higher density of points, and you can start to vaguely see the outline of the data variables.\n",
    "\n",
    "By selecting a `pixel_ratio` parameter, you can control the size of the \"pixels\" or \"bins\" used for rasterization. A smaller pixel ratio increases the size of the bins used for rasterization, while a larger pixel ratio makes the bins smaller.\n",
    "\n",
    "For our case, we want to select a small pixel ratio to group points into \"structured\" bins."
   ],
   "metadata": {
    "collapsed": false
   }
  },
  {
   "cell_type": "code",
   "execution_count": null,
   "outputs": [],
   "source": [
    "uxds_120km[\"bottomDepth\"].plot.rasterize(\n",
    "    method=\"point\", pixel_ratio=0.40, width=900, height=400\n",
    ")"
   ],
   "metadata": {
    "collapsed": false
   }
  },
  {
   "cell_type": "markdown",
   "source": [
    "This result looks much better than just plotting points. However, without a projection, the density of points near the poles is significantly lower, which means that some bins do not contain any data points.\n",
    "\n",
    "We can get a better result by chosing a projection that more evenly distributes the points."
   ],
   "metadata": {
    "collapsed": false
   }
  },
  {
   "cell_type": "code",
   "execution_count": null,
   "outputs": [],
   "source": [
    "uxds_120km[\"bottomDepth\"].plot.rasterize(\n",
    "    method=\"point\",\n",
    "    projection=ccrs.Sinusoidal(),\n",
    "    width=900,\n",
    "    height=400,\n",
    "    pixel_ratio=0.4,\n",
    ")"
   ],
   "metadata": {
    "collapsed": false
   }
  },
  {
   "cell_type": "markdown",
   "source": [
    "### High-Resolution Example"
   ],
   "metadata": {
    "collapsed": false
   }
  },
  {
   "cell_type": "markdown",
   "source": [
    "The grids used in this notebook so far have had resolutions of 480km and 120km. These resolutions are not sufficient for reaching high levels of data fidelity in the resulting point rasters.\n",
    "\n",
    "The following screenshots were rendered using a 3.75km mesh. \n",
    "\n",
    "![global plot](../images/plots/point_raster_global_no_proj.png)"
   ],
   "metadata": {
    "collapsed": false
   }
  },
  {
   "cell_type": "markdown",
   "source": [
    "Since point rasterization is heavily dependent on the density of points, we can see that without a projection, both poles have large quanities of missing values\n",
    "\n",
    "This can be avoided by choosing a projection that better distributes the points."
   ],
   "metadata": {
    "collapsed": false
   }
  },
  {
   "cell_type": "markdown",
   "source": [
    "![global plot](../images/plots/point_raster_orthographic.png)"
   ],
   "metadata": {
    "collapsed": false
   }
  },
  {
   "cell_type": "markdown",
   "source": [
    ":::{seealso}\n",
    "\n",
    "A broader discussion about visualization at higher resolutions, including the pros and cons of Point Rasterization, is discussed in the [Visualization at Scale](https://projectpythia.org/unstructured-grid-viz-cookbook/notebooks/03-uxarray-vis/06-performance.html) notebook.\n",
    "\n",
    ":::"
   ],
   "metadata": {
    "collapsed": false
   }
  }
 ],
 "metadata": {
  "kernelspec": {
   "display_name": "Python 3 (ipykernel)",
   "language": "python",
   "name": "python3"
  },
  "language_info": {
   "codemirror_mode": {
    "name": "ipython",
    "version": 3
   },
   "file_extension": ".py",
   "mimetype": "text/x-python",
   "name": "python",
   "nbconvert_exporter": "python",
   "pygments_lexer": "ipython3",
   "version": "3.11.6"
  },
  "nbdime-conflicts": {
   "local_diff": [
    {
     "diff": [
      {
       "diff": [
        {
         "key": 0,
         "op": "addrange",
         "valuelist": [
          "Python 3"
         ]
        },
        {
         "key": 0,
         "length": 1,
         "op": "removerange"
        }
       ],
       "key": "display_name",
       "op": "patch"
      }
     ],
     "key": "kernelspec",
     "op": "patch"
    }
   ],
   "remote_diff": [
    {
     "diff": [
      {
       "diff": [
        {
         "key": 0,
         "op": "addrange",
         "valuelist": [
          "Python3"
         ]
        },
        {
         "key": 0,
         "length": 1,
         "op": "removerange"
        }
       ],
       "key": "display_name",
       "op": "patch"
      }
     ],
     "key": "kernelspec",
     "op": "patch"
    }
   ]
  },
  "toc-autonumbering": false
 },
 "nbformat": 4,
 "nbformat_minor": 4
}
