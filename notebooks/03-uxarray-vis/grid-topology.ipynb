{
 "cells": [
  {
   "cell_type": "markdown",
   "id": "ddb1d4f5-eb3b-4d29-8dba-768b2144b0b4",
   "metadata": {},
   "source": [
    "# Grid Topology"
   ]
  },
  {
   "cell_type": "markdown",
   "id": "a5c4c420-8d71-4f95-8137-a39eb37c738a",
   "metadata": {},
   "source": [
    "No matter what analysis operations you are performing on the data, visualization of the geometric elements of an unstructured grid (i.e. nodes, edges) without any data mapped to them can always be useful for a number of reasons, including but not limited to understanding the mesh topology and diagnosing patterns or issues with or prior to data analysis (e.g. analyzing the mesh of a dynamical core prior to running a simulation).\n",
    "\n",
    "UXarray provides convenient functionality to visualize these elements of the `Grid` object. Below we will introduce those functions, but let us do the initial setup first:"
   ]
  },
  {
   "cell_type": "markdown",
   "id": "752e63b1-3087-4ca5-877b-7c067f734f14",
   "metadata": {},
   "source": [
    "## Setup"
   ]
  },
  {
   "cell_type": "markdown",
   "id": "68683c14-0e9a-4721-aa31-96f06f23cdb8",
   "metadata": {},
   "source": [
    "This setup handles the package imports and data loading."
   ]
  },
  {
   "cell_type": "markdown",
   "id": "77fc70ef-8a4d-41b3-9a8e-982781dfcb9b",
   "metadata": {},
   "source": [
    "### Imports"
   ]
  },
  {
   "cell_type": "code",
   "execution_count": 5,
   "id": "fae0aaa4-cc91-4c0e-8ed1-2628623b8364",
   "metadata": {},
   "outputs": [],
   "source": [
    "import cartopy.crs as ccrs\n",
    "import geoviews.feature as gf\n",
    "import holoviews as hv\n",
    "import uxarray as ux"
   ]
  },
  {
   "cell_type": "markdown",
   "id": "2baf373a-e0e5-48be-8dc2-7971a6d30470",
   "metadata": {},
   "source": [
    "### Read in the data"
   ]
  },
  {
   "cell_type": "code",
   "execution_count": null,
   "id": "64c70e25-6908-4d61-8eb8-a9511457967b",
   "metadata": {},
   "outputs": [],
   "source": [
    "# File paths\n",
    "file_dir = \"../../meshfiles/\"\n",
    "grid_filename = \"oQU120.grid.nc\"\n",
    "data_filename = \"oQU120.data.nc\"\n",
    "\n",
    "# A standalone grid can be opened for immediate visualization\n",
    "ux_grid = ux.open_grid(file_dir + grid_filename)\n",
    "\n",
    "# Visualization through a `UxDataset`'s associated grid, `uxds.uxgrid` is also possible.\n",
    "uxds = ux.open_dataset(file_dir + grid_filename, file_dir + data_filename)"
   ]
  },
  {
   "cell_type": "markdown",
   "id": "39aa6f99-7d0f-47f9-b241-6f06b218d671",
   "metadata": {},
   "source": [
    "## Plotting Edges"
   ]
  },
  {
   "cell_type": "markdown",
   "id": "dab680d4-47db-40b2-8293-74a74b1a5166",
   "metadata": {},
   "source": [
    "Plotting the edges of an Unstructured Grid gives us an immediate idea of what the actual mesh looks like since connected edges construct the faces of the grid. Because of this, edge visualization is considered as the default method for Grid topology visualization purposes, and the default plotting method `uxarray.Grid.plot()`, provides an edge plot as follows:"
   ]
  },
  {
   "cell_type": "code",
   "execution_count": null,
   "id": "454d81af-4e94-4a69-a0de-a709987af48b",
   "metadata": {},
   "outputs": [],
   "source": [
    "ux_grid.plot(\n",
    "    title=\"Default Grid Plot Method\",\n",
    "    xlim=(-170, -50),\n",
    "    ylim=(10, 80),\n",
    "    width=700,\n",
    "    height=350,\n",
    ")"
   ]
  },
  {
   "cell_type": "markdown",
   "id": "7ec9b2af-a733-48ef-87fc-6de6ddda48c0",
   "metadata": {},
   "source": [
    "<div class=\"admonition alert alert-success\">\n",
    "<p class=\"admonition-title\" style=\"font-weight:bold\">See also `ux_grid.plot.mesh()` that would create the same plot</p>\n",
    "</div>"
   ]
  },
  {
   "cell_type": "markdown",
   "id": "a8e4ff75-cb7b-4ea5-a44b-cdc12857c025",
   "metadata": {},
   "source": [
    "<div class=\"admonition alert alert-success\">\n",
    "    <p class=\"admonition-title\" style=\"font-weight:bold\">See also `ux_grid.plot.edges()` that would create the same plot</p>\n",
    "</div>"
   ]
  },
  {
   "cell_type": "code",
   "execution_count": null,
   "id": "eb401a34-20e8-488b-b04c-14c3a91f43a0",
   "metadata": {},
   "outputs": [],
   "source": []
  }
 ],
 "metadata": {
  "kernelspec": {
   "display_name": "Python 3 (ipykernel)",
   "language": "python",
   "name": "python3"
  },
  "language_info": {
   "codemirror_mode": {
    "name": "ipython",
    "version": 3
   },
   "file_extension": ".py",
   "mimetype": "text/x-python",
   "name": "python",
   "nbconvert_exporter": "python",
   "pygments_lexer": "ipython3",
   "version": "3.11.6"
  }
 },
 "nbformat": 4,
 "nbformat_minor": 5
}
