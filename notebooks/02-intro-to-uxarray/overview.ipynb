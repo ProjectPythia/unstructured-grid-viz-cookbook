{
 "cells": [
  {
   "cell_type": "markdown",
   "id": "1cec8962-4c94-405f-b8d9-fb24d52383bd",
   "metadata": {},
   "source": [
    "<img src=\"https://raw.githubusercontent.com/UXARRAY/uxarray/main/docs/_static/images/logos/uxarray_logo_h_dark.svg\"\n",
    "     width=\"30%\"\n",
    "     alt=\"UXarray logo\"\n",
    "     align=\"right\"\n",
    "/>\n",
    "\n",
    "# Overview\n",
    "\n",
    "### In this section, you'll learn:\n",
    "\n",
    "* What is UXarray?\n",
    "* Why UXarray?\n",
    "* How UXarray is designed\n",
    "* UXarray Core API to work with unstructured grids\n",
    "\n",
    "### Related Documentation\n",
    "\n",
    "* [UXarray Homepage](https://uxarray.readthedocs.io/en/latest/index.html)\n",
    "* [UXarray \"Why UXarray?\" Documentation](https://uxarray.readthedocs.io/en/latest/getting-started/overview.html)\n",
    "* [UXarray Data Structures Documentation](https://uxarray.readthedocs.io/en/latest/user-guide/data-structures.html)\n",
    "* [UXarray Supported Models & Grid Formats Documentation](https://uxarray.readthedocs.io/en/latest/user-guide/grid-formats.html)\n",
    "\n",
    "### Prerequisites\n",
    "\n",
    "| Concepts | Importance | Notes |\n",
    "| --- | --- | --- |\n",
    "| [Xarray](https://docs.xarray.dev/en/stable/) | Necessary  | |\n",
    "\n",
    "**Time to learn**: 10 minutes\n",
    "\n",
    "-----"
   ]
  },
  {
   "cell_type": "markdown",
   "id": "1b2069e5-78f9-4e3d-a2fd-276200d8e019",
   "metadata": {},
   "source": [
    "## What is UXarray?"
   ]
  },
  {
   "cell_type": "markdown",
   "id": "589487e6-6e1e-4554-bddf-11ad00411ba4",
   "metadata": {},
   "source": [
    "The “U” in UXarray stands for “Unstructured Grids”. UXarray extends upon and inherits from [Xarray](https://docs.xarray.dev/en/stable/) for providing the Earth system sciences community with analysis and visualization functionality that can operate directly on the native unstructured mesh data resulting from climate and global weather models and observations.\n",
    "\n",
    "UXarray is written around the [UGRID](http://ugrid-conventions.github.io/ugrid-conventions/) conventions to represent several different unstructured mesh types in an unified, [Climate and Forecast metadata convention (CF)](http://cfconventions.org/)-compliant format.\n",
    "\n",
    "Specifically, UXarray's core functionality supports horizontally unstructured grids with vertical levels as defined by the 2D Flexible Mesh Topology in the UGRID conventions, which can contain a mix of triangles, quadrilaterals, or other geometric faces."
   ]
  },
  {
   "cell_type": "markdown",
   "id": "dcd197af-7d93-49b2-90cf-ebd578caf82a",
   "metadata": {},
   "source": [
    "## Why UXarray? "
   ]
  },
  {
   "cell_type": "markdown",
   "id": "f8fddc01-c109-4394-a720-67b1cda1a0f3",
   "metadata": {},
   "source": [
    "UXarray can simplify working with unstructured grids because it:\n",
    "\n",
    "- Enables significant data analysis and visualization functionality to be executed directly on unstructured grids\n",
    "\n",
    "- Adheres to the UGRID specifications for compatibility across a variety of mesh formats\n",
    "\n",
    "- Provides a single interface for supporting a variety of unstructured grid formats including UGRID, MPAS, SCRIP, and Exodus (See the full list of [UXarray's supported models and grid formats](https://uxarray.readthedocs.io/en/latest/user-guide/grid-formats.html))\n",
    "\n",
    "- Inherits from Xarray, providing simplified data using familiar (Xarray-like) data structures and operations\n",
    "  \n",
    "- Brings standardization to unstructured mesh support for climate data analysis and visualization\n",
    "\n",
    "- Builds on optimized data structures and algorithms for handling large and complex unstructured datasets\n",
    "\n",
    "- Supports enhanced interoperability and community collaboration"
   ]
  },
  {
   "cell_type": "markdown",
   "id": "9ef83bae-6cd3-4551-8e90-dae28d52c478",
   "metadata": {},
   "source": [
    "## UXarray Design"
   ]
  },
  {
   "cell_type": "markdown",
   "id": "02d66394-cd52-46ba-bf2e-ab0aca83a31c",
   "metadata": {},
   "source": [
    "UXarray is designed around three core data structures, `Grid`, `UxDataset`, and `UxDataArray`:\n",
    "\n",
    "* ``Grid`` provides unstructured grid awareness for the data analysis and visualization functionality implemented through `UxDataset` and `UxDataArray`. It houses grid-specific methods and topology variables.\n",
    "\n",
    "* ``UxDataset`` inherits from the ``xarray.Dataset`` class, providing much of the same functionality but extended to operate on Unstructured Grids through new and overloaded methods. Each ``UxDataset`` is linked to its own ``Grid`` object through the use of a class property (``UxDataset.uxgrid``) to provide a grid-aware implementation. An instance of ``UxDataset`` can be thought of as a collection of data variables, i.e. ``UxDataArray`` objects, that reside on a particular Unstructured Grid as defined in the ``uxgrid`` property.\n",
    "\n",
    "* ``UxDataArray`` similarly inherits from the ``xarray.DataArray`` class, providing single data variable-level functionality to operate on Unstructured Grids through new and overloaded methods. Similar to ``UxDataset``, it has a link to its own ``Grid`` object (``UxDataArray.uxgrid``). For isntance, if several ``UxDataArray`` variables exist in an ``UxDataset`` object, each of them will have a link to the same ``Grid`` object that proves all of them reside on the same unstructured grid topology."
   ]
  },
  {
   "cell_type": "markdown",
   "id": "7210be23-ce58-4bf9-b862-1d35b1ea08b1",
   "metadata": {},
   "source": [
    "<div class=\"admonition alert alert-info\">\n",
    "    <p class=\"admonition-title\" style=\"font-weight:bold\">Note:</p>\n",
    "    The following notebooks will detail each of these data structures; hence, we are keeping it short here in this section.\n",
    "</div>"
   ]
  },
  {
   "cell_type": "markdown",
   "id": "defd539f-efe5-4966-bd55-3067c0b83ecb",
   "metadata": {},
   "source": [
    "Given the introductions to the core UXarray data structures, let us have a look at the UXarray design diagram below:"
   ]
  },
  {
   "cell_type": "markdown",
   "id": "81ed8d9a-06d1-4446-a82d-dafdf97b758b",
   "metadata": {},
   "source": [
    "<img title=\"UXarray Design\" alt=\"Grid UxDataset and UxDataArray\" src=\"../../_static/images/uxarray-design.png\" width=\"1200\">"
   ]
  },
  {
   "cell_type": "markdown",
   "id": "331a30b1-373b-4f40-af05-55a3a60f745d",
   "metadata": {},
   "source": [
    "## UXarray's Core API and Unstructured Grids"
   ]
  },
  {
   "cell_type": "markdown",
   "id": "1af5c0eb-3976-4f34-b049-d6f775e5dfe9",
   "metadata": {},
   "source": [
    "When working with unstructured grids, the grid topology definition is typically stored in a dedicated grid file, separately from any data file(s), i.e. the whole dataset contains a single grid definition file along with one or more data files. However, in other less common cases, the grid definition might be embedded into the data file(s). \n",
    "\n",
    "UXarray is able to handle both of these cases thanks to the core API for opening grid and data files (or other storage objects). The following notebooks in this chapter will cover the core API for these cases."
   ]
  },
  {
   "cell_type": "markdown",
   "id": "732c3182-5513-4bfb-a13f-ec7a655bef6d",
   "metadata": {},
   "source": [
    "## What is next?\n",
    "The next section will provide an introduction to the UXarray's ``Grid`` class and how to open standalone grid files."
   ]
  }
 ],
 "metadata": {
  "kernelspec": {
   "display_name": "Python 3 (ipykernel)",
   "language": "python",
   "name": "python3"
  },
  "language_info": {
   "codemirror_mode": {
    "name": "ipython",
    "version": 3
   },
   "file_extension": ".py",
   "mimetype": "text/x-python",
   "name": "python",
   "nbconvert_exporter": "python",
   "pygments_lexer": "ipython3",
   "version": "3.12.8"
  }
 },
 "nbformat": 4,
 "nbformat_minor": 5
}
