{
 "cells": [
  {
   "cell_type": "markdown",
   "id": "e32144b021f5669a",
   "metadata": {
    "panel-layout": {
     "height": 573.7625122070312,
     "visible": true,
     "width": 100
    }
   },
   "source": [
    "<img src=\"https://raw.githubusercontent.com/UXARRAY/uxarray/main/docs/_static/images/logos/uxarray_logo_h_dark.svg\"\n",
    "     width=\"30%\"\n",
    "     alt=\"UXarray logo\"\n",
    "     align=\"right\"\n",
    "/>\n",
    "\n",
    "# MPAS Ocean\n",
    "\n",
    "In this recipe, you will learn how to create visualizations of global ocean depth data using MPAS-Ocean model output. The recipe includes techniques for both global-scale visualization and regional analysis, with a specific focus on the Gulf of Mexico region.\n",
    "\n",
    "## Visualization Objectives\n",
    "\n",
    "This recipe will guide you through creating:\n",
    "\n",
    "* Global ocean visualizations using the Robinson projection with raster-based plotting \n",
    "* Regional depth analysis of the Gulf of Mexico using vector polygons\n",
    "\n",
    "\n",
    "-----"
   ]
  },
  {
   "cell_type": "code",
   "id": "357ab34065819766",
   "metadata": {},
   "source": [
    "import cartopy.crs as ccrs\n",
    "import uxarray as ux"
   ],
   "outputs": [],
   "execution_count": null
  },
  {
   "cell_type": "code",
   "id": "c7be08740dfdd82e",
   "metadata": {},
   "source": [
    "grid_path = \"../../meshfiles/oQU120.grid.nc\"\n",
    "data_path = \"../../meshfiles/oQU120.data.nc\"\n",
    "\n",
    "uxds = ux.open_dataset(grid_path, data_path)"
   ],
   "outputs": [],
   "execution_count": null
  },
  {
   "metadata": {},
   "cell_type": "markdown",
   "source": [
    "## Data Preparation\n",
    "\n",
    "### Global Ocean Data\n",
    "The global MPAS-Ocean grid data requires no preprocessing for our visualization purposes, as it already encompasses the complete global domain."
   ],
   "id": "8aa88b99936f899e"
  },
  {
   "metadata": {},
   "cell_type": "code",
   "source": [
    "bottom_depth = uxds[\"bottomDepth\"]\n",
    "bottom_depth.uxgrid.n_face"
   ],
   "id": "ba611c00ef6a807d",
   "outputs": [],
   "execution_count": null
  },
  {
   "metadata": {},
   "cell_type": "markdown",
   "source": [
    "### Regional Focus: Gulf of Mexico\n",
    "To create a detailed regional visualization of the Gulf of Mexico, we'll perform a spatial subset of our global data. By applying a bounding circle operation centered at 90°W longitude and 25°N latitude with a 9-degree radius, we can focus our analysis specifically on the Gulf region. This subsetting approach significantly reduces the computational demands of our visualization routines.\n"
   ],
   "id": "90086bf0ad76610b"
  },
  {
   "metadata": {},
   "cell_type": "code",
   "source": [
    "bottom_depth_gulf = bottom_depth.subset.bounding_circle((-90.0, 25.0), r=9)\n",
    "bottom_depth_gulf.uxgrid.n_face"
   ],
   "id": "6376a47b3269f2bf",
   "outputs": [],
   "execution_count": null
  },
  {
   "metadata": {},
   "cell_type": "markdown",
   "source": [
    "## Global Ocean Depth Visualization\n",
    "\n",
    "For our global visualization, we selected the Robinson projection combined with raster plotting to effectively display worldwide ocean depth data. The 4.0 pixel ratio setting ensures clear resolution while maintaining efficient performance across the entire global domain."
   ],
   "id": "62d1b6ea6613a169"
  },
  {
   "cell_type": "code",
   "id": "40492f22f026ef76",
   "metadata": {
    "panel-layout": {
     "height": 696,
     "visible": true,
     "width": 100
    }
   },
   "source": [
    "bottom_depth.plot.polygons(\n",
    "    rasterize=True,\n",
    "    backend=\"matplotlib\",\n",
    "    projection=ccrs.Robinson(),\n",
    "    coastline=\"110m\",\n",
    "    cmap=\"Blues\",\n",
    "    width=1000,\n",
    "    pixel_ratio=4.0,\n",
    "    title=\"Global Ocean Depth\",\n",
    ")"
   ],
   "outputs": [],
   "execution_count": null
  },
  {
   "metadata": {},
   "cell_type": "markdown",
   "source": [
    "## Regional Visualization: Gulf of Mexico\n",
    "\n",
    "For our detailed analysis of the Gulf of Mexico region, we transition to a vector-based polygon visualization approach. This shift from our global visualization strategy is driven by the reduced computational demands of our regional subset, which contains only 164 faces. Vector polygons offer several advantages at this scale, including precise boundary representation and enhanced detail visualization.\n"
   ],
   "id": "89eeb54318549aa2"
  },
  {
   "cell_type": "code",
   "id": "6d70f1f4-12bc-4c91-a49c-cbaed203ca1a",
   "metadata": {
    "panel-layout": {
     "height": 672,
     "visible": true,
     "width": 100
    }
   },
   "source": [
    "bottom_depth_gulf.plot(\n",
    "    rasterize=False,\n",
    "    backend=\"matplotlib\",\n",
    "    projection=ccrs.Robinson(),\n",
    "    features=[\"states\", \"coastline\"],\n",
    "    cmap=\"Blues\",\n",
    "    width=500,\n",
    "    title=\"Gulf of Mexico Depth\",\n",
    ")"
   ],
   "outputs": [],
   "execution_count": null
  }
 ],
 "metadata": {
  "kernelspec": {
   "display_name": "Python 3 (ipykernel)",
   "language": "python",
   "name": "python3"
  },
  "language_info": {
   "codemirror_mode": {
    "name": "ipython",
    "version": 3
   },
   "file_extension": ".py",
   "mimetype": "text/x-python",
   "name": "python",
   "nbconvert_exporter": "python",
   "pygments_lexer": "ipython3",
   "version": "3.12.3"
  },
  "panel-cell-order": [
   "e32144b021f5669a",
   "40492f22f026ef76",
   "6d70f1f4-12bc-4c91-a49c-cbaed203ca1a"
  ]
 },
 "nbformat": 4,
 "nbformat_minor": 5
}
