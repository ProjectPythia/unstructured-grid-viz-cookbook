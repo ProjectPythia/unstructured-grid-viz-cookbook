{
 "cells": [
  {
   "cell_type": "markdown",
   "id": "9b95bd02-7b6e-41dc-b621-a8ce60fcd4c0",
   "metadata": {},
   "source": [
    "<img src=\"https://raw.githubusercontent.com/UXARRAY/uxarray/main/docs/_static/images/logos/uxarray_logo_h_dark.svg\"\n",
    "     width=\"30%\"\n",
    "     alt=\"UXarray logo\"\n",
    "     align=\"right\"\n",
    "/>\n",
    "\n",
    "# MPAS Atmosphere \n",
    "\n",
    "This recipe demonstrates how to create visualizations using 30km MPAS Atmosphere model output. We'll explore techniques for visualizing atmospheric variables on both the primal and dual MPAS grids, focusing on relative humidity and vorticity at the 200hPa pressure level.\n",
    "\n",
    "## Visualization Objectives\n",
    "\n",
    "This recipe will guide you through:\n",
    "\n",
    "* Creating polygon plots using the MPAS primal grid to visualize relative humidity at 200hPa\n",
    "* Developing polygon plots using the MPAS dual grid to visualize vorticity at 200hPa\n",
    "* Understanding the differences between primal and dual grid visualizations in MPAS\n",
    "\n",
    "-----"
   ]
  },
  {
   "metadata": {},
   "cell_type": "code",
   "source": [
    "import uxarray as ux\n",
    "import cartopy.crs as ccrs"
   ],
   "id": "7e23926af8d369cb",
   "outputs": [],
   "execution_count": null
  },
  {
   "metadata": {},
   "cell_type": "markdown",
   "source": [
    "## Relative Humidity\n",
    "\n",
    "For visualizing relative humidity, we use the Primal MPAS grid, which is composed of hexagons."
   ],
   "id": "2b1e2c04f594d5a6"
  },
  {
   "metadata": {},
   "cell_type": "code",
   "source": [
    "grid_path = \"../../meshfiles/x1.655362.grid.nc\"\n",
    "data_path = \"../../meshfiles/x1.655362.data.nc\"\n",
    "\n",
    "uxds_primal = ux.open_dataset(grid_path, data_path)\n",
    "uxds_primal"
   ],
   "id": "307abb5eaee01f77",
   "outputs": [],
   "execution_count": null
  },
  {
   "metadata": {},
   "cell_type": "code",
   "source": "uxds_primal['relhum_200hPa'][0].plot(projection=ccrs.Robinson(), backend='matplotlib', pixel_ratio=4.0, features=['coastline'], width=1000, height=500, cmap='viridis', title=\"30km Relative Humidity (MPAS Primal Grid)\")",
   "id": "14e180939c0d0fa5",
   "outputs": [],
   "execution_count": null
  },
  {
   "metadata": {},
   "cell_type": "markdown",
   "source": [
    "## Vorticity\n",
    "\n",
    "For visualizing relative humidity, we use the Dual MPAS grid, which is composed of triangles."
   ],
   "id": "51d7e02ab9e096e3"
  },
  {
   "metadata": {},
   "cell_type": "code",
   "source": [
    "grid_path = \"../../meshfiles/x1.655362.grid.nc\"\n",
    "data_path = \"../../meshfiles/x1.655362.data.nc\"\n",
    "\n",
    "uxds_dual = ux.open_dataset(grid_path, data_path, use_dual=True)\n",
    "uxds_dual['vorticity_200hPa']"
   ],
   "id": "3d7819b5474ba97a",
   "outputs": [],
   "execution_count": null
  },
  {
   "metadata": {},
   "cell_type": "code",
   "source": "uxds_dual['vorticity_200hPa'][0].plot(projection=ccrs.Robinson(), rasterize=True, backend='matplotlib', pixel_ratio=4.0, features=['coastline'], width=1000, height=500, cmap='coolwarm', title=\"30km Vorticity (MPAS Dual Grid)\", clim=(-0.0001,0.0001))",
   "id": "7f6231de28c269c8",
   "outputs": [],
   "execution_count": null
  },
  {
   "metadata": {},
   "cell_type": "markdown",
   "source": [
    "## MPAS Dual & Primal Grids\n",
    "\n",
    "The Model for Prediction Across Scales (MPAS) utilizes two complementary grid structures for atmospheric modeling: the primal grid and the dual grid. The primal grid consists of hexagonal cells that form the primary computational mesh, while the dual grid is composed of triangular cells that connect the centers of the primary hexagons.\n",
    "\n",
    "In the primal grid structure, scalar quantities like relative humidity are naturally represented at the centers of the hexagonal cells. The dual grid, with its triangular elements, is particularly well-suited for vector quantities and derived fields such as vorticity.\n",
    "\n",
    "Below, we visualize both grid structures to illustrate their complementary nature. "
   ],
   "id": "25a606085387a2f5"
  },
  {
   "metadata": {},
   "cell_type": "code",
   "source": [
    "(uxds_primal.uxgrid.subset.bounding_box(lon_bounds = (-1, 1), lat_bounds=(-0.5, 0.5)).plot(title=\"MPAS Primal Grid Structure\", ) + \n",
    " uxds_dual.uxgrid.subset.bounding_box(lon_bounds = (-1, 1), lat_bounds=(-0.5, 0.5)).plot(title=\"MPAS Dual Grid Structure\")).cols(1).opts(fig_size=200)"
   ],
   "id": "2624f18a782c713e",
   "outputs": [],
   "execution_count": null
  },
  {
   "metadata": {},
   "cell_type": "markdown",
   "source": "The visualization below demonstrates the intricate geometric relationship between MPAS primal and dual grids. By overlaying both grid structures, we can observe how the vertices of each hexagonal cell in the primal grid serve as the cell centers for the triangular elements of the dual grid. Conversely, the vertices of the triangular cells in the dual grid correspond to the centers of the hexagonal cells in the primal grid.",
   "id": "95378ec9579e1527"
  },
  {
   "metadata": {},
   "cell_type": "code",
   "source": [
    "(uxds_primal.uxgrid.subset.bounding_box(lon_bounds = (-1, 1), lat_bounds=(-0.5, 0.5)).plot() * \n",
    " uxds_dual.uxgrid.subset.bounding_box(lon_bounds = (-1, 1), lat_bounds=(-0.5, 0.5)).plot()).opts(fig_size=200, title=\"Primal & Dual Grid Together\")"
   ],
   "id": "154bc1d90dff5c4e",
   "outputs": [],
   "execution_count": null
  },
  {
   "metadata": {},
   "cell_type": "markdown",
   "source": [
    "## 3.75km Visualization\n",
    "\n",
    "For another example of MPAS grid visualization, readers can refer to the UXarray [documentation](https://uxarray.readthedocs.io/en/latest/examples/visualization/3_75km_mpas.html) showcasing a 3.75km resolution grid\n",
    "\n",
    "This example demonstrates MPAS visualization at a higher resolution compared to the 30km grid shown in this recipe."
   ],
   "id": "6814b54e61ead2df"
  }
 ],
 "metadata": {
  "kernelspec": {
   "display_name": "Python 3 (ipykernel)",
   "name": "python3",
   "language": "python"
  },
  "language_info": {
   "name": ""
  }
 },
 "nbformat": 4,
 "nbformat_minor": 5
}
