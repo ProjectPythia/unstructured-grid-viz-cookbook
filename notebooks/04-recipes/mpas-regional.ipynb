{
 "cells": [
  {
   "cell_type": "markdown",
   "id": "71e7698b-5b26-4324-b113-0be2ae6144ea",
   "metadata": {},
   "source": [
    "<img src=\"https://raw.githubusercontent.com/UXARRAY/uxarray/main/docs/_static/images/logos/uxarray_logo_h_dark.svg\"\n",
    "     width=\"30%\"\n",
    "     alt=\"UXarray logo\"\n",
    "     align=\"right\"\n",
    "/>\n",
    "\n",
    "# Interactive Regional MPAS Reflectivity & Precipitation Dashboard\n",
    "\n",
    "### In this recipie, you'll visualize:\n",
    "\n",
    "* TODO\n",
    "\n",
    "### Required Cookbook Sections\n",
    "\n",
    "* TODO\n",
    "-----\n",
    "\n"
   ]
  },
  {
   "cell_type": "code",
   "execution_count": null,
   "id": "37d470c4-eadd-4758-8f0d-6e4924d591f6",
   "metadata": {},
   "outputs": [],
   "source": []
  }
 ],
 "metadata": {
  "kernelspec": {
   "display_name": "",
   "name": ""
  },
  "language_info": {
   "name": ""
  }
 },
 "nbformat": 4,
 "nbformat_minor": 5
}
