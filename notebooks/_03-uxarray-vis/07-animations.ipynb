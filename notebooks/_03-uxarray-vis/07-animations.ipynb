{
 "cells": [
  {
   "cell_type": "markdown",
   "id": "766ae3323db40ec2",
   "metadata": {
    "collapsed": false,
    "jupyter": {
     "outputs_hidden": false
    }
   },
   "source": [
    "# Interactive & Animated Plots\n",
    "---"
   ]
  },
  {
   "cell_type": "markdown",
   "id": "135881e235d90c09",
   "metadata": {
    "collapsed": false,
    "jupyter": {
     "outputs_hidden": false
    }
   },
   "source": [
    "<div class=\"admonition alert alert-info\">\n",
    "    <p class=\"admonition-title\" style=\"font-weight:bold\">Note:</p>\n",
    "    This notebook is currently under development! Please refer to the <a href=\"https://projectpythia.org/advanced-viz-cookbook/notebooks/interactive-holoviz-mpas.html#interactive-holoviz-plots\">Interactive HoloViz Visualization</a> \n",
    "</div>"
   ]
  }
 ],
 "metadata": {
  "kernelspec": {
   "display_name": "Python 3 (ipykernel)",
   "language": "python",
   "name": "python3"
  },
  "language_info": {
   "codemirror_mode": {
    "name": "ipython",
    "version": 3
   },
   "file_extension": ".py",
   "mimetype": "text/x-python",
   "name": "python",
   "nbconvert_exporter": "python",
   "pygments_lexer": "ipython3",
   "version": "3.11.5"
  }
 },
 "nbformat": 4,
 "nbformat_minor": 5
}
