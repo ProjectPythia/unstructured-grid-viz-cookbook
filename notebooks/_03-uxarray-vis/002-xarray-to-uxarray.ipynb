{
 "cells": [
  {
   "cell_type": "markdown",
   "id": "43c7b4fd0400a2cf",
   "metadata": {},
   "source": [
    "# Comparison to Xarray\n",
    "---"
   ]
  },
  {
   "cell_type": "markdown",
   "id": "d63bff006f925e79",
   "metadata": {
    "collapsed": false,
    "jupyter": {
     "outputs_hidden": false
    }
   },
   "source": [
    "For users coming from an Xarray background, much of UXarray's design is familiar. This notebook showcases an example of transitioning a Structured Grid Xarray workflow to UXarray."
   ]
  },
  {
   "cell_type": "markdown",
   "id": "7e11308e17c6c3e4",
   "metadata": {
    "collapsed": false,
    "jupyter": {
     "outputs_hidden": false
    }
   },
   "source": [
    "## Imports"
   ]
  },
  {
   "cell_type": "code",
   "execution_count": null,
   "id": "2af9b678e625324e",
   "metadata": {},
   "outputs": [],
   "source": [
    "import matplotlib.pyplot as plt\n",
    "import uxarray as ux\n",
    "import xarray as xr"
   ]
  },
  {
   "cell_type": "code",
   "execution_count": null,
   "id": "a778749cfe150f46",
   "metadata": {
    "collapsed": false,
    "jupyter": {
     "outputs_hidden": false
    }
   },
   "outputs": [],
   "source": [
    "fig_size = 400\n",
    "plot_kwargs = {\"backend\": \"matplotlib\", \"aspect\": 2, \"fig_size\": fig_size}"
   ]
  },
  {
   "cell_type": "markdown",
   "id": "eb783270aa3cd61e",
   "metadata": {},
   "source": [
    "## Data\n",
    "\n",
    "It is common practice to resample unstructured grids to a structured representation for many analysis workflows to utilize familiar and reliable tools. \n",
    "\n",
    "The datasets used in this example are meant to mimic this workflow, with a source Unstructured Grid and a Structured representation of that same grid."
   ]
  },
  {
   "cell_type": "markdown",
   "id": "86adf7bacc16426a",
   "metadata": {},
   "source": [
    "### Structured"
   ]
  },
  {
   "cell_type": "code",
   "execution_count": null,
   "id": "76fbd63614250d5c",
   "metadata": {},
   "outputs": [],
   "source": [
    "base_path = \"../../meshfiles/\"\n",
    "ds_path = base_path + \"outCSne30.structured.nc\""
   ]
  },
  {
   "cell_type": "code",
   "execution_count": null,
   "id": "195a6bb56f3884b2",
   "metadata": {},
   "outputs": [],
   "source": [
    "xrds = xr.open_dataset(ds_path)\n",
    "xrds"
   ]
  },
  {
   "cell_type": "markdown",
   "id": "f1d48b216144c6ae",
   "metadata": {},
   "source": [
    "### Unstructured"
   ]
  },
  {
   "cell_type": "code",
   "execution_count": null,
   "id": "b7b53a674ef8c160",
   "metadata": {},
   "outputs": [],
   "source": [
    "base_path = \"../../meshfiles/\"\n",
    "grid_filename = base_path + \"outCSne30.grid.ug\"\n",
    "data_filename = base_path + \"outCSne30.data.nc\""
   ]
  },
  {
   "cell_type": "code",
   "execution_count": null,
   "id": "4b62b86021023dd9",
   "metadata": {},
   "outputs": [],
   "source": [
    "uxds = ux.open_dataset(grid_filename, data_filename)\n",
    "uxds"
   ]
  },
  {
   "cell_type": "markdown",
   "id": "5a3fd6f861c7d783",
   "metadata": {
    "collapsed": false,
    "jupyter": {
     "outputs_hidden": false
    }
   },
   "source": [
    "## Example Workflows\n",
    "Below are two simple visualization workflows that someone would run into\n",
    "* Creating a single plot\n",
    "* Creating a pair of plots (two different color maps are used to mimic different data)"
   ]
  },
  {
   "cell_type": "markdown",
   "id": "7eac8bf3-06c0-4c8c-95de-cd493f5d786f",
   "metadata": {},
   "source": [
    "### Xarray"
   ]
  },
  {
   "cell_type": "code",
   "execution_count": null,
   "id": "7e6aa862c57fe4da",
   "metadata": {},
   "outputs": [],
   "source": [
    "xrds[\"psi\"].plot(figsize=(12, 5), cmap=\"inferno\")"
   ]
  },
  {
   "cell_type": "code",
   "execution_count": null,
   "id": "eb805e49ec1bb33c",
   "metadata": {},
   "outputs": [],
   "source": [
    "fig, axs = plt.subplots(nrows=2, figsize=(12, 10))\n",
    "\n",
    "xrds[\"psi\"].plot(cmap=\"inferno\", ax=axs[0])\n",
    "xrds[\"psi\"].plot(cmap=\"cividis\", ax=axs[1])"
   ]
  },
  {
   "cell_type": "markdown",
   "id": "07709d9d-0cef-4738-8c34-cd9fd1b08d10",
   "metadata": {},
   "source": [
    "### UXarray"
   ]
  },
  {
   "cell_type": "code",
   "execution_count": null,
   "id": "acac06e7a32e65e",
   "metadata": {
    "collapsed": false,
    "jupyter": {
     "outputs_hidden": false
    }
   },
   "outputs": [],
   "source": [
    "uxds[\"psi\"].plot(width=1000, height=500, cmap=\"inferno\")"
   ]
  },
  {
   "cell_type": "markdown",
   "id": "d8cc8b42-e627-4ba6-962c-bd31e704980e",
   "metadata": {},
   "source": [
    "The default plotting method works great, but we can chose to set `exclude_antimeridian=False` to include the entire grid and generate a better looking plot.  \n",
    "\n",
    "<div class=\"admonition alert alert-info\">\n",
    "    <p class=\"admonition-title\" style=\"font-weight:bold\">See also:</p>\n",
    "    To learn more about this type of plotting functionality and supported parameters, please refer to the \n",
    "    <a href=\"https://projectpythia.org/unstructured-grid-viz-cookbook/notebooks/03-uxarray-vis/03-polygons.html\">Polygon Section</a>\n",
    "</div>"
   ]
  },
  {
   "cell_type": "code",
   "execution_count": null,
   "id": "40c6faab6ef8483e",
   "metadata": {},
   "outputs": [],
   "source": [
    "uxds[\"psi\"].plot(width=1000, height=500, cmap=\"inferno\", exclude_antimeridian=False)"
   ]
  },
  {
   "cell_type": "code",
   "execution_count": null,
   "id": "3d41ac5733a2d96e",
   "metadata": {},
   "outputs": [],
   "source": [
    "(\n",
    "    uxds[\"psi\"].plot(cmap=\"inferno\", exclude_antimeridian=False, **plot_kwargs)\n",
    "    + uxds[\"psi\"].plot(cmap=\"cividis\", exclude_antimeridian=False, **plot_kwargs)\n",
    ").opts(fig_size=fig_size).cols(1)"
   ]
  },
  {
   "cell_type": "markdown",
   "id": "38ecc1cf67fdacfa",
   "metadata": {
    "collapsed": false,
    "jupyter": {
     "outputs_hidden": false
    }
   },
   "source": [
    "### Using `hvPlot` to conbine UXarray and Xarray Plots\n",
    "\n",
    "One of the primary drawbacks to UXarray's use of HoloViews for visualization is that there is no direct way to integrate plots generated with Xarray and UXarray together. This can be alleviated by using the `hvPlot` library, specifically `hvplot.xarray`, on Xarray's data structures. \n",
    "\n",
    "<div class=\"admonition alert alert-info\">\n",
    "    <p class=\"admonition-title\" style=\"font-weight:bold\">See also:</p>\n",
    "    To learn more about hvPlot and xarray, please refer to the\n",
    "    <a href=\"https://hvplot.holoviz.org/user_guide/Gridded_Data.html\">hvPlot Documentation</a>\n",
    "</div>\n"
   ]
  },
  {
   "cell_type": "code",
   "execution_count": null,
   "id": "932414b32ee3e2ea",
   "metadata": {
    "collapsed": false,
    "jupyter": {
     "outputs_hidden": false
    }
   },
   "outputs": [],
   "source": [
    "import holoviews as hv\n",
    "import hvplot.xarray\n",
    "\n",
    "hv.extension(\"bokeh\")"
   ]
  },
  {
   "cell_type": "markdown",
   "id": "ae2fee146e9291ae",
   "metadata": {
    "collapsed": false,
    "jupyter": {
     "outputs_hidden": false
    }
   },
   "source": [
    "By using `xrds.hvplot()` as opposed to `xrds.plot()`, we can create a simple figure showcasing our Structured Grid figure from Xarray and Unstructured Grid figure from UXarray in a single plot. "
   ]
  },
  {
   "cell_type": "code",
   "execution_count": null,
   "id": "54e4a34ce6e94609",
   "metadata": {
    "collapsed": false,
    "jupyter": {
     "outputs_hidden": false
    }
   },
   "outputs": [],
   "source": [
    "hv.extension(\"bokeh\")\n",
    "(\n",
    "    xrds.hvplot(cmap=\"inferno\", title=\"Xarray with hvPlot\", width=1000, height=500)\n",
    "    + uxds[\"psi\"].plot(\n",
    "        cmap=\"inferno\",\n",
    "        title=\"UXarray Plot\",\n",
    "        exclude_antimeridian=False,\n",
    "        width=1000,\n",
    "        height=500,\n",
    "    )\n",
    ").cols(1)"
   ]
  }
 ],
 "metadata": {
  "kernelspec": {
   "display_name": "Python 3 (ipykernel)",
   "language": "python",
   "name": "python3"
  },
  "language_info": {
   "codemirror_mode": {
    "name": "ipython",
    "version": 3
   },
   "file_extension": ".py",
   "mimetype": "text/x-python",
   "name": "python",
   "nbconvert_exporter": "python",
   "pygments_lexer": "ipython3",
   "version": "3.11.5"
  }
 },
 "nbformat": 4,
 "nbformat_minor": 5
}
