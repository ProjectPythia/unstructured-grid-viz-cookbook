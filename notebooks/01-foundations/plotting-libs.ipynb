{
 "cells": [
  {
   "cell_type": "markdown",
   "id": "a107dfa27c1b5b7b",
   "metadata": {},
   "source": [
    "<img src=\"https://raw.githubusercontent.com/UXARRAY/uxarray/main/docs/_static/images/logos/uxarray_logo_h_dark.svg\"\n",
    "     width=\"30%\"\n",
    "     alt=\"UXarray logo\"\n",
    "     align=\"right\"\n",
    "/>\n",
    "\n",
    "# Plotting Libraries\n",
    "\n",
    "### In this tutorial, you'll learn:\n",
    "\n",
    "* TODO: \n",
    "\n",
    "\n",
    "### Related Documentation\n",
    "\n",
    "* [Links to Relevent Documentation](https://uxarray.readthedocs.io/en/latest/user-guide/data-structures.html)\n",
    "\n",
    "### Prerequisites\n",
    "\n",
    "| Concepts | Importance | Notes |\n",
    "| --- | --- | --- |\n",
    "| [Link to Pre-Req](https://pandas.pydata.org/docs/user_guide/10min.html) | Necessary | |\n",
    "\n",
    "* **Time to learn**: x minutes\n",
    "-----\n",
    "\n"
   ]
  },
  {
   "cell_type": "code",
   "execution_count": null,
   "id": "99be9156-a3d5-45e5-903e-00f06d57164a",
   "metadata": {},
   "outputs": [],
   "source": []
  }
 ],
 "metadata": {
  "kernelspec": {
   "display_name": "Python 3 (ipykernel)",
   "language": "python",
   "name": "python3"
  },
  "language_info": {
   "codemirror_mode": {
    "name": "ipython",
    "version": 3
   },
   "file_extension": ".py",
   "mimetype": "text/x-python",
   "name": "python",
   "nbconvert_exporter": "python",
   "pygments_lexer": "ipython3",
   "version": "3.12.3"
  }
 },
 "nbformat": 4,
 "nbformat_minor": 5
}
